{
  "nbformat": 4,
  "nbformat_minor": 0,
  "metadata": {
    "colab": {
      "provenance": []
    },
    "kernelspec": {
      "name": "python3",
      "display_name": "Python 3"
    },
    "language_info": {
      "name": "python"
    }
  },
  "cells": [
    {
      "cell_type": "markdown",
      "source": [
        "## **Wildlife trade**"
      ],
      "metadata": {
        "id": "XxzjkaGoRKQs"
      }
    },
    {
      "cell_type": "markdown",
      "source": [
        "**Introduction**"
      ],
      "metadata": {
        "id": "_Ypk53WCRHIY"
      }
    },
    {
      "cell_type": "markdown",
      "source": [
        "In my wildlife trade analysis project, I delve into the CITES Wildlife Trade Database for the year 2016. The primary focus is on visualizing the import and export patterns of various countries concerning wildlife products and understanding their geographical distribution. The project aims to shed light on the purposes behind the trade of wild animals and how these purposes vary across different countries. Additionally, I explore and illustrate the most traded families in the context of wildlife commerce. Through data visualization and analysis, I aim to provide insights into the dynamics of global wildlife trade and its multifaceted aspects."
      ],
      "metadata": {
        "id": "U0-8dhpNQzIn"
      }
    },
    {
      "cell_type": "markdown",
      "source": [
        "1.1. Appendix"
      ],
      "metadata": {
        "id": "PpOyi3zf2Rzc"
      }
    },
    {
      "cell_type": "code",
      "source": [
        "pip install pandas plotly\n"
      ],
      "metadata": {
        "colab": {
          "base_uri": "https://localhost:8080/"
        },
        "id": "_f-c3t1710Qx",
        "outputId": "3cea1a36-208b-4724-f95b-bcdd3baf5194"
      },
      "execution_count": 4,
      "outputs": [
        {
          "output_type": "stream",
          "name": "stdout",
          "text": [
            "Requirement already satisfied: pandas in /usr/local/lib/python3.10/dist-packages (1.5.3)\n",
            "Requirement already satisfied: plotly in /usr/local/lib/python3.10/dist-packages (5.15.0)\n",
            "Requirement already satisfied: python-dateutil>=2.8.1 in /usr/local/lib/python3.10/dist-packages (from pandas) (2.8.2)\n",
            "Requirement already satisfied: pytz>=2020.1 in /usr/local/lib/python3.10/dist-packages (from pandas) (2023.3.post1)\n",
            "Requirement already satisfied: numpy>=1.21.0 in /usr/local/lib/python3.10/dist-packages (from pandas) (1.23.5)\n",
            "Requirement already satisfied: tenacity>=6.2.0 in /usr/local/lib/python3.10/dist-packages (from plotly) (8.2.3)\n",
            "Requirement already satisfied: packaging in /usr/local/lib/python3.10/dist-packages (from plotly) (23.2)\n",
            "Requirement already satisfied: six>=1.5 in /usr/local/lib/python3.10/dist-packages (from python-dateutil>=2.8.1->pandas) (1.16.0)\n"
          ]
        }
      ]
    },
    {
      "cell_type": "code",
      "source": [
        "import pandas as pd\n",
        "import plotly.graph_objs as go\n",
        "import plotly.offline as pyo\n",
        "\n",
        "# Read data from the CSV file\n",
        "wildlife_data = pd.read_csv('wildlife.csv')\n",
        "\n",
        "# Assuming 'App.' is a column in your CSV file\n",
        "appendix = wildlife_data['App.'].value_counts().sort_index()\n",
        "\n",
        "data = [\n",
        "    go.Bar(\n",
        "        x=appendix.index,\n",
        "        y=appendix,\n",
        "        textfont=dict(size=16, color='#333'),\n",
        "        marker=dict(\n",
        "            line=dict(\n",
        "                color='rgba(50,25,25,0.5)',\n",
        "                width=1.5\n",
        "            )\n",
        "        )\n",
        "    )\n",
        "]\n",
        "\n",
        "layout = go.Layout(\n",
        "    autosize=False,\n",
        "    width=600,\n",
        "    height=400,\n",
        "    title='The most traded by appendix'\n",
        ")\n",
        "\n",
        "fig = go.Figure(data=data, layout=layout)\n",
        "\n",
        "# Use pyo.plot instead of py.iplot if you are working offline\n",
        "pyo.iplot(fig, filename='appendix_chart')\n"
      ],
      "metadata": {
        "colab": {
          "base_uri": "https://localhost:8080/",
          "height": 417
        },
        "id": "UgSuOLei2GTx",
        "outputId": "d54429a2-8697-45fd-aab3-44cae1155c2f"
      },
      "execution_count": 6,
      "outputs": [
        {
          "output_type": "display_data",
          "data": {
            "text/html": [
              "<html>\n",
              "<head><meta charset=\"utf-8\" /></head>\n",
              "<body>\n",
              "    <div>            <script src=\"https://cdnjs.cloudflare.com/ajax/libs/mathjax/2.7.5/MathJax.js?config=TeX-AMS-MML_SVG\"></script><script type=\"text/javascript\">if (window.MathJax && window.MathJax.Hub && window.MathJax.Hub.Config) {window.MathJax.Hub.Config({SVG: {font: \"STIX-Web\"}});}</script>                <script type=\"text/javascript\">window.PlotlyConfig = {MathJaxConfig: 'local'};</script>\n",
              "        <script charset=\"utf-8\" src=\"https://cdn.plot.ly/plotly-2.24.1.min.js\"></script>                <div id=\"9f3e1a84-3ed9-4dbc-8db6-d117013dba26\" class=\"plotly-graph-div\" style=\"height:400px; width:600px;\"></div>            <script type=\"text/javascript\">                                    window.PLOTLYENV=window.PLOTLYENV || {};                                    if (document.getElementById(\"9f3e1a84-3ed9-4dbc-8db6-d117013dba26\")) {                    Plotly.newPlot(                        \"9f3e1a84-3ed9-4dbc-8db6-d117013dba26\",                        [{\"marker\":{\"line\":{\"color\":\"rgba(50,25,25,0.5)\",\"width\":1.5}},\"textfont\":{\"color\":\"#333\",\"size\":16},\"x\":[\"I\",\"II\",\"III\",\"N\"],\"y\":[5976,59253,1739,193],\"type\":\"bar\"}],                        {\"autosize\":false,\"height\":400,\"template\":{\"data\":{\"barpolar\":[{\"marker\":{\"line\":{\"color\":\"#E5ECF6\",\"width\":0.5},\"pattern\":{\"fillmode\":\"overlay\",\"size\":10,\"solidity\":0.2}},\"type\":\"barpolar\"}],\"bar\":[{\"error_x\":{\"color\":\"#2a3f5f\"},\"error_y\":{\"color\":\"#2a3f5f\"},\"marker\":{\"line\":{\"color\":\"#E5ECF6\",\"width\":0.5},\"pattern\":{\"fillmode\":\"overlay\",\"size\":10,\"solidity\":0.2}},\"type\":\"bar\"}],\"carpet\":[{\"aaxis\":{\"endlinecolor\":\"#2a3f5f\",\"gridcolor\":\"white\",\"linecolor\":\"white\",\"minorgridcolor\":\"white\",\"startlinecolor\":\"#2a3f5f\"},\"baxis\":{\"endlinecolor\":\"#2a3f5f\",\"gridcolor\":\"white\",\"linecolor\":\"white\",\"minorgridcolor\":\"white\",\"startlinecolor\":\"#2a3f5f\"},\"type\":\"carpet\"}],\"choropleth\":[{\"colorbar\":{\"outlinewidth\":0,\"ticks\":\"\"},\"type\":\"choropleth\"}],\"contourcarpet\":[{\"colorbar\":{\"outlinewidth\":0,\"ticks\":\"\"},\"type\":\"contourcarpet\"}],\"contour\":[{\"colorbar\":{\"outlinewidth\":0,\"ticks\":\"\"},\"colorscale\":[[0.0,\"#0d0887\"],[0.1111111111111111,\"#46039f\"],[0.2222222222222222,\"#7201a8\"],[0.3333333333333333,\"#9c179e\"],[0.4444444444444444,\"#bd3786\"],[0.5555555555555556,\"#d8576b\"],[0.6666666666666666,\"#ed7953\"],[0.7777777777777778,\"#fb9f3a\"],[0.8888888888888888,\"#fdca26\"],[1.0,\"#f0f921\"]],\"type\":\"contour\"}],\"heatmapgl\":[{\"colorbar\":{\"outlinewidth\":0,\"ticks\":\"\"},\"colorscale\":[[0.0,\"#0d0887\"],[0.1111111111111111,\"#46039f\"],[0.2222222222222222,\"#7201a8\"],[0.3333333333333333,\"#9c179e\"],[0.4444444444444444,\"#bd3786\"],[0.5555555555555556,\"#d8576b\"],[0.6666666666666666,\"#ed7953\"],[0.7777777777777778,\"#fb9f3a\"],[0.8888888888888888,\"#fdca26\"],[1.0,\"#f0f921\"]],\"type\":\"heatmapgl\"}],\"heatmap\":[{\"colorbar\":{\"outlinewidth\":0,\"ticks\":\"\"},\"colorscale\":[[0.0,\"#0d0887\"],[0.1111111111111111,\"#46039f\"],[0.2222222222222222,\"#7201a8\"],[0.3333333333333333,\"#9c179e\"],[0.4444444444444444,\"#bd3786\"],[0.5555555555555556,\"#d8576b\"],[0.6666666666666666,\"#ed7953\"],[0.7777777777777778,\"#fb9f3a\"],[0.8888888888888888,\"#fdca26\"],[1.0,\"#f0f921\"]],\"type\":\"heatmap\"}],\"histogram2dcontour\":[{\"colorbar\":{\"outlinewidth\":0,\"ticks\":\"\"},\"colorscale\":[[0.0,\"#0d0887\"],[0.1111111111111111,\"#46039f\"],[0.2222222222222222,\"#7201a8\"],[0.3333333333333333,\"#9c179e\"],[0.4444444444444444,\"#bd3786\"],[0.5555555555555556,\"#d8576b\"],[0.6666666666666666,\"#ed7953\"],[0.7777777777777778,\"#fb9f3a\"],[0.8888888888888888,\"#fdca26\"],[1.0,\"#f0f921\"]],\"type\":\"histogram2dcontour\"}],\"histogram2d\":[{\"colorbar\":{\"outlinewidth\":0,\"ticks\":\"\"},\"colorscale\":[[0.0,\"#0d0887\"],[0.1111111111111111,\"#46039f\"],[0.2222222222222222,\"#7201a8\"],[0.3333333333333333,\"#9c179e\"],[0.4444444444444444,\"#bd3786\"],[0.5555555555555556,\"#d8576b\"],[0.6666666666666666,\"#ed7953\"],[0.7777777777777778,\"#fb9f3a\"],[0.8888888888888888,\"#fdca26\"],[1.0,\"#f0f921\"]],\"type\":\"histogram2d\"}],\"histogram\":[{\"marker\":{\"pattern\":{\"fillmode\":\"overlay\",\"size\":10,\"solidity\":0.2}},\"type\":\"histogram\"}],\"mesh3d\":[{\"colorbar\":{\"outlinewidth\":0,\"ticks\":\"\"},\"type\":\"mesh3d\"}],\"parcoords\":[{\"line\":{\"colorbar\":{\"outlinewidth\":0,\"ticks\":\"\"}},\"type\":\"parcoords\"}],\"pie\":[{\"automargin\":true,\"type\":\"pie\"}],\"scatter3d\":[{\"line\":{\"colorbar\":{\"outlinewidth\":0,\"ticks\":\"\"}},\"marker\":{\"colorbar\":{\"outlinewidth\":0,\"ticks\":\"\"}},\"type\":\"scatter3d\"}],\"scattercarpet\":[{\"marker\":{\"colorbar\":{\"outlinewidth\":0,\"ticks\":\"\"}},\"type\":\"scattercarpet\"}],\"scattergeo\":[{\"marker\":{\"colorbar\":{\"outlinewidth\":0,\"ticks\":\"\"}},\"type\":\"scattergeo\"}],\"scattergl\":[{\"marker\":{\"colorbar\":{\"outlinewidth\":0,\"ticks\":\"\"}},\"type\":\"scattergl\"}],\"scattermapbox\":[{\"marker\":{\"colorbar\":{\"outlinewidth\":0,\"ticks\":\"\"}},\"type\":\"scattermapbox\"}],\"scatterpolargl\":[{\"marker\":{\"colorbar\":{\"outlinewidth\":0,\"ticks\":\"\"}},\"type\":\"scatterpolargl\"}],\"scatterpolar\":[{\"marker\":{\"colorbar\":{\"outlinewidth\":0,\"ticks\":\"\"}},\"type\":\"scatterpolar\"}],\"scatter\":[{\"fillpattern\":{\"fillmode\":\"overlay\",\"size\":10,\"solidity\":0.2},\"type\":\"scatter\"}],\"scatterternary\":[{\"marker\":{\"colorbar\":{\"outlinewidth\":0,\"ticks\":\"\"}},\"type\":\"scatterternary\"}],\"surface\":[{\"colorbar\":{\"outlinewidth\":0,\"ticks\":\"\"},\"colorscale\":[[0.0,\"#0d0887\"],[0.1111111111111111,\"#46039f\"],[0.2222222222222222,\"#7201a8\"],[0.3333333333333333,\"#9c179e\"],[0.4444444444444444,\"#bd3786\"],[0.5555555555555556,\"#d8576b\"],[0.6666666666666666,\"#ed7953\"],[0.7777777777777778,\"#fb9f3a\"],[0.8888888888888888,\"#fdca26\"],[1.0,\"#f0f921\"]],\"type\":\"surface\"}],\"table\":[{\"cells\":{\"fill\":{\"color\":\"#EBF0F8\"},\"line\":{\"color\":\"white\"}},\"header\":{\"fill\":{\"color\":\"#C8D4E3\"},\"line\":{\"color\":\"white\"}},\"type\":\"table\"}]},\"layout\":{\"annotationdefaults\":{\"arrowcolor\":\"#2a3f5f\",\"arrowhead\":0,\"arrowwidth\":1},\"autotypenumbers\":\"strict\",\"coloraxis\":{\"colorbar\":{\"outlinewidth\":0,\"ticks\":\"\"}},\"colorscale\":{\"diverging\":[[0,\"#8e0152\"],[0.1,\"#c51b7d\"],[0.2,\"#de77ae\"],[0.3,\"#f1b6da\"],[0.4,\"#fde0ef\"],[0.5,\"#f7f7f7\"],[0.6,\"#e6f5d0\"],[0.7,\"#b8e186\"],[0.8,\"#7fbc41\"],[0.9,\"#4d9221\"],[1,\"#276419\"]],\"sequential\":[[0.0,\"#0d0887\"],[0.1111111111111111,\"#46039f\"],[0.2222222222222222,\"#7201a8\"],[0.3333333333333333,\"#9c179e\"],[0.4444444444444444,\"#bd3786\"],[0.5555555555555556,\"#d8576b\"],[0.6666666666666666,\"#ed7953\"],[0.7777777777777778,\"#fb9f3a\"],[0.8888888888888888,\"#fdca26\"],[1.0,\"#f0f921\"]],\"sequentialminus\":[[0.0,\"#0d0887\"],[0.1111111111111111,\"#46039f\"],[0.2222222222222222,\"#7201a8\"],[0.3333333333333333,\"#9c179e\"],[0.4444444444444444,\"#bd3786\"],[0.5555555555555556,\"#d8576b\"],[0.6666666666666666,\"#ed7953\"],[0.7777777777777778,\"#fb9f3a\"],[0.8888888888888888,\"#fdca26\"],[1.0,\"#f0f921\"]]},\"colorway\":[\"#636efa\",\"#EF553B\",\"#00cc96\",\"#ab63fa\",\"#FFA15A\",\"#19d3f3\",\"#FF6692\",\"#B6E880\",\"#FF97FF\",\"#FECB52\"],\"font\":{\"color\":\"#2a3f5f\"},\"geo\":{\"bgcolor\":\"white\",\"lakecolor\":\"white\",\"landcolor\":\"#E5ECF6\",\"showlakes\":true,\"showland\":true,\"subunitcolor\":\"white\"},\"hoverlabel\":{\"align\":\"left\"},\"hovermode\":\"closest\",\"mapbox\":{\"style\":\"light\"},\"paper_bgcolor\":\"white\",\"plot_bgcolor\":\"#E5ECF6\",\"polar\":{\"angularaxis\":{\"gridcolor\":\"white\",\"linecolor\":\"white\",\"ticks\":\"\"},\"bgcolor\":\"#E5ECF6\",\"radialaxis\":{\"gridcolor\":\"white\",\"linecolor\":\"white\",\"ticks\":\"\"}},\"scene\":{\"xaxis\":{\"backgroundcolor\":\"#E5ECF6\",\"gridcolor\":\"white\",\"gridwidth\":2,\"linecolor\":\"white\",\"showbackground\":true,\"ticks\":\"\",\"zerolinecolor\":\"white\"},\"yaxis\":{\"backgroundcolor\":\"#E5ECF6\",\"gridcolor\":\"white\",\"gridwidth\":2,\"linecolor\":\"white\",\"showbackground\":true,\"ticks\":\"\",\"zerolinecolor\":\"white\"},\"zaxis\":{\"backgroundcolor\":\"#E5ECF6\",\"gridcolor\":\"white\",\"gridwidth\":2,\"linecolor\":\"white\",\"showbackground\":true,\"ticks\":\"\",\"zerolinecolor\":\"white\"}},\"shapedefaults\":{\"line\":{\"color\":\"#2a3f5f\"}},\"ternary\":{\"aaxis\":{\"gridcolor\":\"white\",\"linecolor\":\"white\",\"ticks\":\"\"},\"baxis\":{\"gridcolor\":\"white\",\"linecolor\":\"white\",\"ticks\":\"\"},\"bgcolor\":\"#E5ECF6\",\"caxis\":{\"gridcolor\":\"white\",\"linecolor\":\"white\",\"ticks\":\"\"}},\"title\":{\"x\":0.05},\"xaxis\":{\"automargin\":true,\"gridcolor\":\"white\",\"linecolor\":\"white\",\"ticks\":\"\",\"title\":{\"standoff\":15},\"zerolinecolor\":\"white\",\"zerolinewidth\":2},\"yaxis\":{\"automargin\":true,\"gridcolor\":\"white\",\"linecolor\":\"white\",\"ticks\":\"\",\"title\":{\"standoff\":15},\"zerolinecolor\":\"white\",\"zerolinewidth\":2}}},\"title\":{\"text\":\"The most traded by appendix\"},\"width\":600},                        {\"responsive\": true}                    ).then(function(){\n",
              "                            \n",
              "var gd = document.getElementById('9f3e1a84-3ed9-4dbc-8db6-d117013dba26');\n",
              "var x = new MutationObserver(function (mutations, observer) {{\n",
              "        var display = window.getComputedStyle(gd).display;\n",
              "        if (!display || display === 'none') {{\n",
              "            console.log([gd, 'removed!']);\n",
              "            Plotly.purge(gd);\n",
              "            observer.disconnect();\n",
              "        }}\n",
              "}});\n",
              "\n",
              "// Listen for the removal of the full notebook cells\n",
              "var notebookContainer = gd.closest('#notebook-container');\n",
              "if (notebookContainer) {{\n",
              "    x.observe(notebookContainer, {childList: true});\n",
              "}}\n",
              "\n",
              "// Listen for the clearing of the current output cell\n",
              "var outputEl = gd.closest('.output');\n",
              "if (outputEl) {{\n",
              "    x.observe(outputEl, {childList: true});\n",
              "}}\n",
              "\n",
              "                        })                };                            </script>        </div>\n",
              "</body>\n",
              "</html>"
            ]
          },
          "metadata": {}
        }
      ]
    },
    {
      "cell_type": "markdown",
      "source": [
        "1.2. Classes"
      ],
      "metadata": {
        "id": "kc2GCtD52X3e"
      }
    },
    {
      "cell_type": "code",
      "source": [
        "import pandas as pd\n",
        "import plotly.graph_objs as go\n",
        "import plotly.offline as pyo\n",
        "\n",
        "# Read data from the CSV file (replace 'wildlife.csv' with your actual filename)\n",
        "species = pd.read_csv('wildlife.csv')\n",
        "\n",
        "classes = species['Class'].value_counts()\n",
        "\n",
        "data = [\n",
        "    go.Bar(\n",
        "        x=classes.index,\n",
        "        y=classes,\n",
        "        textfont=dict(size=16, color='#333'),\n",
        "        marker=dict(\n",
        "            line=dict(width=1.5)\n",
        "        )\n",
        "    )\n",
        "]\n",
        "\n",
        "layout = go.Layout(\n",
        "    autosize=False,\n",
        "    width=800,\n",
        "    height=400,\n",
        "    title='The most traded wildlife by class'\n",
        ")\n",
        "\n",
        "fig = go.Figure(data=data, layout=layout)\n",
        "\n",
        "# Use pyo.plot instead of py.iplot if you are working offline\n",
        "pyo.iplot(fig, filename='classes_chart')\n"
      ],
      "metadata": {
        "colab": {
          "base_uri": "https://localhost:8080/",
          "height": 417
        },
        "id": "YX3dKv252cST",
        "outputId": "5f5256ca-f3a7-41b5-8653-da94d6284340"
      },
      "execution_count": 7,
      "outputs": [
        {
          "output_type": "display_data",
          "data": {
            "text/html": [
              "<html>\n",
              "<head><meta charset=\"utf-8\" /></head>\n",
              "<body>\n",
              "    <div>            <script src=\"https://cdnjs.cloudflare.com/ajax/libs/mathjax/2.7.5/MathJax.js?config=TeX-AMS-MML_SVG\"></script><script type=\"text/javascript\">if (window.MathJax && window.MathJax.Hub && window.MathJax.Hub.Config) {window.MathJax.Hub.Config({SVG: {font: \"STIX-Web\"}});}</script>                <script type=\"text/javascript\">window.PlotlyConfig = {MathJaxConfig: 'local'};</script>\n",
              "        <script charset=\"utf-8\" src=\"https://cdn.plot.ly/plotly-2.24.1.min.js\"></script>                <div id=\"9c389c88-e19c-4756-89dd-011137b348f7\" class=\"plotly-graph-div\" style=\"height:400px; width:800px;\"></div>            <script type=\"text/javascript\">                                    window.PLOTLYENV=window.PLOTLYENV || {};                                    if (document.getElementById(\"9c389c88-e19c-4756-89dd-011137b348f7\")) {                    Plotly.newPlot(                        \"9c389c88-e19c-4756-89dd-011137b348f7\",                        [{\"marker\":{\"line\":{\"width\":1.5}},\"textfont\":{\"color\":\"#333\",\"size\":16},\"x\":[\"Reptilia\",\"Anthozoa\",\"Mammalia\",\"Aves\",\"Actinopteri\",\"Amphibia\",\"Insecta\",\"Bivalvia\",\"Gastropoda\",\"Hydrozoa\",\"Elasmobranchii\",\"Arachnida\",\"Hirudinoidea\",\"Holothuroidea\",\"Dipneusti\",\"Coelacanthi\"],\"y\":[18430,8781,8505,6861,2759,420,310,269,191,181,113,67,34,10,4,2],\"type\":\"bar\"}],                        {\"autosize\":false,\"height\":400,\"template\":{\"data\":{\"barpolar\":[{\"marker\":{\"line\":{\"color\":\"#E5ECF6\",\"width\":0.5},\"pattern\":{\"fillmode\":\"overlay\",\"size\":10,\"solidity\":0.2}},\"type\":\"barpolar\"}],\"bar\":[{\"error_x\":{\"color\":\"#2a3f5f\"},\"error_y\":{\"color\":\"#2a3f5f\"},\"marker\":{\"line\":{\"color\":\"#E5ECF6\",\"width\":0.5},\"pattern\":{\"fillmode\":\"overlay\",\"size\":10,\"solidity\":0.2}},\"type\":\"bar\"}],\"carpet\":[{\"aaxis\":{\"endlinecolor\":\"#2a3f5f\",\"gridcolor\":\"white\",\"linecolor\":\"white\",\"minorgridcolor\":\"white\",\"startlinecolor\":\"#2a3f5f\"},\"baxis\":{\"endlinecolor\":\"#2a3f5f\",\"gridcolor\":\"white\",\"linecolor\":\"white\",\"minorgridcolor\":\"white\",\"startlinecolor\":\"#2a3f5f\"},\"type\":\"carpet\"}],\"choropleth\":[{\"colorbar\":{\"outlinewidth\":0,\"ticks\":\"\"},\"type\":\"choropleth\"}],\"contourcarpet\":[{\"colorbar\":{\"outlinewidth\":0,\"ticks\":\"\"},\"type\":\"contourcarpet\"}],\"contour\":[{\"colorbar\":{\"outlinewidth\":0,\"ticks\":\"\"},\"colorscale\":[[0.0,\"#0d0887\"],[0.1111111111111111,\"#46039f\"],[0.2222222222222222,\"#7201a8\"],[0.3333333333333333,\"#9c179e\"],[0.4444444444444444,\"#bd3786\"],[0.5555555555555556,\"#d8576b\"],[0.6666666666666666,\"#ed7953\"],[0.7777777777777778,\"#fb9f3a\"],[0.8888888888888888,\"#fdca26\"],[1.0,\"#f0f921\"]],\"type\":\"contour\"}],\"heatmapgl\":[{\"colorbar\":{\"outlinewidth\":0,\"ticks\":\"\"},\"colorscale\":[[0.0,\"#0d0887\"],[0.1111111111111111,\"#46039f\"],[0.2222222222222222,\"#7201a8\"],[0.3333333333333333,\"#9c179e\"],[0.4444444444444444,\"#bd3786\"],[0.5555555555555556,\"#d8576b\"],[0.6666666666666666,\"#ed7953\"],[0.7777777777777778,\"#fb9f3a\"],[0.8888888888888888,\"#fdca26\"],[1.0,\"#f0f921\"]],\"type\":\"heatmapgl\"}],\"heatmap\":[{\"colorbar\":{\"outlinewidth\":0,\"ticks\":\"\"},\"colorscale\":[[0.0,\"#0d0887\"],[0.1111111111111111,\"#46039f\"],[0.2222222222222222,\"#7201a8\"],[0.3333333333333333,\"#9c179e\"],[0.4444444444444444,\"#bd3786\"],[0.5555555555555556,\"#d8576b\"],[0.6666666666666666,\"#ed7953\"],[0.7777777777777778,\"#fb9f3a\"],[0.8888888888888888,\"#fdca26\"],[1.0,\"#f0f921\"]],\"type\":\"heatmap\"}],\"histogram2dcontour\":[{\"colorbar\":{\"outlinewidth\":0,\"ticks\":\"\"},\"colorscale\":[[0.0,\"#0d0887\"],[0.1111111111111111,\"#46039f\"],[0.2222222222222222,\"#7201a8\"],[0.3333333333333333,\"#9c179e\"],[0.4444444444444444,\"#bd3786\"],[0.5555555555555556,\"#d8576b\"],[0.6666666666666666,\"#ed7953\"],[0.7777777777777778,\"#fb9f3a\"],[0.8888888888888888,\"#fdca26\"],[1.0,\"#f0f921\"]],\"type\":\"histogram2dcontour\"}],\"histogram2d\":[{\"colorbar\":{\"outlinewidth\":0,\"ticks\":\"\"},\"colorscale\":[[0.0,\"#0d0887\"],[0.1111111111111111,\"#46039f\"],[0.2222222222222222,\"#7201a8\"],[0.3333333333333333,\"#9c179e\"],[0.4444444444444444,\"#bd3786\"],[0.5555555555555556,\"#d8576b\"],[0.6666666666666666,\"#ed7953\"],[0.7777777777777778,\"#fb9f3a\"],[0.8888888888888888,\"#fdca26\"],[1.0,\"#f0f921\"]],\"type\":\"histogram2d\"}],\"histogram\":[{\"marker\":{\"pattern\":{\"fillmode\":\"overlay\",\"size\":10,\"solidity\":0.2}},\"type\":\"histogram\"}],\"mesh3d\":[{\"colorbar\":{\"outlinewidth\":0,\"ticks\":\"\"},\"type\":\"mesh3d\"}],\"parcoords\":[{\"line\":{\"colorbar\":{\"outlinewidth\":0,\"ticks\":\"\"}},\"type\":\"parcoords\"}],\"pie\":[{\"automargin\":true,\"type\":\"pie\"}],\"scatter3d\":[{\"line\":{\"colorbar\":{\"outlinewidth\":0,\"ticks\":\"\"}},\"marker\":{\"colorbar\":{\"outlinewidth\":0,\"ticks\":\"\"}},\"type\":\"scatter3d\"}],\"scattercarpet\":[{\"marker\":{\"colorbar\":{\"outlinewidth\":0,\"ticks\":\"\"}},\"type\":\"scattercarpet\"}],\"scattergeo\":[{\"marker\":{\"colorbar\":{\"outlinewidth\":0,\"ticks\":\"\"}},\"type\":\"scattergeo\"}],\"scattergl\":[{\"marker\":{\"colorbar\":{\"outlinewidth\":0,\"ticks\":\"\"}},\"type\":\"scattergl\"}],\"scattermapbox\":[{\"marker\":{\"colorbar\":{\"outlinewidth\":0,\"ticks\":\"\"}},\"type\":\"scattermapbox\"}],\"scatterpolargl\":[{\"marker\":{\"colorbar\":{\"outlinewidth\":0,\"ticks\":\"\"}},\"type\":\"scatterpolargl\"}],\"scatterpolar\":[{\"marker\":{\"colorbar\":{\"outlinewidth\":0,\"ticks\":\"\"}},\"type\":\"scatterpolar\"}],\"scatter\":[{\"fillpattern\":{\"fillmode\":\"overlay\",\"size\":10,\"solidity\":0.2},\"type\":\"scatter\"}],\"scatterternary\":[{\"marker\":{\"colorbar\":{\"outlinewidth\":0,\"ticks\":\"\"}},\"type\":\"scatterternary\"}],\"surface\":[{\"colorbar\":{\"outlinewidth\":0,\"ticks\":\"\"},\"colorscale\":[[0.0,\"#0d0887\"],[0.1111111111111111,\"#46039f\"],[0.2222222222222222,\"#7201a8\"],[0.3333333333333333,\"#9c179e\"],[0.4444444444444444,\"#bd3786\"],[0.5555555555555556,\"#d8576b\"],[0.6666666666666666,\"#ed7953\"],[0.7777777777777778,\"#fb9f3a\"],[0.8888888888888888,\"#fdca26\"],[1.0,\"#f0f921\"]],\"type\":\"surface\"}],\"table\":[{\"cells\":{\"fill\":{\"color\":\"#EBF0F8\"},\"line\":{\"color\":\"white\"}},\"header\":{\"fill\":{\"color\":\"#C8D4E3\"},\"line\":{\"color\":\"white\"}},\"type\":\"table\"}]},\"layout\":{\"annotationdefaults\":{\"arrowcolor\":\"#2a3f5f\",\"arrowhead\":0,\"arrowwidth\":1},\"autotypenumbers\":\"strict\",\"coloraxis\":{\"colorbar\":{\"outlinewidth\":0,\"ticks\":\"\"}},\"colorscale\":{\"diverging\":[[0,\"#8e0152\"],[0.1,\"#c51b7d\"],[0.2,\"#de77ae\"],[0.3,\"#f1b6da\"],[0.4,\"#fde0ef\"],[0.5,\"#f7f7f7\"],[0.6,\"#e6f5d0\"],[0.7,\"#b8e186\"],[0.8,\"#7fbc41\"],[0.9,\"#4d9221\"],[1,\"#276419\"]],\"sequential\":[[0.0,\"#0d0887\"],[0.1111111111111111,\"#46039f\"],[0.2222222222222222,\"#7201a8\"],[0.3333333333333333,\"#9c179e\"],[0.4444444444444444,\"#bd3786\"],[0.5555555555555556,\"#d8576b\"],[0.6666666666666666,\"#ed7953\"],[0.7777777777777778,\"#fb9f3a\"],[0.8888888888888888,\"#fdca26\"],[1.0,\"#f0f921\"]],\"sequentialminus\":[[0.0,\"#0d0887\"],[0.1111111111111111,\"#46039f\"],[0.2222222222222222,\"#7201a8\"],[0.3333333333333333,\"#9c179e\"],[0.4444444444444444,\"#bd3786\"],[0.5555555555555556,\"#d8576b\"],[0.6666666666666666,\"#ed7953\"],[0.7777777777777778,\"#fb9f3a\"],[0.8888888888888888,\"#fdca26\"],[1.0,\"#f0f921\"]]},\"colorway\":[\"#636efa\",\"#EF553B\",\"#00cc96\",\"#ab63fa\",\"#FFA15A\",\"#19d3f3\",\"#FF6692\",\"#B6E880\",\"#FF97FF\",\"#FECB52\"],\"font\":{\"color\":\"#2a3f5f\"},\"geo\":{\"bgcolor\":\"white\",\"lakecolor\":\"white\",\"landcolor\":\"#E5ECF6\",\"showlakes\":true,\"showland\":true,\"subunitcolor\":\"white\"},\"hoverlabel\":{\"align\":\"left\"},\"hovermode\":\"closest\",\"mapbox\":{\"style\":\"light\"},\"paper_bgcolor\":\"white\",\"plot_bgcolor\":\"#E5ECF6\",\"polar\":{\"angularaxis\":{\"gridcolor\":\"white\",\"linecolor\":\"white\",\"ticks\":\"\"},\"bgcolor\":\"#E5ECF6\",\"radialaxis\":{\"gridcolor\":\"white\",\"linecolor\":\"white\",\"ticks\":\"\"}},\"scene\":{\"xaxis\":{\"backgroundcolor\":\"#E5ECF6\",\"gridcolor\":\"white\",\"gridwidth\":2,\"linecolor\":\"white\",\"showbackground\":true,\"ticks\":\"\",\"zerolinecolor\":\"white\"},\"yaxis\":{\"backgroundcolor\":\"#E5ECF6\",\"gridcolor\":\"white\",\"gridwidth\":2,\"linecolor\":\"white\",\"showbackground\":true,\"ticks\":\"\",\"zerolinecolor\":\"white\"},\"zaxis\":{\"backgroundcolor\":\"#E5ECF6\",\"gridcolor\":\"white\",\"gridwidth\":2,\"linecolor\":\"white\",\"showbackground\":true,\"ticks\":\"\",\"zerolinecolor\":\"white\"}},\"shapedefaults\":{\"line\":{\"color\":\"#2a3f5f\"}},\"ternary\":{\"aaxis\":{\"gridcolor\":\"white\",\"linecolor\":\"white\",\"ticks\":\"\"},\"baxis\":{\"gridcolor\":\"white\",\"linecolor\":\"white\",\"ticks\":\"\"},\"bgcolor\":\"#E5ECF6\",\"caxis\":{\"gridcolor\":\"white\",\"linecolor\":\"white\",\"ticks\":\"\"}},\"title\":{\"x\":0.05},\"xaxis\":{\"automargin\":true,\"gridcolor\":\"white\",\"linecolor\":\"white\",\"ticks\":\"\",\"title\":{\"standoff\":15},\"zerolinecolor\":\"white\",\"zerolinewidth\":2},\"yaxis\":{\"automargin\":true,\"gridcolor\":\"white\",\"linecolor\":\"white\",\"ticks\":\"\",\"title\":{\"standoff\":15},\"zerolinecolor\":\"white\",\"zerolinewidth\":2}}},\"title\":{\"text\":\"The most traded wildlife by class\"},\"width\":800},                        {\"responsive\": true}                    ).then(function(){\n",
              "                            \n",
              "var gd = document.getElementById('9c389c88-e19c-4756-89dd-011137b348f7');\n",
              "var x = new MutationObserver(function (mutations, observer) {{\n",
              "        var display = window.getComputedStyle(gd).display;\n",
              "        if (!display || display === 'none') {{\n",
              "            console.log([gd, 'removed!']);\n",
              "            Plotly.purge(gd);\n",
              "            observer.disconnect();\n",
              "        }}\n",
              "}});\n",
              "\n",
              "// Listen for the removal of the full notebook cells\n",
              "var notebookContainer = gd.closest('#notebook-container');\n",
              "if (notebookContainer) {{\n",
              "    x.observe(notebookContainer, {childList: true});\n",
              "}}\n",
              "\n",
              "// Listen for the clearing of the current output cell\n",
              "var outputEl = gd.closest('.output');\n",
              "if (outputEl) {{\n",
              "    x.observe(outputEl, {childList: true});\n",
              "}}\n",
              "\n",
              "                        })                };                            </script>        </div>\n",
              "</body>\n",
              "</html>"
            ]
          },
          "metadata": {}
        }
      ]
    },
    {
      "cell_type": "markdown",
      "source": [
        "1.3. Terms"
      ],
      "metadata": {
        "id": "q99opFeo2xv-"
      }
    },
    {
      "cell_type": "code",
      "source": [
        "import pandas as pd\n",
        "import plotly.graph_objs as go\n",
        "import plotly.offline as pyo\n",
        "\n",
        "# Read data from the CSV file\n",
        "species = pd.read_csv('wildlife.csv')\n",
        "\n",
        "terms = species['Term'].value_counts()[:10]\n",
        "\n",
        "data = [\n",
        "    go.Bar(\n",
        "        x=terms.index,\n",
        "        y=terms,\n",
        "        textfont=dict(size=16, color='#333'),\n",
        "        marker=dict(\n",
        "            line=dict(width=1.5)\n",
        "        )\n",
        "    )\n",
        "]\n",
        "\n",
        "layout = go.Layout(\n",
        "    autosize=False,\n",
        "    width=800,\n",
        "    height=400,\n",
        "    title='The most traded by term'\n",
        ")\n",
        "\n",
        "fig = go.Figure(data=data, layout=layout)\n",
        "\n",
        "# Use pyo.plot instead of py.iplot if you are working offline\n",
        "pyo.iplot(fig, filename='terms_chart')\n"
      ],
      "metadata": {
        "colab": {
          "base_uri": "https://localhost:8080/",
          "height": 417
        },
        "id": "-6WvVTVr230w",
        "outputId": "d12f9407-a886-4efd-fc75-60bba631e812"
      },
      "execution_count": 8,
      "outputs": [
        {
          "output_type": "display_data",
          "data": {
            "text/html": [
              "<html>\n",
              "<head><meta charset=\"utf-8\" /></head>\n",
              "<body>\n",
              "    <div>            <script src=\"https://cdnjs.cloudflare.com/ajax/libs/mathjax/2.7.5/MathJax.js?config=TeX-AMS-MML_SVG\"></script><script type=\"text/javascript\">if (window.MathJax && window.MathJax.Hub && window.MathJax.Hub.Config) {window.MathJax.Hub.Config({SVG: {font: \"STIX-Web\"}});}</script>                <script type=\"text/javascript\">window.PlotlyConfig = {MathJaxConfig: 'local'};</script>\n",
              "        <script charset=\"utf-8\" src=\"https://cdn.plot.ly/plotly-2.24.1.min.js\"></script>                <div id=\"ad8b825d-f98c-4a67-a448-22594f718fc6\" class=\"plotly-graph-div\" style=\"height:400px; width:800px;\"></div>            <script type=\"text/javascript\">                                    window.PLOTLYENV=window.PLOTLYENV || {};                                    if (document.getElementById(\"ad8b825d-f98c-4a67-a448-22594f718fc6\")) {                    Plotly.newPlot(                        \"ad8b825d-f98c-4a67-a448-22594f718fc6\",                        [{\"marker\":{\"line\":{\"width\":1.5}},\"textfont\":{\"color\":\"#333\",\"size\":16},\"x\":[\"live\",\"leather products (small)\",\"specimens\",\"skins\",\"raw corals\",\"trophies\",\"garments\",\"caviar\",\"extract\",\"bodies\"],\"y\":[33862,10106,2852,2271,1903,1603,1456,1206,965,915],\"type\":\"bar\"}],                        {\"autosize\":false,\"height\":400,\"template\":{\"data\":{\"barpolar\":[{\"marker\":{\"line\":{\"color\":\"#E5ECF6\",\"width\":0.5},\"pattern\":{\"fillmode\":\"overlay\",\"size\":10,\"solidity\":0.2}},\"type\":\"barpolar\"}],\"bar\":[{\"error_x\":{\"color\":\"#2a3f5f\"},\"error_y\":{\"color\":\"#2a3f5f\"},\"marker\":{\"line\":{\"color\":\"#E5ECF6\",\"width\":0.5},\"pattern\":{\"fillmode\":\"overlay\",\"size\":10,\"solidity\":0.2}},\"type\":\"bar\"}],\"carpet\":[{\"aaxis\":{\"endlinecolor\":\"#2a3f5f\",\"gridcolor\":\"white\",\"linecolor\":\"white\",\"minorgridcolor\":\"white\",\"startlinecolor\":\"#2a3f5f\"},\"baxis\":{\"endlinecolor\":\"#2a3f5f\",\"gridcolor\":\"white\",\"linecolor\":\"white\",\"minorgridcolor\":\"white\",\"startlinecolor\":\"#2a3f5f\"},\"type\":\"carpet\"}],\"choropleth\":[{\"colorbar\":{\"outlinewidth\":0,\"ticks\":\"\"},\"type\":\"choropleth\"}],\"contourcarpet\":[{\"colorbar\":{\"outlinewidth\":0,\"ticks\":\"\"},\"type\":\"contourcarpet\"}],\"contour\":[{\"colorbar\":{\"outlinewidth\":0,\"ticks\":\"\"},\"colorscale\":[[0.0,\"#0d0887\"],[0.1111111111111111,\"#46039f\"],[0.2222222222222222,\"#7201a8\"],[0.3333333333333333,\"#9c179e\"],[0.4444444444444444,\"#bd3786\"],[0.5555555555555556,\"#d8576b\"],[0.6666666666666666,\"#ed7953\"],[0.7777777777777778,\"#fb9f3a\"],[0.8888888888888888,\"#fdca26\"],[1.0,\"#f0f921\"]],\"type\":\"contour\"}],\"heatmapgl\":[{\"colorbar\":{\"outlinewidth\":0,\"ticks\":\"\"},\"colorscale\":[[0.0,\"#0d0887\"],[0.1111111111111111,\"#46039f\"],[0.2222222222222222,\"#7201a8\"],[0.3333333333333333,\"#9c179e\"],[0.4444444444444444,\"#bd3786\"],[0.5555555555555556,\"#d8576b\"],[0.6666666666666666,\"#ed7953\"],[0.7777777777777778,\"#fb9f3a\"],[0.8888888888888888,\"#fdca26\"],[1.0,\"#f0f921\"]],\"type\":\"heatmapgl\"}],\"heatmap\":[{\"colorbar\":{\"outlinewidth\":0,\"ticks\":\"\"},\"colorscale\":[[0.0,\"#0d0887\"],[0.1111111111111111,\"#46039f\"],[0.2222222222222222,\"#7201a8\"],[0.3333333333333333,\"#9c179e\"],[0.4444444444444444,\"#bd3786\"],[0.5555555555555556,\"#d8576b\"],[0.6666666666666666,\"#ed7953\"],[0.7777777777777778,\"#fb9f3a\"],[0.8888888888888888,\"#fdca26\"],[1.0,\"#f0f921\"]],\"type\":\"heatmap\"}],\"histogram2dcontour\":[{\"colorbar\":{\"outlinewidth\":0,\"ticks\":\"\"},\"colorscale\":[[0.0,\"#0d0887\"],[0.1111111111111111,\"#46039f\"],[0.2222222222222222,\"#7201a8\"],[0.3333333333333333,\"#9c179e\"],[0.4444444444444444,\"#bd3786\"],[0.5555555555555556,\"#d8576b\"],[0.6666666666666666,\"#ed7953\"],[0.7777777777777778,\"#fb9f3a\"],[0.8888888888888888,\"#fdca26\"],[1.0,\"#f0f921\"]],\"type\":\"histogram2dcontour\"}],\"histogram2d\":[{\"colorbar\":{\"outlinewidth\":0,\"ticks\":\"\"},\"colorscale\":[[0.0,\"#0d0887\"],[0.1111111111111111,\"#46039f\"],[0.2222222222222222,\"#7201a8\"],[0.3333333333333333,\"#9c179e\"],[0.4444444444444444,\"#bd3786\"],[0.5555555555555556,\"#d8576b\"],[0.6666666666666666,\"#ed7953\"],[0.7777777777777778,\"#fb9f3a\"],[0.8888888888888888,\"#fdca26\"],[1.0,\"#f0f921\"]],\"type\":\"histogram2d\"}],\"histogram\":[{\"marker\":{\"pattern\":{\"fillmode\":\"overlay\",\"size\":10,\"solidity\":0.2}},\"type\":\"histogram\"}],\"mesh3d\":[{\"colorbar\":{\"outlinewidth\":0,\"ticks\":\"\"},\"type\":\"mesh3d\"}],\"parcoords\":[{\"line\":{\"colorbar\":{\"outlinewidth\":0,\"ticks\":\"\"}},\"type\":\"parcoords\"}],\"pie\":[{\"automargin\":true,\"type\":\"pie\"}],\"scatter3d\":[{\"line\":{\"colorbar\":{\"outlinewidth\":0,\"ticks\":\"\"}},\"marker\":{\"colorbar\":{\"outlinewidth\":0,\"ticks\":\"\"}},\"type\":\"scatter3d\"}],\"scattercarpet\":[{\"marker\":{\"colorbar\":{\"outlinewidth\":0,\"ticks\":\"\"}},\"type\":\"scattercarpet\"}],\"scattergeo\":[{\"marker\":{\"colorbar\":{\"outlinewidth\":0,\"ticks\":\"\"}},\"type\":\"scattergeo\"}],\"scattergl\":[{\"marker\":{\"colorbar\":{\"outlinewidth\":0,\"ticks\":\"\"}},\"type\":\"scattergl\"}],\"scattermapbox\":[{\"marker\":{\"colorbar\":{\"outlinewidth\":0,\"ticks\":\"\"}},\"type\":\"scattermapbox\"}],\"scatterpolargl\":[{\"marker\":{\"colorbar\":{\"outlinewidth\":0,\"ticks\":\"\"}},\"type\":\"scatterpolargl\"}],\"scatterpolar\":[{\"marker\":{\"colorbar\":{\"outlinewidth\":0,\"ticks\":\"\"}},\"type\":\"scatterpolar\"}],\"scatter\":[{\"fillpattern\":{\"fillmode\":\"overlay\",\"size\":10,\"solidity\":0.2},\"type\":\"scatter\"}],\"scatterternary\":[{\"marker\":{\"colorbar\":{\"outlinewidth\":0,\"ticks\":\"\"}},\"type\":\"scatterternary\"}],\"surface\":[{\"colorbar\":{\"outlinewidth\":0,\"ticks\":\"\"},\"colorscale\":[[0.0,\"#0d0887\"],[0.1111111111111111,\"#46039f\"],[0.2222222222222222,\"#7201a8\"],[0.3333333333333333,\"#9c179e\"],[0.4444444444444444,\"#bd3786\"],[0.5555555555555556,\"#d8576b\"],[0.6666666666666666,\"#ed7953\"],[0.7777777777777778,\"#fb9f3a\"],[0.8888888888888888,\"#fdca26\"],[1.0,\"#f0f921\"]],\"type\":\"surface\"}],\"table\":[{\"cells\":{\"fill\":{\"color\":\"#EBF0F8\"},\"line\":{\"color\":\"white\"}},\"header\":{\"fill\":{\"color\":\"#C8D4E3\"},\"line\":{\"color\":\"white\"}},\"type\":\"table\"}]},\"layout\":{\"annotationdefaults\":{\"arrowcolor\":\"#2a3f5f\",\"arrowhead\":0,\"arrowwidth\":1},\"autotypenumbers\":\"strict\",\"coloraxis\":{\"colorbar\":{\"outlinewidth\":0,\"ticks\":\"\"}},\"colorscale\":{\"diverging\":[[0,\"#8e0152\"],[0.1,\"#c51b7d\"],[0.2,\"#de77ae\"],[0.3,\"#f1b6da\"],[0.4,\"#fde0ef\"],[0.5,\"#f7f7f7\"],[0.6,\"#e6f5d0\"],[0.7,\"#b8e186\"],[0.8,\"#7fbc41\"],[0.9,\"#4d9221\"],[1,\"#276419\"]],\"sequential\":[[0.0,\"#0d0887\"],[0.1111111111111111,\"#46039f\"],[0.2222222222222222,\"#7201a8\"],[0.3333333333333333,\"#9c179e\"],[0.4444444444444444,\"#bd3786\"],[0.5555555555555556,\"#d8576b\"],[0.6666666666666666,\"#ed7953\"],[0.7777777777777778,\"#fb9f3a\"],[0.8888888888888888,\"#fdca26\"],[1.0,\"#f0f921\"]],\"sequentialminus\":[[0.0,\"#0d0887\"],[0.1111111111111111,\"#46039f\"],[0.2222222222222222,\"#7201a8\"],[0.3333333333333333,\"#9c179e\"],[0.4444444444444444,\"#bd3786\"],[0.5555555555555556,\"#d8576b\"],[0.6666666666666666,\"#ed7953\"],[0.7777777777777778,\"#fb9f3a\"],[0.8888888888888888,\"#fdca26\"],[1.0,\"#f0f921\"]]},\"colorway\":[\"#636efa\",\"#EF553B\",\"#00cc96\",\"#ab63fa\",\"#FFA15A\",\"#19d3f3\",\"#FF6692\",\"#B6E880\",\"#FF97FF\",\"#FECB52\"],\"font\":{\"color\":\"#2a3f5f\"},\"geo\":{\"bgcolor\":\"white\",\"lakecolor\":\"white\",\"landcolor\":\"#E5ECF6\",\"showlakes\":true,\"showland\":true,\"subunitcolor\":\"white\"},\"hoverlabel\":{\"align\":\"left\"},\"hovermode\":\"closest\",\"mapbox\":{\"style\":\"light\"},\"paper_bgcolor\":\"white\",\"plot_bgcolor\":\"#E5ECF6\",\"polar\":{\"angularaxis\":{\"gridcolor\":\"white\",\"linecolor\":\"white\",\"ticks\":\"\"},\"bgcolor\":\"#E5ECF6\",\"radialaxis\":{\"gridcolor\":\"white\",\"linecolor\":\"white\",\"ticks\":\"\"}},\"scene\":{\"xaxis\":{\"backgroundcolor\":\"#E5ECF6\",\"gridcolor\":\"white\",\"gridwidth\":2,\"linecolor\":\"white\",\"showbackground\":true,\"ticks\":\"\",\"zerolinecolor\":\"white\"},\"yaxis\":{\"backgroundcolor\":\"#E5ECF6\",\"gridcolor\":\"white\",\"gridwidth\":2,\"linecolor\":\"white\",\"showbackground\":true,\"ticks\":\"\",\"zerolinecolor\":\"white\"},\"zaxis\":{\"backgroundcolor\":\"#E5ECF6\",\"gridcolor\":\"white\",\"gridwidth\":2,\"linecolor\":\"white\",\"showbackground\":true,\"ticks\":\"\",\"zerolinecolor\":\"white\"}},\"shapedefaults\":{\"line\":{\"color\":\"#2a3f5f\"}},\"ternary\":{\"aaxis\":{\"gridcolor\":\"white\",\"linecolor\":\"white\",\"ticks\":\"\"},\"baxis\":{\"gridcolor\":\"white\",\"linecolor\":\"white\",\"ticks\":\"\"},\"bgcolor\":\"#E5ECF6\",\"caxis\":{\"gridcolor\":\"white\",\"linecolor\":\"white\",\"ticks\":\"\"}},\"title\":{\"x\":0.05},\"xaxis\":{\"automargin\":true,\"gridcolor\":\"white\",\"linecolor\":\"white\",\"ticks\":\"\",\"title\":{\"standoff\":15},\"zerolinecolor\":\"white\",\"zerolinewidth\":2},\"yaxis\":{\"automargin\":true,\"gridcolor\":\"white\",\"linecolor\":\"white\",\"ticks\":\"\",\"title\":{\"standoff\":15},\"zerolinecolor\":\"white\",\"zerolinewidth\":2}}},\"title\":{\"text\":\"The most traded by term\"},\"width\":800},                        {\"responsive\": true}                    ).then(function(){\n",
              "                            \n",
              "var gd = document.getElementById('ad8b825d-f98c-4a67-a448-22594f718fc6');\n",
              "var x = new MutationObserver(function (mutations, observer) {{\n",
              "        var display = window.getComputedStyle(gd).display;\n",
              "        if (!display || display === 'none') {{\n",
              "            console.log([gd, 'removed!']);\n",
              "            Plotly.purge(gd);\n",
              "            observer.disconnect();\n",
              "        }}\n",
              "}});\n",
              "\n",
              "// Listen for the removal of the full notebook cells\n",
              "var notebookContainer = gd.closest('#notebook-container');\n",
              "if (notebookContainer) {{\n",
              "    x.observe(notebookContainer, {childList: true});\n",
              "}}\n",
              "\n",
              "// Listen for the clearing of the current output cell\n",
              "var outputEl = gd.closest('.output');\n",
              "if (outputEl) {{\n",
              "    x.observe(outputEl, {childList: true});\n",
              "}}\n",
              "\n",
              "                        })                };                            </script>        </div>\n",
              "</body>\n",
              "</html>"
            ]
          },
          "metadata": {}
        }
      ]
    },
    {
      "cell_type": "markdown",
      "source": [
        "1.4. Importers and  Exporters"
      ],
      "metadata": {
        "id": "DZbXIEIY3F3f"
      }
    },
    {
      "cell_type": "code",
      "source": [],
      "metadata": {
        "id": "nkwNYzQ89eRm"
      },
      "execution_count": null,
      "outputs": []
    },
    {
      "cell_type": "code",
      "source": [
        "import pandas as pd\n",
        "import plotly.express as px\n",
        "import numpy as np\n",
        "\n",
        "# Read data from the CSV file (replace 'wildlife.csv' with your actual filename)\n",
        "species = pd.read_csv('wildlife.csv')\n",
        "\n",
        "importers = species['Importer'].value_counts()\n",
        "exporters = species['Exporter'].value_counts()\n",
        "\n",
        "# Combine importers and exporters, filling NaN values with 0\n",
        "total_trade = importers.add(exporters, fill_value=0)\n",
        "\n",
        "# ISO Alpha-3 codes for countries\n",
        "iso_alpha3_mapping = {\n",
        "    'AD': 'AND', 'AE': 'ARE', 'AF': 'AFG', 'AG': 'ATG', 'AI': 'AIA', 'AL': 'ALB', 'AM': 'ARM', 'AN': 'ANT',\n",
        "    'AO': 'AGO', 'AQ': 'ATA', 'AR': 'ARG', 'AS': 'ASM', 'AT': 'AUT', 'AU': 'AUS', 'AW': 'ABW', 'AZ': 'AZE',\n",
        "    'BA': 'BIH', 'BB': 'BRB', 'BD': 'BGD', 'BE': 'BEL', 'BF': 'BFA', 'BG': 'BGR', 'BH': 'BHR', 'BI': 'BDI',\n",
        "    'BJ': 'BEN', 'BL': 'BLM', 'BM': 'BMU', 'BN': 'BRN', 'BO': 'BOL', 'BQ': 'BES', 'BR': 'BRA', 'BS': 'BHS',\n",
        "    'BT': 'BTN', 'BV': 'BVT', 'BW': 'BWA', 'BY': 'BLR', 'BZ': 'BLZ', 'CA': 'CAN', 'CC': 'CCK', 'CD': 'COD',\n",
        "    'CF': 'CAF', 'CG': 'COG', 'CH': 'CHE', 'CI': 'CIV', 'CK': 'COK', 'CL': 'CHL', 'CM': 'CMR', 'CN': 'CHN',\n",
        "    'CO': 'COL', 'CR': 'CRI', 'CU': 'CUB', 'CV': 'CPV', 'CW': 'CUW', 'CX': 'CXR', 'CY': 'CYP', 'CZ': 'CZE',\n",
        "    'DE': 'DEU', 'DJ': 'DJI', 'DK': 'DNK', 'DM': 'DMA', 'DO': 'DOM', 'DZ': 'DZA', 'EC': 'ECU', 'EE': 'EST',\n",
        "    'EG': 'EGY', 'EH': 'ESH', 'ER': 'ERI', 'ES': 'ESP', 'ET': 'ETH', 'FI': 'FIN', 'FJ': 'FJI', 'FK': 'FLK',\n",
        "    'FM': 'FSM', 'FO': 'FRO', 'FR': 'FRA', 'GA': 'GAB', 'GB': 'GBR', 'GD': 'GRD', 'GE': 'GEO', 'GF': 'GUF',\n",
        "    'GG': 'GGY', 'GH': 'GHA', 'GI': 'GIB', 'GL': 'GRL', 'GM': 'GMB', 'GN': 'GIN', 'GP': 'GLP', 'GQ': 'GNQ',\n",
        "    'GR': 'GRC', 'GS': 'SGS', 'GT': 'GTM', 'GU': 'GUM', 'GW': 'GNB', 'GY': 'GUY', 'HK': 'HKG', 'HM': 'HMD',\n",
        "    'HN': 'HND', 'HR': 'HRV', 'HT': 'HTI', 'HU': 'HUN', 'ID': 'IDN', 'IE': 'IRL', 'IL': 'ISR', 'IM': 'IMN',\n",
        "    'IN': 'IND', 'IO': 'IOT', 'IQ': 'IRQ', 'IR': 'IRN', 'IS': 'ISL', 'IT': 'ITA', 'JE': 'JEY', 'JM': 'JAM',\n",
        "    'JO': 'JOR', 'JP': 'JPN', 'KE': 'KEN', 'KG': 'KGZ', 'KH': 'KHM', 'KI': 'KIR', 'KM': 'COM', 'KN': 'KNA',\n",
        "    'KP': 'PRK', 'KR': 'KOR', 'KW': 'KWT', 'KY': 'CYM', 'KZ': 'KAZ', 'LA': 'LAO', 'LB': 'LBN', 'LC': 'LCA',\n",
        "    'LI': 'LIE', 'LK': 'LKA', 'LR': 'LBR', 'LS': 'LSO', 'LT': 'LTU', 'LU': 'LUX', 'LV': 'LVA', 'LY': 'LBY',\n",
        "    'MA': 'MAR', 'MC': 'MCO', 'MD': 'MDA', 'ME': 'MNE', 'MF': 'MAF', 'MG': 'MDG', 'MH': 'MHL', 'MK': 'MKD',\n",
        "    'ML': 'MLI', 'MM': 'MMR', 'MN': 'MNG', 'MO': 'MAC', 'MP': 'MNP', 'MQ': 'MTQ', 'MR': 'MRT', 'MS': 'MSR',\n",
        "    'MT': 'MLT', 'MU': 'MUS', 'MV': 'MDV', 'MW': 'MWI', 'MX': 'MEX', 'MY': 'MYS', 'MZ': 'MOZ', 'NA': 'NAM',\n",
        "    'NC': 'NCL', 'NE': 'NER', 'NF': 'NFK', 'NG': 'NGA', 'NI': 'NIC', 'NL': 'NLD', 'NO': 'NOR', 'NP': 'NPL',\n",
        "    'NR': 'NRU', 'NU': 'NIU', 'NZ': 'NZL', 'OM': 'OMN', 'PA': 'PAN', 'PE': 'PER', 'PF': 'PYF', 'PG': 'PNG',\n",
        "    'PH': 'PHL', 'PK': 'PAK', 'PL': 'POL', 'PM': 'SPM', 'PN': 'PCN', 'PR': 'PRI', 'PS': 'PSE', 'PT': 'PRT',\n",
        "    'PW': 'PLW', 'PY': 'PRY', 'QA': 'QAT', 'RE': 'REU', 'RO': 'ROU', 'RS': 'SRB', 'RU': 'RUS', 'RW': 'RWA',\n",
        "    'SA': 'SAU', 'SB': 'SLB', 'SC': 'SYC', 'SD': 'SDN', 'SE': 'SWE', 'SG': 'SGP', 'SH': 'SHN', 'SI': 'SVN',\n",
        "    'SJ': 'SJM', 'SK': 'SVK', 'SL': 'SLE', 'SM': 'SMR', 'SN': 'SEN', 'SO': 'SOM', 'SR': 'SUR', 'ST': 'STP',\n",
        "    'SV': 'SLV', 'SX': 'SXM', 'SY': 'SYR', 'SZ': 'SWZ', 'TC': 'TCA', 'TD': 'TCD', 'TF': 'ATF', 'TG': 'TGO',\n",
        "    'TH': 'THA', 'TJ': 'TJK', 'TK': 'TKL', 'TL': 'TLS', 'TM': 'TKM', 'TN': 'TUN', 'TO': 'TON', 'TR': 'TUR',\n",
        "    'TT': 'TTO', 'TV': 'TUV', 'TW': 'TWN', 'TZ': 'TZA', 'UA': 'UKR', 'UG': 'UGA', 'UM': 'UMI', 'US': 'USA',\n",
        "    'UY': 'URY', 'UZ': 'UZB', 'VA': 'VAT', 'VC': 'VCT', 'VE': 'VEN', 'VG': 'VGB', 'VI': 'VIR', 'VN': 'VNM',\n",
        "    'VU': 'VUT', 'WF': 'WLF', 'WS': 'WSM', 'YE': 'YEM', 'YT': 'MYT', 'ZA': 'ZAF', 'ZM': 'ZMB', 'ZW': 'ZWE',\n",
        "    # ... add more mappings as needed\n",
        "}\n",
        "\n",
        "# Map country names to ISO Alpha-3 codes in the total_trade index\n",
        "total_trade.index = total_trade.index.map(iso_alpha3_mapping)\n",
        "\n",
        "# Take the logarithm of the values for the color scale\n",
        "total_trade_log = total_trade.apply(lambda x: 0 if x == 0 else np.log10(x))\n",
        "\n",
        "# Create a choropleth map using Plotly Express\n",
        "fig = px.choropleth(\n",
        "    locations=total_trade.index,\n",
        "    locationmode=\"ISO-3\",\n",
        "    color=total_trade_log.values,\n",
        "    labels={'color': 'Number of entries in thousand'},\n",
        "    title='Countries involved in wildlife trade (export + import entries)',\n",
        "    color_continuous_scale='Viridis',\n",
        "    range_color=[total_trade_log.min(), total_trade_log.max()],\n",
        ")\n",
        "\n",
        "# Use pyo.plot instead of fig.show() if you are working offline\n",
        "fig.show()\n"
      ],
      "metadata": {
        "colab": {
          "base_uri": "https://localhost:8080/",
          "height": 542
        },
        "id": "DDS4nShA-4De",
        "outputId": "3db01adc-fdfe-4e20-ab95-fcdea05b8632"
      },
      "execution_count": 27,
      "outputs": [
        {
          "output_type": "display_data",
          "data": {
            "text/html": [
              "<html>\n",
              "<head><meta charset=\"utf-8\" /></head>\n",
              "<body>\n",
              "    <div>            <script src=\"https://cdnjs.cloudflare.com/ajax/libs/mathjax/2.7.5/MathJax.js?config=TeX-AMS-MML_SVG\"></script><script type=\"text/javascript\">if (window.MathJax && window.MathJax.Hub && window.MathJax.Hub.Config) {window.MathJax.Hub.Config({SVG: {font: \"STIX-Web\"}});}</script>                <script type=\"text/javascript\">window.PlotlyConfig = {MathJaxConfig: 'local'};</script>\n",
              "        <script charset=\"utf-8\" src=\"https://cdn.plot.ly/plotly-2.24.1.min.js\"></script>                <div id=\"7f822e39-5836-4f92-8402-7b3963fe0923\" class=\"plotly-graph-div\" style=\"height:525px; width:100%;\"></div>            <script type=\"text/javascript\">                                    window.PLOTLYENV=window.PLOTLYENV || {};                                    if (document.getElementById(\"7f822e39-5836-4f92-8402-7b3963fe0923\")) {                    Plotly.newPlot(                        \"7f822e39-5836-4f92-8402-7b3963fe0923\",                        [{\"coloraxis\":\"coloraxis\",\"geo\":\"geo\",\"hovertemplate\":\"locations=%{location}\\u003cbr\\u003eNumber of entries in thousand=%{z}\\u003cextra\\u003e\\u003c\\u002fextra\\u003e\",\"locationmode\":\"ISO-3\",\"locations\":[\"AND\",\"ARE\",\"AFG\",\"ATG\",\"AIA\",\"ALB\",\"ARM\",\"ANT\",\"AGO\",\"ATA\",\"ARG\",\"AUT\",\"AUS\",\"ABW\",\"AZE\",\"BIH\",\"BRB\",\"BGD\",\"BEL\",\"BFA\",\"BGR\",\"BHR\",\"BDI\",\"BEN\",\"BLM\",\"BMU\",\"BRN\",\"BOL\",\"BES\",\"BRA\",\"BHS\",\"BWA\",\"BLR\",\"BLZ\",\"CAN\",\"CCK\",\"COD\",\"CAF\",\"COG\",\"CHE\",\"CIV\",\"COK\",\"CHL\",\"CMR\",\"CHN\",\"COL\",\"CRI\",\"CUB\",\"CPV\",\"CUW\",\"CYP\",\"CZE\",null,\"DEU\",\"DJI\",\"DNK\",\"DMA\",\"DOM\",\"DZA\",\"ECU\",\"EST\",\"EGY\",\"ERI\",\"ESP\",\"ETH\",\"FIN\",\"FJI\",\"FLK\",\"FSM\",\"FRO\",\"FRA\",\"GAB\",\"GBR\",\"GRD\",\"GEO\",\"GUF\",\"GGY\",\"GHA\",\"GIB\",\"GRL\",\"GMB\",\"GIN\",\"GLP\",\"GNQ\",\"GRC\",\"SGS\",\"GTM\",\"GUM\",\"GNB\",\"GUY\",\"HKG\",\"HND\",\"HRV\",\"HTI\",\"HUN\",\"IDN\",\"IRL\",\"ISR\",\"IMN\",\"IND\",\"IOT\",\"IRQ\",\"IRN\",\"ISL\",\"ITA\",\"JEY\",\"JAM\",\"JOR\",\"JPN\",\"KEN\",\"KGZ\",\"KHM\",\"KIR\",\"COM\",\"KNA\",\"PRK\",\"KOR\",\"KWT\",\"CYM\",\"KAZ\",\"LAO\",\"LBN\",\"LCA\",\"LIE\",\"LKA\",\"LBR\",\"LSO\",\"LTU\",\"LUX\",\"LVA\",\"LBY\",\"MAR\",\"MCO\",\"MDA\",\"MNE\",\"MAF\",\"MDG\",\"MHL\",\"MKD\",\"MLI\",\"MMR\",\"MNG\",\"MAC\",\"MNP\",\"MTQ\",\"MRT\",\"MLT\",\"MUS\",\"MDV\",\"MWI\",\"MEX\",\"MYS\",\"MOZ\",\"NCL\",\"NER\",\"NGA\",\"NIC\",\"NLD\",\"NOR\",\"NPL\",\"NZL\",\"OMN\",\"PAN\",\"PER\",\"PYF\",\"PNG\",\"PHL\",\"PAK\",\"POL\",\"PRI\",\"PRT\",\"PLW\",\"PRY\",\"QAT\",\"REU\",\"ROU\",\"SRB\",\"RUS\",\"RWA\",\"SAU\",\"SLB\",\"SYC\",\"SDN\",\"SWE\",\"SGP\",\"SHN\",\"SVN\",\"SVK\",\"SLE\",\"SMR\",\"SEN\",\"SUR\",\"STP\",null,\"SLV\",\"SXM\",\"SYR\",\"SWZ\",\"TCA\",\"TCD\",\"ATF\",\"TGO\",\"THA\",\"TJK\",\"TKL\",\"TLS\",\"TKM\",\"TUN\",\"TON\",\"TUR\",\"TTO\",\"TWN\",\"TZA\",\"UKR\",\"UGA\",\"USA\",\"URY\",\"UZB\",\"VAT\",\"VCT\",\"VEN\",\"VGB\",\"VIR\",\"VNM\",\"VUT\",\"WSM\",null,null,\"YEM\",\"MYT\",null,\"ZAF\",\"ZMB\",\"ZWE\",null],\"name\":\"\",\"z\":[1.6720978579357175,3.3942765267678214,1.9731278535996986,1.414973347970818,0.0,2.0253058652647704,2.2095150145426308,1.255272505103306,1.863322860120456,0.9030899869919435,2.816241299991783,2.931457870689005,3.3044905277734875,2.037426497940624,2.292256071356476,2.1760912590556813,2.24551266781415,2.2013971243204513,3.228913405994688,0.0,2.12057393120585,2.6483600109809315,0.3010299956639812,1.4471580313422192,1.8808135922807914,1.7075701760979363,1.9242792860618816,1.591064607026499,1.6232492903979006,2.9609461957338317,2.0681858617461617,0.8450980400142568,2.5575072019056577,1.4471580313422192,3.4055171069763763,0.6020599913279624,1.9867717342662448,1.0791812460476249,1.591064607026499,3.601842789782098,2.0492180226701815,1.4771212547196624,2.57978359661681,1.7481880270062005,3.5601458398490475,2.7781512503836434,2.2671717284030137,2.0211892990699383,1.0,2.146128035678238,1.9731278535996986,3.0681858617461617,0.0,3.878866336956725,0.3010299956639812,2.912753303671323,0.9030899869919435,2.359835482339888,1.8692317197309762,3.1832698436828046,1.9030899869919435,2.214843848047698,0.6989700043360189,3.3057811512549824,1.9493900066449128,2.0170333392987803,2.716003343634799,0.9542425094393249,1.7853298350107671,1.414973347970818,3.802705327074352,1.3222192947339193,3.3811150807098507,1.0,2.3010299956639813,1.7781512503836436,1.5563025007672873,2.075546961392531,1.6720978579357175,2.1271047983648077,0.9030899869919435,0.7781512503836436,2.110589710299249,1.1139433523068367,2.383815365980431,0.6020599913279624,2.376576957056512,1.3617278360175928,0.8450980400142568,2.5211380837040362,3.5317343092765503,1.4771212547196624,1.462397997898956,1.4471580313422192,2.2671717284030137,3.839037873388306,2.103803720955957,2.6434526764861874,0.8450980400142568,2.887617300335736,1.0,2.320146286111054,2.4533183400470375,1.7075701760979363,3.8025000677643934,2.0453229787866576,1.9242792860618816,2.3873898263387296,3.7955324427101544,2.294466226161593,1.9912260756924949,1.9912260756924949,0.6020599913279624,0.3010299956639812,1.4913616938342726,2.0644579892269186,3.2121876044039577,3.0064660422492318,1.7323937598229686,2.678518379040114,2.298853076409707,2.655138434811382,1.1139433523068367,1.0791812460476249,2.0569048513364727,1.1139433523068367,0.0,1.863322860120456,2.0492180226701815,2.0170333392987803,1.3979400086720377,2.4099331233312946,2.7965743332104296,2.2528530309798933,2.012837224705172,1.2787536009528289,3.010299956639812,1.8388490907372552,2.2380461031287955,1.7993405494535817,1.6532125137753437,1.8920946026904804,2.515873843711679,0.9030899869919435,2.0569048513364727,0.6989700043360189,1.6334684555795866,2.1583624920952498,2.08278537031645,1.4471580313422192,3.0342272607705505,3.317436496535099,1.9637878273455553,1.5185139398778875,0.6989700043360189,2.03342375548695,2.0043213737826426,3.9008039348103694,3.024074987307426,1.9493900066449128,2.8254261177678233,2.678518379040114,2.3909351071033793,3.159266331093494,1.5314789170422551,1.462397997898956,3.1956229435869368,2.4927603890268375,2.514547752660286,1.0,2.525044807036845,1.8512583487190752,1.9294189257142929,2.9934362304976116,2.1702617153949575,2.100370545117563,2.361727836017593,3.0704073217401198,1.414973347970818,2.7075701760979363,1.9822712330395684,1.6434526764861874,1.7075701760979363,2.5171958979499744,3.4875625602563782,0.6989700043360189,1.863322860120456,2.0211892990699383,0.47712125471966244,2.167317334748176,2.093421685162235,2.3384564936046046,0.7781512503836436,0.8450980400142568,2.012837224705172,1.9395192526186185,1.146128035678238,0.9542425094393249,1.146128035678238,0.6989700043360189,0.3010299956639812,1.845098040014257,3.368286884902131,1.6127838567197355,0.47712125471966244,0.47712125471966244,1.863322860120456,2.161368002234975,2.4456042032735974,3.0923696996291206,1.919078092376074,3.2671717284030137,2.2528530309798933,2.7944880466591697,1.9444826721501687,4.153052275067108,2.1172712956557644,2.44870631990508,0.7781512503836436,0.7781512503836436,2.0211892990699383,1.4913616938342726,0.3010299956639812,2.6893088591236203,0.6020599913279624,0.3010299956639812,1.6232492903979006,2.7715874808812555,0.9030899869919435,0.3010299956639812,0.6989700043360189,3.3003780648707024,2.1367205671564067,2.8041394323353503,1.414973347970818],\"type\":\"choropleth\"}],                        {\"template\":{\"data\":{\"histogram2dcontour\":[{\"type\":\"histogram2dcontour\",\"colorbar\":{\"outlinewidth\":0,\"ticks\":\"\"},\"colorscale\":[[0.0,\"#0d0887\"],[0.1111111111111111,\"#46039f\"],[0.2222222222222222,\"#7201a8\"],[0.3333333333333333,\"#9c179e\"],[0.4444444444444444,\"#bd3786\"],[0.5555555555555556,\"#d8576b\"],[0.6666666666666666,\"#ed7953\"],[0.7777777777777778,\"#fb9f3a\"],[0.8888888888888888,\"#fdca26\"],[1.0,\"#f0f921\"]]}],\"choropleth\":[{\"type\":\"choropleth\",\"colorbar\":{\"outlinewidth\":0,\"ticks\":\"\"}}],\"histogram2d\":[{\"type\":\"histogram2d\",\"colorbar\":{\"outlinewidth\":0,\"ticks\":\"\"},\"colorscale\":[[0.0,\"#0d0887\"],[0.1111111111111111,\"#46039f\"],[0.2222222222222222,\"#7201a8\"],[0.3333333333333333,\"#9c179e\"],[0.4444444444444444,\"#bd3786\"],[0.5555555555555556,\"#d8576b\"],[0.6666666666666666,\"#ed7953\"],[0.7777777777777778,\"#fb9f3a\"],[0.8888888888888888,\"#fdca26\"],[1.0,\"#f0f921\"]]}],\"heatmap\":[{\"type\":\"heatmap\",\"colorbar\":{\"outlinewidth\":0,\"ticks\":\"\"},\"colorscale\":[[0.0,\"#0d0887\"],[0.1111111111111111,\"#46039f\"],[0.2222222222222222,\"#7201a8\"],[0.3333333333333333,\"#9c179e\"],[0.4444444444444444,\"#bd3786\"],[0.5555555555555556,\"#d8576b\"],[0.6666666666666666,\"#ed7953\"],[0.7777777777777778,\"#fb9f3a\"],[0.8888888888888888,\"#fdca26\"],[1.0,\"#f0f921\"]]}],\"heatmapgl\":[{\"type\":\"heatmapgl\",\"colorbar\":{\"outlinewidth\":0,\"ticks\":\"\"},\"colorscale\":[[0.0,\"#0d0887\"],[0.1111111111111111,\"#46039f\"],[0.2222222222222222,\"#7201a8\"],[0.3333333333333333,\"#9c179e\"],[0.4444444444444444,\"#bd3786\"],[0.5555555555555556,\"#d8576b\"],[0.6666666666666666,\"#ed7953\"],[0.7777777777777778,\"#fb9f3a\"],[0.8888888888888888,\"#fdca26\"],[1.0,\"#f0f921\"]]}],\"contourcarpet\":[{\"type\":\"contourcarpet\",\"colorbar\":{\"outlinewidth\":0,\"ticks\":\"\"}}],\"contour\":[{\"type\":\"contour\",\"colorbar\":{\"outlinewidth\":0,\"ticks\":\"\"},\"colorscale\":[[0.0,\"#0d0887\"],[0.1111111111111111,\"#46039f\"],[0.2222222222222222,\"#7201a8\"],[0.3333333333333333,\"#9c179e\"],[0.4444444444444444,\"#bd3786\"],[0.5555555555555556,\"#d8576b\"],[0.6666666666666666,\"#ed7953\"],[0.7777777777777778,\"#fb9f3a\"],[0.8888888888888888,\"#fdca26\"],[1.0,\"#f0f921\"]]}],\"surface\":[{\"type\":\"surface\",\"colorbar\":{\"outlinewidth\":0,\"ticks\":\"\"},\"colorscale\":[[0.0,\"#0d0887\"],[0.1111111111111111,\"#46039f\"],[0.2222222222222222,\"#7201a8\"],[0.3333333333333333,\"#9c179e\"],[0.4444444444444444,\"#bd3786\"],[0.5555555555555556,\"#d8576b\"],[0.6666666666666666,\"#ed7953\"],[0.7777777777777778,\"#fb9f3a\"],[0.8888888888888888,\"#fdca26\"],[1.0,\"#f0f921\"]]}],\"mesh3d\":[{\"type\":\"mesh3d\",\"colorbar\":{\"outlinewidth\":0,\"ticks\":\"\"}}],\"scatter\":[{\"fillpattern\":{\"fillmode\":\"overlay\",\"size\":10,\"solidity\":0.2},\"type\":\"scatter\"}],\"parcoords\":[{\"type\":\"parcoords\",\"line\":{\"colorbar\":{\"outlinewidth\":0,\"ticks\":\"\"}}}],\"scatterpolargl\":[{\"type\":\"scatterpolargl\",\"marker\":{\"colorbar\":{\"outlinewidth\":0,\"ticks\":\"\"}}}],\"bar\":[{\"error_x\":{\"color\":\"#2a3f5f\"},\"error_y\":{\"color\":\"#2a3f5f\"},\"marker\":{\"line\":{\"color\":\"#E5ECF6\",\"width\":0.5},\"pattern\":{\"fillmode\":\"overlay\",\"size\":10,\"solidity\":0.2}},\"type\":\"bar\"}],\"scattergeo\":[{\"type\":\"scattergeo\",\"marker\":{\"colorbar\":{\"outlinewidth\":0,\"ticks\":\"\"}}}],\"scatterpolar\":[{\"type\":\"scatterpolar\",\"marker\":{\"colorbar\":{\"outlinewidth\":0,\"ticks\":\"\"}}}],\"histogram\":[{\"marker\":{\"pattern\":{\"fillmode\":\"overlay\",\"size\":10,\"solidity\":0.2}},\"type\":\"histogram\"}],\"scattergl\":[{\"type\":\"scattergl\",\"marker\":{\"colorbar\":{\"outlinewidth\":0,\"ticks\":\"\"}}}],\"scatter3d\":[{\"type\":\"scatter3d\",\"line\":{\"colorbar\":{\"outlinewidth\":0,\"ticks\":\"\"}},\"marker\":{\"colorbar\":{\"outlinewidth\":0,\"ticks\":\"\"}}}],\"scattermapbox\":[{\"type\":\"scattermapbox\",\"marker\":{\"colorbar\":{\"outlinewidth\":0,\"ticks\":\"\"}}}],\"scatterternary\":[{\"type\":\"scatterternary\",\"marker\":{\"colorbar\":{\"outlinewidth\":0,\"ticks\":\"\"}}}],\"scattercarpet\":[{\"type\":\"scattercarpet\",\"marker\":{\"colorbar\":{\"outlinewidth\":0,\"ticks\":\"\"}}}],\"carpet\":[{\"aaxis\":{\"endlinecolor\":\"#2a3f5f\",\"gridcolor\":\"white\",\"linecolor\":\"white\",\"minorgridcolor\":\"white\",\"startlinecolor\":\"#2a3f5f\"},\"baxis\":{\"endlinecolor\":\"#2a3f5f\",\"gridcolor\":\"white\",\"linecolor\":\"white\",\"minorgridcolor\":\"white\",\"startlinecolor\":\"#2a3f5f\"},\"type\":\"carpet\"}],\"table\":[{\"cells\":{\"fill\":{\"color\":\"#EBF0F8\"},\"line\":{\"color\":\"white\"}},\"header\":{\"fill\":{\"color\":\"#C8D4E3\"},\"line\":{\"color\":\"white\"}},\"type\":\"table\"}],\"barpolar\":[{\"marker\":{\"line\":{\"color\":\"#E5ECF6\",\"width\":0.5},\"pattern\":{\"fillmode\":\"overlay\",\"size\":10,\"solidity\":0.2}},\"type\":\"barpolar\"}],\"pie\":[{\"automargin\":true,\"type\":\"pie\"}]},\"layout\":{\"autotypenumbers\":\"strict\",\"colorway\":[\"#636efa\",\"#EF553B\",\"#00cc96\",\"#ab63fa\",\"#FFA15A\",\"#19d3f3\",\"#FF6692\",\"#B6E880\",\"#FF97FF\",\"#FECB52\"],\"font\":{\"color\":\"#2a3f5f\"},\"hovermode\":\"closest\",\"hoverlabel\":{\"align\":\"left\"},\"paper_bgcolor\":\"white\",\"plot_bgcolor\":\"#E5ECF6\",\"polar\":{\"bgcolor\":\"#E5ECF6\",\"angularaxis\":{\"gridcolor\":\"white\",\"linecolor\":\"white\",\"ticks\":\"\"},\"radialaxis\":{\"gridcolor\":\"white\",\"linecolor\":\"white\",\"ticks\":\"\"}},\"ternary\":{\"bgcolor\":\"#E5ECF6\",\"aaxis\":{\"gridcolor\":\"white\",\"linecolor\":\"white\",\"ticks\":\"\"},\"baxis\":{\"gridcolor\":\"white\",\"linecolor\":\"white\",\"ticks\":\"\"},\"caxis\":{\"gridcolor\":\"white\",\"linecolor\":\"white\",\"ticks\":\"\"}},\"coloraxis\":{\"colorbar\":{\"outlinewidth\":0,\"ticks\":\"\"}},\"colorscale\":{\"sequential\":[[0.0,\"#0d0887\"],[0.1111111111111111,\"#46039f\"],[0.2222222222222222,\"#7201a8\"],[0.3333333333333333,\"#9c179e\"],[0.4444444444444444,\"#bd3786\"],[0.5555555555555556,\"#d8576b\"],[0.6666666666666666,\"#ed7953\"],[0.7777777777777778,\"#fb9f3a\"],[0.8888888888888888,\"#fdca26\"],[1.0,\"#f0f921\"]],\"sequentialminus\":[[0.0,\"#0d0887\"],[0.1111111111111111,\"#46039f\"],[0.2222222222222222,\"#7201a8\"],[0.3333333333333333,\"#9c179e\"],[0.4444444444444444,\"#bd3786\"],[0.5555555555555556,\"#d8576b\"],[0.6666666666666666,\"#ed7953\"],[0.7777777777777778,\"#fb9f3a\"],[0.8888888888888888,\"#fdca26\"],[1.0,\"#f0f921\"]],\"diverging\":[[0,\"#8e0152\"],[0.1,\"#c51b7d\"],[0.2,\"#de77ae\"],[0.3,\"#f1b6da\"],[0.4,\"#fde0ef\"],[0.5,\"#f7f7f7\"],[0.6,\"#e6f5d0\"],[0.7,\"#b8e186\"],[0.8,\"#7fbc41\"],[0.9,\"#4d9221\"],[1,\"#276419\"]]},\"xaxis\":{\"gridcolor\":\"white\",\"linecolor\":\"white\",\"ticks\":\"\",\"title\":{\"standoff\":15},\"zerolinecolor\":\"white\",\"automargin\":true,\"zerolinewidth\":2},\"yaxis\":{\"gridcolor\":\"white\",\"linecolor\":\"white\",\"ticks\":\"\",\"title\":{\"standoff\":15},\"zerolinecolor\":\"white\",\"automargin\":true,\"zerolinewidth\":2},\"scene\":{\"xaxis\":{\"backgroundcolor\":\"#E5ECF6\",\"gridcolor\":\"white\",\"linecolor\":\"white\",\"showbackground\":true,\"ticks\":\"\",\"zerolinecolor\":\"white\",\"gridwidth\":2},\"yaxis\":{\"backgroundcolor\":\"#E5ECF6\",\"gridcolor\":\"white\",\"linecolor\":\"white\",\"showbackground\":true,\"ticks\":\"\",\"zerolinecolor\":\"white\",\"gridwidth\":2},\"zaxis\":{\"backgroundcolor\":\"#E5ECF6\",\"gridcolor\":\"white\",\"linecolor\":\"white\",\"showbackground\":true,\"ticks\":\"\",\"zerolinecolor\":\"white\",\"gridwidth\":2}},\"shapedefaults\":{\"line\":{\"color\":\"#2a3f5f\"}},\"annotationdefaults\":{\"arrowcolor\":\"#2a3f5f\",\"arrowhead\":0,\"arrowwidth\":1},\"geo\":{\"bgcolor\":\"white\",\"landcolor\":\"#E5ECF6\",\"subunitcolor\":\"white\",\"showland\":true,\"showlakes\":true,\"lakecolor\":\"white\"},\"title\":{\"x\":0.05},\"mapbox\":{\"style\":\"light\"}}},\"geo\":{\"domain\":{\"x\":[0.0,1.0],\"y\":[0.0,1.0]},\"center\":{}},\"coloraxis\":{\"colorbar\":{\"title\":{\"text\":\"Number of entries in thousand\"}},\"colorscale\":[[0.0,\"#440154\"],[0.1111111111111111,\"#482878\"],[0.2222222222222222,\"#3e4989\"],[0.3333333333333333,\"#31688e\"],[0.4444444444444444,\"#26828e\"],[0.5555555555555556,\"#1f9e89\"],[0.6666666666666666,\"#35b779\"],[0.7777777777777778,\"#6ece58\"],[0.8888888888888888,\"#b5de2b\"],[1.0,\"#fde725\"]],\"cmin\":0.0,\"cmax\":4.153052275067108},\"legend\":{\"tracegroupgap\":0},\"title\":{\"text\":\"Countries involved in wildlife trade (export + import entries)\"}},                        {\"responsive\": true}                    ).then(function(){\n",
              "                            \n",
              "var gd = document.getElementById('7f822e39-5836-4f92-8402-7b3963fe0923');\n",
              "var x = new MutationObserver(function (mutations, observer) {{\n",
              "        var display = window.getComputedStyle(gd).display;\n",
              "        if (!display || display === 'none') {{\n",
              "            console.log([gd, 'removed!']);\n",
              "            Plotly.purge(gd);\n",
              "            observer.disconnect();\n",
              "        }}\n",
              "}});\n",
              "\n",
              "// Listen for the removal of the full notebook cells\n",
              "var notebookContainer = gd.closest('#notebook-container');\n",
              "if (notebookContainer) {{\n",
              "    x.observe(notebookContainer, {childList: true});\n",
              "}}\n",
              "\n",
              "// Listen for the clearing of the current output cell\n",
              "var outputEl = gd.closest('.output');\n",
              "if (outputEl) {{\n",
              "    x.observe(outputEl, {childList: true});\n",
              "}}\n",
              "\n",
              "                        })                };                            </script>        </div>\n",
              "</body>\n",
              "</html>"
            ]
          },
          "metadata": {}
        }
      ]
    },
    {
      "cell_type": "markdown",
      "source": [
        "1.5. Purpose"
      ],
      "metadata": {
        "id": "zikEq7IBHQQ_"
      }
    },
    {
      "cell_type": "code",
      "source": [
        "purpose_dict = dict({'B': 'Breeding in captivity or artificial propagation',\n",
        "                    'E': 'Educational',\n",
        "                    'G': 'Botanical garden',\n",
        "                    'H': 'Hunting trophy',\n",
        "                    'L': 'Law enforcement',\n",
        "                    'M': 'Medical',\n",
        "                    'N': 'Reintroduction or introduction into the wild',\n",
        "                    'P': 'Personal',\n",
        "                    'Q': 'Circus or travelling exhibition',\n",
        "                    'S': 'Scientific',\n",
        "                    'T': 'Commercial',\n",
        "                    'Z': 'Zoo'})"
      ],
      "metadata": {
        "id": "HrkMURdeHULD"
      },
      "execution_count": 28,
      "outputs": []
    },
    {
      "cell_type": "code",
      "source": [
        "import pandas as pd\n",
        "import plotly.express as px\n",
        "\n",
        "# Read data from the CSV file (replace 'wildlife.csv' with your actual filename)\n",
        "species = pd.read_csv('wildlife.csv')\n",
        "\n",
        "purpose = species['Purpose'].value_counts()\n",
        "\n",
        "# Create a bar chart using Plotly Express\n",
        "fig = px.bar(\n",
        "    x=purpose.index.map(purpose_dict),\n",
        "    y=purpose,\n",
        "    text=purpose,\n",
        "    labels={'x': 'Purpose', 'y': 'Number of entries'},\n",
        "    title='The most traded by purpose',\n",
        ")\n",
        "\n",
        "# Set the layout parameters\n",
        "fig.update_layout(\n",
        "    autosize=False,\n",
        "    width=800,\n",
        "    height=400,\n",
        "    xaxis=dict(tickangle=45, tickmode='array', tickvals=list(range(len(purpose.index))), ticktext=purpose.index.map(purpose_dict)),\n",
        ")\n",
        "\n",
        "# Use pyo.plot instead of fig.show() if you are working offline\n",
        "fig.show()\n"
      ],
      "metadata": {
        "colab": {
          "base_uri": "https://localhost:8080/",
          "height": 417
        },
        "id": "UjqbnqK1HmLo",
        "outputId": "e0d40348-3b3c-4b1f-a247-5e3568e2b127"
      },
      "execution_count": 30,
      "outputs": [
        {
          "output_type": "display_data",
          "data": {
            "text/html": [
              "<html>\n",
              "<head><meta charset=\"utf-8\" /></head>\n",
              "<body>\n",
              "    <div>            <script src=\"https://cdnjs.cloudflare.com/ajax/libs/mathjax/2.7.5/MathJax.js?config=TeX-AMS-MML_SVG\"></script><script type=\"text/javascript\">if (window.MathJax && window.MathJax.Hub && window.MathJax.Hub.Config) {window.MathJax.Hub.Config({SVG: {font: \"STIX-Web\"}});}</script>                <script type=\"text/javascript\">window.PlotlyConfig = {MathJaxConfig: 'local'};</script>\n",
              "        <script charset=\"utf-8\" src=\"https://cdn.plot.ly/plotly-2.24.1.min.js\"></script>                <div id=\"ece2bd56-6f90-4b44-bd9e-2c07f33e139b\" class=\"plotly-graph-div\" style=\"height:400px; width:800px;\"></div>            <script type=\"text/javascript\">                                    window.PLOTLYENV=window.PLOTLYENV || {};                                    if (document.getElementById(\"ece2bd56-6f90-4b44-bd9e-2c07f33e139b\")) {                    Plotly.newPlot(                        \"ece2bd56-6f90-4b44-bd9e-2c07f33e139b\",                        [{\"alignmentgroup\":\"True\",\"hovertemplate\":\"Purpose=%{x}\\u003cbr\\u003eNumber of entries=%{y}\\u003cbr\\u003etext=%{text}\\u003cextra\\u003e\\u003c\\u002fextra\\u003e\",\"legendgroup\":\"\",\"marker\":{\"color\":\"#636efa\",\"pattern\":{\"shape\":\"\"}},\"name\":\"\",\"offsetgroup\":\"\",\"orientation\":\"v\",\"showlegend\":false,\"text\":[47081.0,5859.0,2382.0,2145.0,1054.0,867.0,776.0,384.0,323.0,91.0,90.0,50.0],\"textposition\":\"auto\",\"x\":[\"Commercial\",\"Personal\",\"Scientific\",\"Hunting trophy\",\"Circus or travelling exhibition\",\"Medical\",\"Zoo\",\"Breeding in captivity or artificial propagation\",\"Educational\",\"Botanical garden\",\"Law enforcement\",\"Reintroduction or introduction into the wild\"],\"xaxis\":\"x\",\"y\":[47081,5859,2382,2145,1054,867,776,384,323,91,90,50],\"yaxis\":\"y\",\"type\":\"bar\"}],                        {\"template\":{\"data\":{\"histogram2dcontour\":[{\"type\":\"histogram2dcontour\",\"colorbar\":{\"outlinewidth\":0,\"ticks\":\"\"},\"colorscale\":[[0.0,\"#0d0887\"],[0.1111111111111111,\"#46039f\"],[0.2222222222222222,\"#7201a8\"],[0.3333333333333333,\"#9c179e\"],[0.4444444444444444,\"#bd3786\"],[0.5555555555555556,\"#d8576b\"],[0.6666666666666666,\"#ed7953\"],[0.7777777777777778,\"#fb9f3a\"],[0.8888888888888888,\"#fdca26\"],[1.0,\"#f0f921\"]]}],\"choropleth\":[{\"type\":\"choropleth\",\"colorbar\":{\"outlinewidth\":0,\"ticks\":\"\"}}],\"histogram2d\":[{\"type\":\"histogram2d\",\"colorbar\":{\"outlinewidth\":0,\"ticks\":\"\"},\"colorscale\":[[0.0,\"#0d0887\"],[0.1111111111111111,\"#46039f\"],[0.2222222222222222,\"#7201a8\"],[0.3333333333333333,\"#9c179e\"],[0.4444444444444444,\"#bd3786\"],[0.5555555555555556,\"#d8576b\"],[0.6666666666666666,\"#ed7953\"],[0.7777777777777778,\"#fb9f3a\"],[0.8888888888888888,\"#fdca26\"],[1.0,\"#f0f921\"]]}],\"heatmap\":[{\"type\":\"heatmap\",\"colorbar\":{\"outlinewidth\":0,\"ticks\":\"\"},\"colorscale\":[[0.0,\"#0d0887\"],[0.1111111111111111,\"#46039f\"],[0.2222222222222222,\"#7201a8\"],[0.3333333333333333,\"#9c179e\"],[0.4444444444444444,\"#bd3786\"],[0.5555555555555556,\"#d8576b\"],[0.6666666666666666,\"#ed7953\"],[0.7777777777777778,\"#fb9f3a\"],[0.8888888888888888,\"#fdca26\"],[1.0,\"#f0f921\"]]}],\"heatmapgl\":[{\"type\":\"heatmapgl\",\"colorbar\":{\"outlinewidth\":0,\"ticks\":\"\"},\"colorscale\":[[0.0,\"#0d0887\"],[0.1111111111111111,\"#46039f\"],[0.2222222222222222,\"#7201a8\"],[0.3333333333333333,\"#9c179e\"],[0.4444444444444444,\"#bd3786\"],[0.5555555555555556,\"#d8576b\"],[0.6666666666666666,\"#ed7953\"],[0.7777777777777778,\"#fb9f3a\"],[0.8888888888888888,\"#fdca26\"],[1.0,\"#f0f921\"]]}],\"contourcarpet\":[{\"type\":\"contourcarpet\",\"colorbar\":{\"outlinewidth\":0,\"ticks\":\"\"}}],\"contour\":[{\"type\":\"contour\",\"colorbar\":{\"outlinewidth\":0,\"ticks\":\"\"},\"colorscale\":[[0.0,\"#0d0887\"],[0.1111111111111111,\"#46039f\"],[0.2222222222222222,\"#7201a8\"],[0.3333333333333333,\"#9c179e\"],[0.4444444444444444,\"#bd3786\"],[0.5555555555555556,\"#d8576b\"],[0.6666666666666666,\"#ed7953\"],[0.7777777777777778,\"#fb9f3a\"],[0.8888888888888888,\"#fdca26\"],[1.0,\"#f0f921\"]]}],\"surface\":[{\"type\":\"surface\",\"colorbar\":{\"outlinewidth\":0,\"ticks\":\"\"},\"colorscale\":[[0.0,\"#0d0887\"],[0.1111111111111111,\"#46039f\"],[0.2222222222222222,\"#7201a8\"],[0.3333333333333333,\"#9c179e\"],[0.4444444444444444,\"#bd3786\"],[0.5555555555555556,\"#d8576b\"],[0.6666666666666666,\"#ed7953\"],[0.7777777777777778,\"#fb9f3a\"],[0.8888888888888888,\"#fdca26\"],[1.0,\"#f0f921\"]]}],\"mesh3d\":[{\"type\":\"mesh3d\",\"colorbar\":{\"outlinewidth\":0,\"ticks\":\"\"}}],\"scatter\":[{\"fillpattern\":{\"fillmode\":\"overlay\",\"size\":10,\"solidity\":0.2},\"type\":\"scatter\"}],\"parcoords\":[{\"type\":\"parcoords\",\"line\":{\"colorbar\":{\"outlinewidth\":0,\"ticks\":\"\"}}}],\"scatterpolargl\":[{\"type\":\"scatterpolargl\",\"marker\":{\"colorbar\":{\"outlinewidth\":0,\"ticks\":\"\"}}}],\"bar\":[{\"error_x\":{\"color\":\"#2a3f5f\"},\"error_y\":{\"color\":\"#2a3f5f\"},\"marker\":{\"line\":{\"color\":\"#E5ECF6\",\"width\":0.5},\"pattern\":{\"fillmode\":\"overlay\",\"size\":10,\"solidity\":0.2}},\"type\":\"bar\"}],\"scattergeo\":[{\"type\":\"scattergeo\",\"marker\":{\"colorbar\":{\"outlinewidth\":0,\"ticks\":\"\"}}}],\"scatterpolar\":[{\"type\":\"scatterpolar\",\"marker\":{\"colorbar\":{\"outlinewidth\":0,\"ticks\":\"\"}}}],\"histogram\":[{\"marker\":{\"pattern\":{\"fillmode\":\"overlay\",\"size\":10,\"solidity\":0.2}},\"type\":\"histogram\"}],\"scattergl\":[{\"type\":\"scattergl\",\"marker\":{\"colorbar\":{\"outlinewidth\":0,\"ticks\":\"\"}}}],\"scatter3d\":[{\"type\":\"scatter3d\",\"line\":{\"colorbar\":{\"outlinewidth\":0,\"ticks\":\"\"}},\"marker\":{\"colorbar\":{\"outlinewidth\":0,\"ticks\":\"\"}}}],\"scattermapbox\":[{\"type\":\"scattermapbox\",\"marker\":{\"colorbar\":{\"outlinewidth\":0,\"ticks\":\"\"}}}],\"scatterternary\":[{\"type\":\"scatterternary\",\"marker\":{\"colorbar\":{\"outlinewidth\":0,\"ticks\":\"\"}}}],\"scattercarpet\":[{\"type\":\"scattercarpet\",\"marker\":{\"colorbar\":{\"outlinewidth\":0,\"ticks\":\"\"}}}],\"carpet\":[{\"aaxis\":{\"endlinecolor\":\"#2a3f5f\",\"gridcolor\":\"white\",\"linecolor\":\"white\",\"minorgridcolor\":\"white\",\"startlinecolor\":\"#2a3f5f\"},\"baxis\":{\"endlinecolor\":\"#2a3f5f\",\"gridcolor\":\"white\",\"linecolor\":\"white\",\"minorgridcolor\":\"white\",\"startlinecolor\":\"#2a3f5f\"},\"type\":\"carpet\"}],\"table\":[{\"cells\":{\"fill\":{\"color\":\"#EBF0F8\"},\"line\":{\"color\":\"white\"}},\"header\":{\"fill\":{\"color\":\"#C8D4E3\"},\"line\":{\"color\":\"white\"}},\"type\":\"table\"}],\"barpolar\":[{\"marker\":{\"line\":{\"color\":\"#E5ECF6\",\"width\":0.5},\"pattern\":{\"fillmode\":\"overlay\",\"size\":10,\"solidity\":0.2}},\"type\":\"barpolar\"}],\"pie\":[{\"automargin\":true,\"type\":\"pie\"}]},\"layout\":{\"autotypenumbers\":\"strict\",\"colorway\":[\"#636efa\",\"#EF553B\",\"#00cc96\",\"#ab63fa\",\"#FFA15A\",\"#19d3f3\",\"#FF6692\",\"#B6E880\",\"#FF97FF\",\"#FECB52\"],\"font\":{\"color\":\"#2a3f5f\"},\"hovermode\":\"closest\",\"hoverlabel\":{\"align\":\"left\"},\"paper_bgcolor\":\"white\",\"plot_bgcolor\":\"#E5ECF6\",\"polar\":{\"bgcolor\":\"#E5ECF6\",\"angularaxis\":{\"gridcolor\":\"white\",\"linecolor\":\"white\",\"ticks\":\"\"},\"radialaxis\":{\"gridcolor\":\"white\",\"linecolor\":\"white\",\"ticks\":\"\"}},\"ternary\":{\"bgcolor\":\"#E5ECF6\",\"aaxis\":{\"gridcolor\":\"white\",\"linecolor\":\"white\",\"ticks\":\"\"},\"baxis\":{\"gridcolor\":\"white\",\"linecolor\":\"white\",\"ticks\":\"\"},\"caxis\":{\"gridcolor\":\"white\",\"linecolor\":\"white\",\"ticks\":\"\"}},\"coloraxis\":{\"colorbar\":{\"outlinewidth\":0,\"ticks\":\"\"}},\"colorscale\":{\"sequential\":[[0.0,\"#0d0887\"],[0.1111111111111111,\"#46039f\"],[0.2222222222222222,\"#7201a8\"],[0.3333333333333333,\"#9c179e\"],[0.4444444444444444,\"#bd3786\"],[0.5555555555555556,\"#d8576b\"],[0.6666666666666666,\"#ed7953\"],[0.7777777777777778,\"#fb9f3a\"],[0.8888888888888888,\"#fdca26\"],[1.0,\"#f0f921\"]],\"sequentialminus\":[[0.0,\"#0d0887\"],[0.1111111111111111,\"#46039f\"],[0.2222222222222222,\"#7201a8\"],[0.3333333333333333,\"#9c179e\"],[0.4444444444444444,\"#bd3786\"],[0.5555555555555556,\"#d8576b\"],[0.6666666666666666,\"#ed7953\"],[0.7777777777777778,\"#fb9f3a\"],[0.8888888888888888,\"#fdca26\"],[1.0,\"#f0f921\"]],\"diverging\":[[0,\"#8e0152\"],[0.1,\"#c51b7d\"],[0.2,\"#de77ae\"],[0.3,\"#f1b6da\"],[0.4,\"#fde0ef\"],[0.5,\"#f7f7f7\"],[0.6,\"#e6f5d0\"],[0.7,\"#b8e186\"],[0.8,\"#7fbc41\"],[0.9,\"#4d9221\"],[1,\"#276419\"]]},\"xaxis\":{\"gridcolor\":\"white\",\"linecolor\":\"white\",\"ticks\":\"\",\"title\":{\"standoff\":15},\"zerolinecolor\":\"white\",\"automargin\":true,\"zerolinewidth\":2},\"yaxis\":{\"gridcolor\":\"white\",\"linecolor\":\"white\",\"ticks\":\"\",\"title\":{\"standoff\":15},\"zerolinecolor\":\"white\",\"automargin\":true,\"zerolinewidth\":2},\"scene\":{\"xaxis\":{\"backgroundcolor\":\"#E5ECF6\",\"gridcolor\":\"white\",\"linecolor\":\"white\",\"showbackground\":true,\"ticks\":\"\",\"zerolinecolor\":\"white\",\"gridwidth\":2},\"yaxis\":{\"backgroundcolor\":\"#E5ECF6\",\"gridcolor\":\"white\",\"linecolor\":\"white\",\"showbackground\":true,\"ticks\":\"\",\"zerolinecolor\":\"white\",\"gridwidth\":2},\"zaxis\":{\"backgroundcolor\":\"#E5ECF6\",\"gridcolor\":\"white\",\"linecolor\":\"white\",\"showbackground\":true,\"ticks\":\"\",\"zerolinecolor\":\"white\",\"gridwidth\":2}},\"shapedefaults\":{\"line\":{\"color\":\"#2a3f5f\"}},\"annotationdefaults\":{\"arrowcolor\":\"#2a3f5f\",\"arrowhead\":0,\"arrowwidth\":1},\"geo\":{\"bgcolor\":\"white\",\"landcolor\":\"#E5ECF6\",\"subunitcolor\":\"white\",\"showland\":true,\"showlakes\":true,\"lakecolor\":\"white\"},\"title\":{\"x\":0.05},\"mapbox\":{\"style\":\"light\"}}},\"xaxis\":{\"anchor\":\"y\",\"domain\":[0.0,1.0],\"title\":{\"text\":\"Purpose\"},\"tickangle\":45,\"tickmode\":\"array\",\"tickvals\":[0,1,2,3,4,5,6,7,8,9,10,11],\"ticktext\":[\"Commercial\",\"Personal\",\"Scientific\",\"Hunting trophy\",\"Circus or travelling exhibition\",\"Medical\",\"Zoo\",\"Breeding in captivity or artificial propagation\",\"Educational\",\"Botanical garden\",\"Law enforcement\",\"Reintroduction or introduction into the wild\"]},\"yaxis\":{\"anchor\":\"x\",\"domain\":[0.0,1.0],\"title\":{\"text\":\"Number of entries\"}},\"legend\":{\"tracegroupgap\":0},\"title\":{\"text\":\"The most traded by purpose\"},\"barmode\":\"relative\",\"autosize\":false,\"width\":800,\"height\":400},                        {\"responsive\": true}                    ).then(function(){\n",
              "                            \n",
              "var gd = document.getElementById('ece2bd56-6f90-4b44-bd9e-2c07f33e139b');\n",
              "var x = new MutationObserver(function (mutations, observer) {{\n",
              "        var display = window.getComputedStyle(gd).display;\n",
              "        if (!display || display === 'none') {{\n",
              "            console.log([gd, 'removed!']);\n",
              "            Plotly.purge(gd);\n",
              "            observer.disconnect();\n",
              "        }}\n",
              "}});\n",
              "\n",
              "// Listen for the removal of the full notebook cells\n",
              "var notebookContainer = gd.closest('#notebook-container');\n",
              "if (notebookContainer) {{\n",
              "    x.observe(notebookContainer, {childList: true});\n",
              "}}\n",
              "\n",
              "// Listen for the clearing of the current output cell\n",
              "var outputEl = gd.closest('.output');\n",
              "if (outputEl) {{\n",
              "    x.observe(outputEl, {childList: true});\n",
              "}}\n",
              "\n",
              "                        })                };                            </script>        </div>\n",
              "</body>\n",
              "</html>"
            ]
          },
          "metadata": {}
        }
      ]
    },
    {
      "cell_type": "markdown",
      "source": [
        "1.6. Source"
      ],
      "metadata": {
        "id": "ATtbKhWtHvgs"
      }
    },
    {
      "cell_type": "code",
      "source": [
        "source_dict = dict({'A': 'Artificially propagated',\n",
        "                    'C': 'Bred in captivity',\n",
        "                    'D': 'Bred in captivity for commercial purposes',\n",
        "                    'F': 'Born in captivity',\n",
        "                    'I': 'Confiscated or seized specimens',\n",
        "                    'O': 'Pre-Convention specimens',\n",
        "                    'R': 'Ranched specimens',\n",
        "                    'U': 'Unknown',\n",
        "                    'W': 'Taken from wild',\n",
        "                    'X': 'Taken from marine env.'})"
      ],
      "metadata": {
        "id": "jiGbYT5GH0Fz"
      },
      "execution_count": 31,
      "outputs": []
    },
    {
      "cell_type": "code",
      "source": [
        "import pandas as pd\n",
        "import plotly.express as px\n",
        "\n",
        "# Read data from the CSV file (replace 'wildlife.csv' with your actual filename)\n",
        "species = pd.read_csv('wildlife.csv')\n",
        "\n",
        "source = species['Source'].value_counts()\n",
        "\n",
        "# Create a bar chart using Plotly Express\n",
        "fig = px.bar(\n",
        "    x=source.index.map(source_dict),\n",
        "    y=source,\n",
        "    text=source,\n",
        "    labels={'x': 'Source', 'y': 'Number of entries'},\n",
        "    title='The most traded by source',\n",
        ")\n",
        "\n",
        "# Set the layout parameters\n",
        "fig.update_layout(\n",
        "    autosize=False,\n",
        "    width=800,\n",
        "    height=400,\n",
        "    xaxis=dict(tickangle=45, tickmode='array', tickvals=list(range(len(source.index))), ticktext=source.index.map(source_dict)),\n",
        ")\n",
        "\n",
        "# Use pyo.plot instead of fig.show() if you are working offline\n",
        "fig.show()\n"
      ],
      "metadata": {
        "colab": {
          "base_uri": "https://localhost:8080/",
          "height": 417
        },
        "id": "EIMoLK2IH4M0",
        "outputId": "635cb947-caf0-40b8-8bf7-663a20c444cc"
      },
      "execution_count": 32,
      "outputs": [
        {
          "output_type": "display_data",
          "data": {
            "text/html": [
              "<html>\n",
              "<head><meta charset=\"utf-8\" /></head>\n",
              "<body>\n",
              "    <div>            <script src=\"https://cdnjs.cloudflare.com/ajax/libs/mathjax/2.7.5/MathJax.js?config=TeX-AMS-MML_SVG\"></script><script type=\"text/javascript\">if (window.MathJax && window.MathJax.Hub && window.MathJax.Hub.Config) {window.MathJax.Hub.Config({SVG: {font: \"STIX-Web\"}});}</script>                <script type=\"text/javascript\">window.PlotlyConfig = {MathJaxConfig: 'local'};</script>\n",
              "        <script charset=\"utf-8\" src=\"https://cdn.plot.ly/plotly-2.24.1.min.js\"></script>                <div id=\"6e826fce-62db-46ff-a995-19c112a649aa\" class=\"plotly-graph-div\" style=\"height:400px; width:800px;\"></div>            <script type=\"text/javascript\">                                    window.PLOTLYENV=window.PLOTLYENV || {};                                    if (document.getElementById(\"6e826fce-62db-46ff-a995-19c112a649aa\")) {                    Plotly.newPlot(                        \"6e826fce-62db-46ff-a995-19c112a649aa\",                        [{\"alignmentgroup\":\"True\",\"hovertemplate\":\"Source=%{x}\\u003cbr\\u003eNumber of entries=%{y}\\u003cbr\\u003etext=%{text}\\u003cextra\\u003e\\u003c\\u002fextra\\u003e\",\"legendgroup\":\"\",\"marker\":{\"color\":\"#636efa\",\"pattern\":{\"shape\":\"\"}},\"name\":\"\",\"offsetgroup\":\"\",\"orientation\":\"v\",\"showlegend\":false,\"text\":[21590.0,16749.0,15955.0,4571.0,2130.0,1825.0,1769.0,1753.0,248.0,27.0],\"textposition\":\"auto\",\"x\":[\"Taken from wild\",\"Artificially propagated\",\"Bred in captivity\",\"Born in captivity\",\"Confiscated or seized specimens\",\"Pre-Convention specimens\",\"Bred in captivity for commercial purposes\",\"Ranched specimens\",\"Unknown\",\"Taken from marine env.\"],\"xaxis\":\"x\",\"y\":[21590,16749,15955,4571,2130,1825,1769,1753,248,27],\"yaxis\":\"y\",\"type\":\"bar\"}],                        {\"template\":{\"data\":{\"histogram2dcontour\":[{\"type\":\"histogram2dcontour\",\"colorbar\":{\"outlinewidth\":0,\"ticks\":\"\"},\"colorscale\":[[0.0,\"#0d0887\"],[0.1111111111111111,\"#46039f\"],[0.2222222222222222,\"#7201a8\"],[0.3333333333333333,\"#9c179e\"],[0.4444444444444444,\"#bd3786\"],[0.5555555555555556,\"#d8576b\"],[0.6666666666666666,\"#ed7953\"],[0.7777777777777778,\"#fb9f3a\"],[0.8888888888888888,\"#fdca26\"],[1.0,\"#f0f921\"]]}],\"choropleth\":[{\"type\":\"choropleth\",\"colorbar\":{\"outlinewidth\":0,\"ticks\":\"\"}}],\"histogram2d\":[{\"type\":\"histogram2d\",\"colorbar\":{\"outlinewidth\":0,\"ticks\":\"\"},\"colorscale\":[[0.0,\"#0d0887\"],[0.1111111111111111,\"#46039f\"],[0.2222222222222222,\"#7201a8\"],[0.3333333333333333,\"#9c179e\"],[0.4444444444444444,\"#bd3786\"],[0.5555555555555556,\"#d8576b\"],[0.6666666666666666,\"#ed7953\"],[0.7777777777777778,\"#fb9f3a\"],[0.8888888888888888,\"#fdca26\"],[1.0,\"#f0f921\"]]}],\"heatmap\":[{\"type\":\"heatmap\",\"colorbar\":{\"outlinewidth\":0,\"ticks\":\"\"},\"colorscale\":[[0.0,\"#0d0887\"],[0.1111111111111111,\"#46039f\"],[0.2222222222222222,\"#7201a8\"],[0.3333333333333333,\"#9c179e\"],[0.4444444444444444,\"#bd3786\"],[0.5555555555555556,\"#d8576b\"],[0.6666666666666666,\"#ed7953\"],[0.7777777777777778,\"#fb9f3a\"],[0.8888888888888888,\"#fdca26\"],[1.0,\"#f0f921\"]]}],\"heatmapgl\":[{\"type\":\"heatmapgl\",\"colorbar\":{\"outlinewidth\":0,\"ticks\":\"\"},\"colorscale\":[[0.0,\"#0d0887\"],[0.1111111111111111,\"#46039f\"],[0.2222222222222222,\"#7201a8\"],[0.3333333333333333,\"#9c179e\"],[0.4444444444444444,\"#bd3786\"],[0.5555555555555556,\"#d8576b\"],[0.6666666666666666,\"#ed7953\"],[0.7777777777777778,\"#fb9f3a\"],[0.8888888888888888,\"#fdca26\"],[1.0,\"#f0f921\"]]}],\"contourcarpet\":[{\"type\":\"contourcarpet\",\"colorbar\":{\"outlinewidth\":0,\"ticks\":\"\"}}],\"contour\":[{\"type\":\"contour\",\"colorbar\":{\"outlinewidth\":0,\"ticks\":\"\"},\"colorscale\":[[0.0,\"#0d0887\"],[0.1111111111111111,\"#46039f\"],[0.2222222222222222,\"#7201a8\"],[0.3333333333333333,\"#9c179e\"],[0.4444444444444444,\"#bd3786\"],[0.5555555555555556,\"#d8576b\"],[0.6666666666666666,\"#ed7953\"],[0.7777777777777778,\"#fb9f3a\"],[0.8888888888888888,\"#fdca26\"],[1.0,\"#f0f921\"]]}],\"surface\":[{\"type\":\"surface\",\"colorbar\":{\"outlinewidth\":0,\"ticks\":\"\"},\"colorscale\":[[0.0,\"#0d0887\"],[0.1111111111111111,\"#46039f\"],[0.2222222222222222,\"#7201a8\"],[0.3333333333333333,\"#9c179e\"],[0.4444444444444444,\"#bd3786\"],[0.5555555555555556,\"#d8576b\"],[0.6666666666666666,\"#ed7953\"],[0.7777777777777778,\"#fb9f3a\"],[0.8888888888888888,\"#fdca26\"],[1.0,\"#f0f921\"]]}],\"mesh3d\":[{\"type\":\"mesh3d\",\"colorbar\":{\"outlinewidth\":0,\"ticks\":\"\"}}],\"scatter\":[{\"fillpattern\":{\"fillmode\":\"overlay\",\"size\":10,\"solidity\":0.2},\"type\":\"scatter\"}],\"parcoords\":[{\"type\":\"parcoords\",\"line\":{\"colorbar\":{\"outlinewidth\":0,\"ticks\":\"\"}}}],\"scatterpolargl\":[{\"type\":\"scatterpolargl\",\"marker\":{\"colorbar\":{\"outlinewidth\":0,\"ticks\":\"\"}}}],\"bar\":[{\"error_x\":{\"color\":\"#2a3f5f\"},\"error_y\":{\"color\":\"#2a3f5f\"},\"marker\":{\"line\":{\"color\":\"#E5ECF6\",\"width\":0.5},\"pattern\":{\"fillmode\":\"overlay\",\"size\":10,\"solidity\":0.2}},\"type\":\"bar\"}],\"scattergeo\":[{\"type\":\"scattergeo\",\"marker\":{\"colorbar\":{\"outlinewidth\":0,\"ticks\":\"\"}}}],\"scatterpolar\":[{\"type\":\"scatterpolar\",\"marker\":{\"colorbar\":{\"outlinewidth\":0,\"ticks\":\"\"}}}],\"histogram\":[{\"marker\":{\"pattern\":{\"fillmode\":\"overlay\",\"size\":10,\"solidity\":0.2}},\"type\":\"histogram\"}],\"scattergl\":[{\"type\":\"scattergl\",\"marker\":{\"colorbar\":{\"outlinewidth\":0,\"ticks\":\"\"}}}],\"scatter3d\":[{\"type\":\"scatter3d\",\"line\":{\"colorbar\":{\"outlinewidth\":0,\"ticks\":\"\"}},\"marker\":{\"colorbar\":{\"outlinewidth\":0,\"ticks\":\"\"}}}],\"scattermapbox\":[{\"type\":\"scattermapbox\",\"marker\":{\"colorbar\":{\"outlinewidth\":0,\"ticks\":\"\"}}}],\"scatterternary\":[{\"type\":\"scatterternary\",\"marker\":{\"colorbar\":{\"outlinewidth\":0,\"ticks\":\"\"}}}],\"scattercarpet\":[{\"type\":\"scattercarpet\",\"marker\":{\"colorbar\":{\"outlinewidth\":0,\"ticks\":\"\"}}}],\"carpet\":[{\"aaxis\":{\"endlinecolor\":\"#2a3f5f\",\"gridcolor\":\"white\",\"linecolor\":\"white\",\"minorgridcolor\":\"white\",\"startlinecolor\":\"#2a3f5f\"},\"baxis\":{\"endlinecolor\":\"#2a3f5f\",\"gridcolor\":\"white\",\"linecolor\":\"white\",\"minorgridcolor\":\"white\",\"startlinecolor\":\"#2a3f5f\"},\"type\":\"carpet\"}],\"table\":[{\"cells\":{\"fill\":{\"color\":\"#EBF0F8\"},\"line\":{\"color\":\"white\"}},\"header\":{\"fill\":{\"color\":\"#C8D4E3\"},\"line\":{\"color\":\"white\"}},\"type\":\"table\"}],\"barpolar\":[{\"marker\":{\"line\":{\"color\":\"#E5ECF6\",\"width\":0.5},\"pattern\":{\"fillmode\":\"overlay\",\"size\":10,\"solidity\":0.2}},\"type\":\"barpolar\"}],\"pie\":[{\"automargin\":true,\"type\":\"pie\"}]},\"layout\":{\"autotypenumbers\":\"strict\",\"colorway\":[\"#636efa\",\"#EF553B\",\"#00cc96\",\"#ab63fa\",\"#FFA15A\",\"#19d3f3\",\"#FF6692\",\"#B6E880\",\"#FF97FF\",\"#FECB52\"],\"font\":{\"color\":\"#2a3f5f\"},\"hovermode\":\"closest\",\"hoverlabel\":{\"align\":\"left\"},\"paper_bgcolor\":\"white\",\"plot_bgcolor\":\"#E5ECF6\",\"polar\":{\"bgcolor\":\"#E5ECF6\",\"angularaxis\":{\"gridcolor\":\"white\",\"linecolor\":\"white\",\"ticks\":\"\"},\"radialaxis\":{\"gridcolor\":\"white\",\"linecolor\":\"white\",\"ticks\":\"\"}},\"ternary\":{\"bgcolor\":\"#E5ECF6\",\"aaxis\":{\"gridcolor\":\"white\",\"linecolor\":\"white\",\"ticks\":\"\"},\"baxis\":{\"gridcolor\":\"white\",\"linecolor\":\"white\",\"ticks\":\"\"},\"caxis\":{\"gridcolor\":\"white\",\"linecolor\":\"white\",\"ticks\":\"\"}},\"coloraxis\":{\"colorbar\":{\"outlinewidth\":0,\"ticks\":\"\"}},\"colorscale\":{\"sequential\":[[0.0,\"#0d0887\"],[0.1111111111111111,\"#46039f\"],[0.2222222222222222,\"#7201a8\"],[0.3333333333333333,\"#9c179e\"],[0.4444444444444444,\"#bd3786\"],[0.5555555555555556,\"#d8576b\"],[0.6666666666666666,\"#ed7953\"],[0.7777777777777778,\"#fb9f3a\"],[0.8888888888888888,\"#fdca26\"],[1.0,\"#f0f921\"]],\"sequentialminus\":[[0.0,\"#0d0887\"],[0.1111111111111111,\"#46039f\"],[0.2222222222222222,\"#7201a8\"],[0.3333333333333333,\"#9c179e\"],[0.4444444444444444,\"#bd3786\"],[0.5555555555555556,\"#d8576b\"],[0.6666666666666666,\"#ed7953\"],[0.7777777777777778,\"#fb9f3a\"],[0.8888888888888888,\"#fdca26\"],[1.0,\"#f0f921\"]],\"diverging\":[[0,\"#8e0152\"],[0.1,\"#c51b7d\"],[0.2,\"#de77ae\"],[0.3,\"#f1b6da\"],[0.4,\"#fde0ef\"],[0.5,\"#f7f7f7\"],[0.6,\"#e6f5d0\"],[0.7,\"#b8e186\"],[0.8,\"#7fbc41\"],[0.9,\"#4d9221\"],[1,\"#276419\"]]},\"xaxis\":{\"gridcolor\":\"white\",\"linecolor\":\"white\",\"ticks\":\"\",\"title\":{\"standoff\":15},\"zerolinecolor\":\"white\",\"automargin\":true,\"zerolinewidth\":2},\"yaxis\":{\"gridcolor\":\"white\",\"linecolor\":\"white\",\"ticks\":\"\",\"title\":{\"standoff\":15},\"zerolinecolor\":\"white\",\"automargin\":true,\"zerolinewidth\":2},\"scene\":{\"xaxis\":{\"backgroundcolor\":\"#E5ECF6\",\"gridcolor\":\"white\",\"linecolor\":\"white\",\"showbackground\":true,\"ticks\":\"\",\"zerolinecolor\":\"white\",\"gridwidth\":2},\"yaxis\":{\"backgroundcolor\":\"#E5ECF6\",\"gridcolor\":\"white\",\"linecolor\":\"white\",\"showbackground\":true,\"ticks\":\"\",\"zerolinecolor\":\"white\",\"gridwidth\":2},\"zaxis\":{\"backgroundcolor\":\"#E5ECF6\",\"gridcolor\":\"white\",\"linecolor\":\"white\",\"showbackground\":true,\"ticks\":\"\",\"zerolinecolor\":\"white\",\"gridwidth\":2}},\"shapedefaults\":{\"line\":{\"color\":\"#2a3f5f\"}},\"annotationdefaults\":{\"arrowcolor\":\"#2a3f5f\",\"arrowhead\":0,\"arrowwidth\":1},\"geo\":{\"bgcolor\":\"white\",\"landcolor\":\"#E5ECF6\",\"subunitcolor\":\"white\",\"showland\":true,\"showlakes\":true,\"lakecolor\":\"white\"},\"title\":{\"x\":0.05},\"mapbox\":{\"style\":\"light\"}}},\"xaxis\":{\"anchor\":\"y\",\"domain\":[0.0,1.0],\"title\":{\"text\":\"Source\"},\"tickangle\":45,\"tickmode\":\"array\",\"tickvals\":[0,1,2,3,4,5,6,7,8,9],\"ticktext\":[\"Taken from wild\",\"Artificially propagated\",\"Bred in captivity\",\"Born in captivity\",\"Confiscated or seized specimens\",\"Pre-Convention specimens\",\"Bred in captivity for commercial purposes\",\"Ranched specimens\",\"Unknown\",\"Taken from marine env.\"]},\"yaxis\":{\"anchor\":\"x\",\"domain\":[0.0,1.0],\"title\":{\"text\":\"Number of entries\"}},\"legend\":{\"tracegroupgap\":0},\"title\":{\"text\":\"The most traded by source\"},\"barmode\":\"relative\",\"autosize\":false,\"width\":800,\"height\":400},                        {\"responsive\": true}                    ).then(function(){\n",
              "                            \n",
              "var gd = document.getElementById('6e826fce-62db-46ff-a995-19c112a649aa');\n",
              "var x = new MutationObserver(function (mutations, observer) {{\n",
              "        var display = window.getComputedStyle(gd).display;\n",
              "        if (!display || display === 'none') {{\n",
              "            console.log([gd, 'removed!']);\n",
              "            Plotly.purge(gd);\n",
              "            observer.disconnect();\n",
              "        }}\n",
              "}});\n",
              "\n",
              "// Listen for the removal of the full notebook cells\n",
              "var notebookContainer = gd.closest('#notebook-container');\n",
              "if (notebookContainer) {{\n",
              "    x.observe(notebookContainer, {childList: true});\n",
              "}}\n",
              "\n",
              "// Listen for the clearing of the current output cell\n",
              "var outputEl = gd.closest('.output');\n",
              "if (outputEl) {{\n",
              "    x.observe(outputEl, {childList: true});\n",
              "}}\n",
              "\n",
              "                        })                };                            </script>        </div>\n",
              "</body>\n",
              "</html>"
            ]
          },
          "metadata": {}
        }
      ]
    },
    {
      "cell_type": "markdown",
      "source": [
        "**2. Detailed insight**"
      ],
      "metadata": {
        "id": "Fq7sOqWtNN9R"
      }
    },
    {
      "cell_type": "markdown",
      "source": [
        "2.1. Top 10 exporters"
      ],
      "metadata": {
        "id": "9CAQc8KBNS9G"
      }
    },
    {
      "cell_type": "code",
      "source": [
        "import pandas as pd\n",
        "import plotly.express as px\n",
        "\n",
        "# Read data from the CSV file (replace 'wildlife.csv' with your actual filename)\n",
        "species = pd.read_csv('wildlife.csv')\n",
        "\n",
        "exporters_10 = species['Exporter'].value_counts()[:10]\n",
        "classes_all = species['Class'].value_counts()\n",
        "\n",
        "data = []\n",
        "\n",
        "for cls in classes_all.index:\n",
        "    df_cls = species[species['Class'] == cls]\n",
        "    cls_counts = df_cls.groupby('Exporter').size().reindex(exporters_10.index, fill_value=0)\n",
        "    data.append(cls_counts)\n",
        "\n",
        "missing_values = []\n",
        "all_values = 0\n",
        "\n",
        "for exporter in exporters_10.index:\n",
        "    missing_values.append(species[(species['Exporter'] == exporter) & (species['Class'].isnull())].shape[0])\n",
        "    all_values += species[(species['Exporter'] == exporter) & (species['Class'].notnull())].shape[0]\n",
        "\n",
        "missing_series = pd.Series(data=missing_values, index=exporters_10.index)\n",
        "data.append(missing_series)\n",
        "\n",
        "# Convert the list of Series into a DataFrame\n",
        "df_stacked = pd.DataFrame(data, index=classes_all.index.union(['Unknown'])).T\n",
        "\n",
        "# Create a stacked bar chart using Plotly Express\n",
        "fig = px.bar(\n",
        "    df_stacked,\n",
        "    x=exporters_10.index,\n",
        "    y=df_stacked.columns,\n",
        "    title='Top 10 exporters',\n",
        "    labels={'value': 'Number of entries', 'index': 'Exporter'},\n",
        "    barmode='stack',\n",
        ")\n",
        "\n",
        "# Add annotation for the percentage of missing data\n",
        "fig.add_annotation(\n",
        "    x=8,\n",
        "    y=6500,\n",
        "    xref='x',\n",
        "    yref='y',\n",
        "    text=f'Note! {round(sum(missing_values) / all_values * 100, 2)}% of data is missing.',\n",
        "    showarrow=False,\n",
        ")\n",
        "\n",
        "# Use pyo.plot instead of fig.show() if you are working offline\n",
        "fig.show()\n"
      ],
      "metadata": {
        "colab": {
          "base_uri": "https://localhost:8080/",
          "height": 542
        },
        "id": "yZQtS7Z1NVgP",
        "outputId": "0af1a240-fbd6-4d1b-eaab-97b3131c21c8"
      },
      "execution_count": 33,
      "outputs": [
        {
          "output_type": "display_data",
          "data": {
            "text/html": [
              "<html>\n",
              "<head><meta charset=\"utf-8\" /></head>\n",
              "<body>\n",
              "    <div>            <script src=\"https://cdnjs.cloudflare.com/ajax/libs/mathjax/2.7.5/MathJax.js?config=TeX-AMS-MML_SVG\"></script><script type=\"text/javascript\">if (window.MathJax && window.MathJax.Hub && window.MathJax.Hub.Config) {window.MathJax.Hub.Config({SVG: {font: \"STIX-Web\"}});}</script>                <script type=\"text/javascript\">window.PlotlyConfig = {MathJaxConfig: 'local'};</script>\n",
              "        <script charset=\"utf-8\" src=\"https://cdn.plot.ly/plotly-2.24.1.min.js\"></script>                <div id=\"d6e0cf44-ea0c-4b0f-843d-826936bdf228\" class=\"plotly-graph-div\" style=\"height:525px; width:100%;\"></div>            <script type=\"text/javascript\">                                    window.PLOTLYENV=window.PLOTLYENV || {};                                    if (document.getElementById(\"d6e0cf44-ea0c-4b0f-843d-826936bdf228\")) {                    Plotly.newPlot(                        \"d6e0cf44-ea0c-4b0f-843d-826936bdf228\",                        [{\"alignmentgroup\":\"True\",\"hovertemplate\":\"variable=Actinopteri\\u003cbr\\u003eExporter=%{x}\\u003cbr\\u003eNumber of entries=%{y}\\u003cextra\\u003e\\u003c\\u002fextra\\u003e\",\"legendgroup\":\"Actinopteri\",\"marker\":{\"color\":\"#636efa\",\"pattern\":{\"shape\":\"\"}},\"name\":\"Actinopteri\",\"offsetgroup\":\"Actinopteri\",\"orientation\":\"v\",\"showlegend\":true,\"textposition\":\"auto\",\"x\":[\"NL\",\"ID\",\"IT\",\"US\",\"FR\",\"DE\",\"CN\",\"EC\",\"SG\",\"CH\"],\"xaxis\":\"x\",\"y\":[298,848,4049,1164,2070,842,321,0,887,913],\"yaxis\":\"y\",\"type\":\"bar\"},{\"alignmentgroup\":\"True\",\"hovertemplate\":\"variable=Amphibia\\u003cbr\\u003eExporter=%{x}\\u003cbr\\u003eNumber of entries=%{y}\\u003cextra\\u003e\\u003c\\u002fextra\\u003e\",\"legendgroup\":\"Amphibia\",\"marker\":{\"color\":\"#EF553B\",\"pattern\":{\"shape\":\"\"}},\"name\":\"Amphibia\",\"offsetgroup\":\"Amphibia\",\"orientation\":\"v\",\"showlegend\":true,\"textposition\":\"auto\",\"x\":[\"NL\",\"ID\",\"IT\",\"US\",\"FR\",\"DE\",\"CN\",\"EC\",\"SG\",\"CH\"],\"xaxis\":\"x\",\"y\":[13,4967,141,633,144,33,15,0,32,44],\"yaxis\":\"y\",\"type\":\"bar\"},{\"alignmentgroup\":\"True\",\"hovertemplate\":\"variable=Anthozoa\\u003cbr\\u003eExporter=%{x}\\u003cbr\\u003eNumber of entries=%{y}\\u003cextra\\u003e\\u003c\\u002fextra\\u003e\",\"legendgroup\":\"Anthozoa\",\"marker\":{\"color\":\"#00cc96\",\"pattern\":{\"shape\":\"\"}},\"name\":\"Anthozoa\",\"offsetgroup\":\"Anthozoa\",\"orientation\":\"v\",\"showlegend\":true,\"textposition\":\"auto\",\"x\":[\"NL\",\"ID\",\"IT\",\"US\",\"FR\",\"DE\",\"CN\",\"EC\",\"SG\",\"CH\"],\"xaxis\":\"x\",\"y\":[60,41,485,1059,341,300,213,1,78,171],\"yaxis\":\"y\",\"type\":\"bar\"},{\"alignmentgroup\":\"True\",\"hovertemplate\":\"variable=Arachnida\\u003cbr\\u003eExporter=%{x}\\u003cbr\\u003eNumber of entries=%{y}\\u003cextra\\u003e\\u003c\\u002fextra\\u003e\",\"legendgroup\":\"Arachnida\",\"marker\":{\"color\":\"#ab63fa\",\"pattern\":{\"shape\":\"\"}},\"name\":\"Arachnida\",\"offsetgroup\":\"Arachnida\",\"orientation\":\"v\",\"showlegend\":true,\"textposition\":\"auto\",\"x\":[\"NL\",\"ID\",\"IT\",\"US\",\"FR\",\"DE\",\"CN\",\"EC\",\"SG\",\"CH\"],\"xaxis\":\"x\",\"y\":[708,137,101,431,126,194,52,1,233,98],\"yaxis\":\"y\",\"type\":\"bar\"},{\"alignmentgroup\":\"True\",\"hovertemplate\":\"variable=Aves\\u003cbr\\u003eExporter=%{x}\\u003cbr\\u003eNumber of entries=%{y}\\u003cextra\\u003e\\u003c\\u002fextra\\u003e\",\"legendgroup\":\"Aves\",\"marker\":{\"color\":\"#FFA15A\",\"pattern\":{\"shape\":\"\"}},\"name\":\"Aves\",\"offsetgroup\":\"Aves\",\"orientation\":\"v\",\"showlegend\":true,\"textposition\":\"auto\",\"x\":[\"NL\",\"ID\",\"IT\",\"US\",\"FR\",\"DE\",\"CN\",\"EC\",\"SG\",\"CH\"],\"xaxis\":\"x\",\"y\":[27,31,244,96,615,578,166,0,102,56],\"yaxis\":\"y\",\"type\":\"bar\"},{\"alignmentgroup\":\"True\",\"hovertemplate\":\"variable=Bivalvia\\u003cbr\\u003eExporter=%{x}\\u003cbr\\u003eNumber of entries=%{y}\\u003cextra\\u003e\\u003c\\u002fextra\\u003e\",\"legendgroup\":\"Bivalvia\",\"marker\":{\"color\":\"#19d3f3\",\"pattern\":{\"shape\":\"\"}},\"name\":\"Bivalvia\",\"offsetgroup\":\"Bivalvia\",\"orientation\":\"v\",\"showlegend\":true,\"textposition\":\"auto\",\"x\":[\"NL\",\"ID\",\"IT\",\"US\",\"FR\",\"DE\",\"CN\",\"EC\",\"SG\",\"CH\"],\"xaxis\":\"x\",\"y\":[80,1,0,30,8,53,0,9,1,0],\"yaxis\":\"y\",\"type\":\"bar\"},{\"alignmentgroup\":\"True\",\"hovertemplate\":\"variable=Coelacanthi\\u003cbr\\u003eExporter=%{x}\\u003cbr\\u003eNumber of entries=%{y}\\u003cextra\\u003e\\u003c\\u002fextra\\u003e\",\"legendgroup\":\"Coelacanthi\",\"marker\":{\"color\":\"#FF6692\",\"pattern\":{\"shape\":\"\"}},\"name\":\"Coelacanthi\",\"offsetgroup\":\"Coelacanthi\",\"orientation\":\"v\",\"showlegend\":true,\"textposition\":\"auto\",\"x\":[\"NL\",\"ID\",\"IT\",\"US\",\"FR\",\"DE\",\"CN\",\"EC\",\"SG\",\"CH\"],\"xaxis\":\"x\",\"y\":[0,219,0,2,1,25,0,0,0,0],\"yaxis\":\"y\",\"type\":\"bar\"},{\"alignmentgroup\":\"True\",\"hovertemplate\":\"variable=Dipneusti\\u003cbr\\u003eExporter=%{x}\\u003cbr\\u003eNumber of entries=%{y}\\u003cextra\\u003e\\u003c\\u002fextra\\u003e\",\"legendgroup\":\"Dipneusti\",\"marker\":{\"color\":\"#B6E880\",\"pattern\":{\"shape\":\"\"}},\"name\":\"Dipneusti\",\"offsetgroup\":\"Dipneusti\",\"orientation\":\"v\",\"showlegend\":true,\"textposition\":\"auto\",\"x\":[\"NL\",\"ID\",\"IT\",\"US\",\"FR\",\"DE\",\"CN\",\"EC\",\"SG\",\"CH\"],\"xaxis\":\"x\",\"y\":[1,37,5,25,34,2,1,0,3,1],\"yaxis\":\"y\",\"type\":\"bar\"},{\"alignmentgroup\":\"True\",\"hovertemplate\":\"variable=Elasmobranchii\\u003cbr\\u003eExporter=%{x}\\u003cbr\\u003eNumber of entries=%{y}\\u003cextra\\u003e\\u003c\\u002fextra\\u003e\",\"legendgroup\":\"Elasmobranchii\",\"marker\":{\"color\":\"#FF97FF\",\"pattern\":{\"shape\":\"\"}},\"name\":\"Elasmobranchii\",\"offsetgroup\":\"Elasmobranchii\",\"orientation\":\"v\",\"showlegend\":true,\"textposition\":\"auto\",\"x\":[\"NL\",\"ID\",\"IT\",\"US\",\"FR\",\"DE\",\"CN\",\"EC\",\"SG\",\"CH\"],\"xaxis\":\"x\",\"y\":[0,0,7,18,3,1,1,0,3,9],\"yaxis\":\"y\",\"type\":\"bar\"},{\"alignmentgroup\":\"True\",\"hovertemplate\":\"variable=Gastropoda\\u003cbr\\u003eExporter=%{x}\\u003cbr\\u003eNumber of entries=%{y}\\u003cextra\\u003e\\u003c\\u002fextra\\u003e\",\"legendgroup\":\"Gastropoda\",\"marker\":{\"color\":\"#FECB52\",\"pattern\":{\"shape\":\"\"}},\"name\":\"Gastropoda\",\"offsetgroup\":\"Gastropoda\",\"orientation\":\"v\",\"showlegend\":true,\"textposition\":\"auto\",\"x\":[\"NL\",\"ID\",\"IT\",\"US\",\"FR\",\"DE\",\"CN\",\"EC\",\"SG\",\"CH\"],\"xaxis\":\"x\",\"y\":[0,84,0,41,9,0,0,0,0,0],\"yaxis\":\"y\",\"type\":\"bar\"},{\"alignmentgroup\":\"True\",\"hovertemplate\":\"variable=Hirudinoidea\\u003cbr\\u003eExporter=%{x}\\u003cbr\\u003eNumber of entries=%{y}\\u003cextra\\u003e\\u003c\\u002fextra\\u003e\",\"legendgroup\":\"Hirudinoidea\",\"marker\":{\"color\":\"#636efa\",\"pattern\":{\"shape\":\"\"}},\"name\":\"Hirudinoidea\",\"offsetgroup\":\"Hirudinoidea\",\"orientation\":\"v\",\"showlegend\":true,\"textposition\":\"auto\",\"x\":[\"NL\",\"ID\",\"IT\",\"US\",\"FR\",\"DE\",\"CN\",\"EC\",\"SG\",\"CH\"],\"xaxis\":\"x\",\"y\":[0,1,0,30,0,0,6,0,2,0],\"yaxis\":\"y\",\"type\":\"bar\"},{\"alignmentgroup\":\"True\",\"hovertemplate\":\"variable=Holothuroidea\\u003cbr\\u003eExporter=%{x}\\u003cbr\\u003eNumber of entries=%{y}\\u003cextra\\u003e\\u003c\\u002fextra\\u003e\",\"legendgroup\":\"Holothuroidea\",\"marker\":{\"color\":\"#EF553B\",\"pattern\":{\"shape\":\"\"}},\"name\":\"Holothuroidea\",\"offsetgroup\":\"Holothuroidea\",\"orientation\":\"v\",\"showlegend\":true,\"textposition\":\"auto\",\"x\":[\"NL\",\"ID\",\"IT\",\"US\",\"FR\",\"DE\",\"CN\",\"EC\",\"SG\",\"CH\"],\"xaxis\":\"x\",\"y\":[23,0,0,3,0,24,0,0,0,0],\"yaxis\":\"y\",\"type\":\"bar\"},{\"alignmentgroup\":\"True\",\"hovertemplate\":\"variable=Hydrozoa\\u003cbr\\u003eExporter=%{x}\\u003cbr\\u003eNumber of entries=%{y}\\u003cextra\\u003e\\u003c\\u002fextra\\u003e\",\"legendgroup\":\"Hydrozoa\",\"marker\":{\"color\":\"#00cc96\",\"pattern\":{\"shape\":\"\"}},\"name\":\"Hydrozoa\",\"offsetgroup\":\"Hydrozoa\",\"orientation\":\"v\",\"showlegend\":true,\"textposition\":\"auto\",\"x\":[\"NL\",\"ID\",\"IT\",\"US\",\"FR\",\"DE\",\"CN\",\"EC\",\"SG\",\"CH\"],\"xaxis\":\"x\",\"y\":[0,0,0,2,4,4,0,0,0,0],\"yaxis\":\"y\",\"type\":\"bar\"},{\"alignmentgroup\":\"True\",\"hovertemplate\":\"variable=Insecta\\u003cbr\\u003eExporter=%{x}\\u003cbr\\u003eNumber of entries=%{y}\\u003cextra\\u003e\\u003c\\u002fextra\\u003e\",\"legendgroup\":\"Insecta\",\"marker\":{\"color\":\"#ab63fa\",\"pattern\":{\"shape\":\"\"}},\"name\":\"Insecta\",\"offsetgroup\":\"Insecta\",\"orientation\":\"v\",\"showlegend\":true,\"textposition\":\"auto\",\"x\":[\"NL\",\"ID\",\"IT\",\"US\",\"FR\",\"DE\",\"CN\",\"EC\",\"SG\",\"CH\"],\"xaxis\":\"x\",\"y\":[0,0,0,0,0,0,0,1,0,0],\"yaxis\":\"y\",\"type\":\"bar\"},{\"alignmentgroup\":\"True\",\"hovertemplate\":\"variable=Mammalia\\u003cbr\\u003eExporter=%{x}\\u003cbr\\u003eNumber of entries=%{y}\\u003cextra\\u003e\\u003c\\u002fextra\\u003e\",\"legendgroup\":\"Mammalia\",\"marker\":{\"color\":\"#FFA15A\",\"pattern\":{\"shape\":\"\"}},\"name\":\"Mammalia\",\"offsetgroup\":\"Mammalia\",\"orientation\":\"v\",\"showlegend\":true,\"textposition\":\"auto\",\"x\":[\"NL\",\"ID\",\"IT\",\"US\",\"FR\",\"DE\",\"CN\",\"EC\",\"SG\",\"CH\"],\"xaxis\":\"x\",\"y\":[0,0,0,0,0,0,0,0,1,0],\"yaxis\":\"y\",\"type\":\"bar\"},{\"alignmentgroup\":\"True\",\"hovertemplate\":\"variable=Reptilia\\u003cbr\\u003eExporter=%{x}\\u003cbr\\u003eNumber of entries=%{y}\\u003cextra\\u003e\\u003c\\u002fextra\\u003e\",\"legendgroup\":\"Reptilia\",\"marker\":{\"color\":\"#19d3f3\",\"pattern\":{\"shape\":\"\"}},\"name\":\"Reptilia\",\"offsetgroup\":\"Reptilia\",\"orientation\":\"v\",\"showlegend\":true,\"textposition\":\"auto\",\"x\":[\"NL\",\"ID\",\"IT\",\"US\",\"FR\",\"DE\",\"CN\",\"EC\",\"SG\",\"CH\"],\"xaxis\":\"x\",\"y\":[0,2,0,0,0,0,0,0,0,0],\"yaxis\":\"y\",\"type\":\"bar\"},{\"alignmentgroup\":\"True\",\"hovertemplate\":\"variable=Unknown\\u003cbr\\u003eExporter=%{x}\\u003cbr\\u003eNumber of entries=%{y}\\u003cextra\\u003e\\u003c\\u002fextra\\u003e\",\"legendgroup\":\"Unknown\",\"marker\":{\"color\":\"#FF6692\",\"pattern\":{\"shape\":\"\"}},\"name\":\"Unknown\",\"offsetgroup\":\"Unknown\",\"orientation\":\"v\",\"showlegend\":true,\"textposition\":\"auto\",\"x\":[\"NL\",\"ID\",\"IT\",\"US\",\"FR\",\"DE\",\"CN\",\"EC\",\"SG\",\"CH\"],\"xaxis\":\"x\",\"y\":[5991,158,94,969,390,597,731,1489,155,198],\"yaxis\":\"y\",\"type\":\"bar\"}],                        {\"template\":{\"data\":{\"histogram2dcontour\":[{\"type\":\"histogram2dcontour\",\"colorbar\":{\"outlinewidth\":0,\"ticks\":\"\"},\"colorscale\":[[0.0,\"#0d0887\"],[0.1111111111111111,\"#46039f\"],[0.2222222222222222,\"#7201a8\"],[0.3333333333333333,\"#9c179e\"],[0.4444444444444444,\"#bd3786\"],[0.5555555555555556,\"#d8576b\"],[0.6666666666666666,\"#ed7953\"],[0.7777777777777778,\"#fb9f3a\"],[0.8888888888888888,\"#fdca26\"],[1.0,\"#f0f921\"]]}],\"choropleth\":[{\"type\":\"choropleth\",\"colorbar\":{\"outlinewidth\":0,\"ticks\":\"\"}}],\"histogram2d\":[{\"type\":\"histogram2d\",\"colorbar\":{\"outlinewidth\":0,\"ticks\":\"\"},\"colorscale\":[[0.0,\"#0d0887\"],[0.1111111111111111,\"#46039f\"],[0.2222222222222222,\"#7201a8\"],[0.3333333333333333,\"#9c179e\"],[0.4444444444444444,\"#bd3786\"],[0.5555555555555556,\"#d8576b\"],[0.6666666666666666,\"#ed7953\"],[0.7777777777777778,\"#fb9f3a\"],[0.8888888888888888,\"#fdca26\"],[1.0,\"#f0f921\"]]}],\"heatmap\":[{\"type\":\"heatmap\",\"colorbar\":{\"outlinewidth\":0,\"ticks\":\"\"},\"colorscale\":[[0.0,\"#0d0887\"],[0.1111111111111111,\"#46039f\"],[0.2222222222222222,\"#7201a8\"],[0.3333333333333333,\"#9c179e\"],[0.4444444444444444,\"#bd3786\"],[0.5555555555555556,\"#d8576b\"],[0.6666666666666666,\"#ed7953\"],[0.7777777777777778,\"#fb9f3a\"],[0.8888888888888888,\"#fdca26\"],[1.0,\"#f0f921\"]]}],\"heatmapgl\":[{\"type\":\"heatmapgl\",\"colorbar\":{\"outlinewidth\":0,\"ticks\":\"\"},\"colorscale\":[[0.0,\"#0d0887\"],[0.1111111111111111,\"#46039f\"],[0.2222222222222222,\"#7201a8\"],[0.3333333333333333,\"#9c179e\"],[0.4444444444444444,\"#bd3786\"],[0.5555555555555556,\"#d8576b\"],[0.6666666666666666,\"#ed7953\"],[0.7777777777777778,\"#fb9f3a\"],[0.8888888888888888,\"#fdca26\"],[1.0,\"#f0f921\"]]}],\"contourcarpet\":[{\"type\":\"contourcarpet\",\"colorbar\":{\"outlinewidth\":0,\"ticks\":\"\"}}],\"contour\":[{\"type\":\"contour\",\"colorbar\":{\"outlinewidth\":0,\"ticks\":\"\"},\"colorscale\":[[0.0,\"#0d0887\"],[0.1111111111111111,\"#46039f\"],[0.2222222222222222,\"#7201a8\"],[0.3333333333333333,\"#9c179e\"],[0.4444444444444444,\"#bd3786\"],[0.5555555555555556,\"#d8576b\"],[0.6666666666666666,\"#ed7953\"],[0.7777777777777778,\"#fb9f3a\"],[0.8888888888888888,\"#fdca26\"],[1.0,\"#f0f921\"]]}],\"surface\":[{\"type\":\"surface\",\"colorbar\":{\"outlinewidth\":0,\"ticks\":\"\"},\"colorscale\":[[0.0,\"#0d0887\"],[0.1111111111111111,\"#46039f\"],[0.2222222222222222,\"#7201a8\"],[0.3333333333333333,\"#9c179e\"],[0.4444444444444444,\"#bd3786\"],[0.5555555555555556,\"#d8576b\"],[0.6666666666666666,\"#ed7953\"],[0.7777777777777778,\"#fb9f3a\"],[0.8888888888888888,\"#fdca26\"],[1.0,\"#f0f921\"]]}],\"mesh3d\":[{\"type\":\"mesh3d\",\"colorbar\":{\"outlinewidth\":0,\"ticks\":\"\"}}],\"scatter\":[{\"fillpattern\":{\"fillmode\":\"overlay\",\"size\":10,\"solidity\":0.2},\"type\":\"scatter\"}],\"parcoords\":[{\"type\":\"parcoords\",\"line\":{\"colorbar\":{\"outlinewidth\":0,\"ticks\":\"\"}}}],\"scatterpolargl\":[{\"type\":\"scatterpolargl\",\"marker\":{\"colorbar\":{\"outlinewidth\":0,\"ticks\":\"\"}}}],\"bar\":[{\"error_x\":{\"color\":\"#2a3f5f\"},\"error_y\":{\"color\":\"#2a3f5f\"},\"marker\":{\"line\":{\"color\":\"#E5ECF6\",\"width\":0.5},\"pattern\":{\"fillmode\":\"overlay\",\"size\":10,\"solidity\":0.2}},\"type\":\"bar\"}],\"scattergeo\":[{\"type\":\"scattergeo\",\"marker\":{\"colorbar\":{\"outlinewidth\":0,\"ticks\":\"\"}}}],\"scatterpolar\":[{\"type\":\"scatterpolar\",\"marker\":{\"colorbar\":{\"outlinewidth\":0,\"ticks\":\"\"}}}],\"histogram\":[{\"marker\":{\"pattern\":{\"fillmode\":\"overlay\",\"size\":10,\"solidity\":0.2}},\"type\":\"histogram\"}],\"scattergl\":[{\"type\":\"scattergl\",\"marker\":{\"colorbar\":{\"outlinewidth\":0,\"ticks\":\"\"}}}],\"scatter3d\":[{\"type\":\"scatter3d\",\"line\":{\"colorbar\":{\"outlinewidth\":0,\"ticks\":\"\"}},\"marker\":{\"colorbar\":{\"outlinewidth\":0,\"ticks\":\"\"}}}],\"scattermapbox\":[{\"type\":\"scattermapbox\",\"marker\":{\"colorbar\":{\"outlinewidth\":0,\"ticks\":\"\"}}}],\"scatterternary\":[{\"type\":\"scatterternary\",\"marker\":{\"colorbar\":{\"outlinewidth\":0,\"ticks\":\"\"}}}],\"scattercarpet\":[{\"type\":\"scattercarpet\",\"marker\":{\"colorbar\":{\"outlinewidth\":0,\"ticks\":\"\"}}}],\"carpet\":[{\"aaxis\":{\"endlinecolor\":\"#2a3f5f\",\"gridcolor\":\"white\",\"linecolor\":\"white\",\"minorgridcolor\":\"white\",\"startlinecolor\":\"#2a3f5f\"},\"baxis\":{\"endlinecolor\":\"#2a3f5f\",\"gridcolor\":\"white\",\"linecolor\":\"white\",\"minorgridcolor\":\"white\",\"startlinecolor\":\"#2a3f5f\"},\"type\":\"carpet\"}],\"table\":[{\"cells\":{\"fill\":{\"color\":\"#EBF0F8\"},\"line\":{\"color\":\"white\"}},\"header\":{\"fill\":{\"color\":\"#C8D4E3\"},\"line\":{\"color\":\"white\"}},\"type\":\"table\"}],\"barpolar\":[{\"marker\":{\"line\":{\"color\":\"#E5ECF6\",\"width\":0.5},\"pattern\":{\"fillmode\":\"overlay\",\"size\":10,\"solidity\":0.2}},\"type\":\"barpolar\"}],\"pie\":[{\"automargin\":true,\"type\":\"pie\"}]},\"layout\":{\"autotypenumbers\":\"strict\",\"colorway\":[\"#636efa\",\"#EF553B\",\"#00cc96\",\"#ab63fa\",\"#FFA15A\",\"#19d3f3\",\"#FF6692\",\"#B6E880\",\"#FF97FF\",\"#FECB52\"],\"font\":{\"color\":\"#2a3f5f\"},\"hovermode\":\"closest\",\"hoverlabel\":{\"align\":\"left\"},\"paper_bgcolor\":\"white\",\"plot_bgcolor\":\"#E5ECF6\",\"polar\":{\"bgcolor\":\"#E5ECF6\",\"angularaxis\":{\"gridcolor\":\"white\",\"linecolor\":\"white\",\"ticks\":\"\"},\"radialaxis\":{\"gridcolor\":\"white\",\"linecolor\":\"white\",\"ticks\":\"\"}},\"ternary\":{\"bgcolor\":\"#E5ECF6\",\"aaxis\":{\"gridcolor\":\"white\",\"linecolor\":\"white\",\"ticks\":\"\"},\"baxis\":{\"gridcolor\":\"white\",\"linecolor\":\"white\",\"ticks\":\"\"},\"caxis\":{\"gridcolor\":\"white\",\"linecolor\":\"white\",\"ticks\":\"\"}},\"coloraxis\":{\"colorbar\":{\"outlinewidth\":0,\"ticks\":\"\"}},\"colorscale\":{\"sequential\":[[0.0,\"#0d0887\"],[0.1111111111111111,\"#46039f\"],[0.2222222222222222,\"#7201a8\"],[0.3333333333333333,\"#9c179e\"],[0.4444444444444444,\"#bd3786\"],[0.5555555555555556,\"#d8576b\"],[0.6666666666666666,\"#ed7953\"],[0.7777777777777778,\"#fb9f3a\"],[0.8888888888888888,\"#fdca26\"],[1.0,\"#f0f921\"]],\"sequentialminus\":[[0.0,\"#0d0887\"],[0.1111111111111111,\"#46039f\"],[0.2222222222222222,\"#7201a8\"],[0.3333333333333333,\"#9c179e\"],[0.4444444444444444,\"#bd3786\"],[0.5555555555555556,\"#d8576b\"],[0.6666666666666666,\"#ed7953\"],[0.7777777777777778,\"#fb9f3a\"],[0.8888888888888888,\"#fdca26\"],[1.0,\"#f0f921\"]],\"diverging\":[[0,\"#8e0152\"],[0.1,\"#c51b7d\"],[0.2,\"#de77ae\"],[0.3,\"#f1b6da\"],[0.4,\"#fde0ef\"],[0.5,\"#f7f7f7\"],[0.6,\"#e6f5d0\"],[0.7,\"#b8e186\"],[0.8,\"#7fbc41\"],[0.9,\"#4d9221\"],[1,\"#276419\"]]},\"xaxis\":{\"gridcolor\":\"white\",\"linecolor\":\"white\",\"ticks\":\"\",\"title\":{\"standoff\":15},\"zerolinecolor\":\"white\",\"automargin\":true,\"zerolinewidth\":2},\"yaxis\":{\"gridcolor\":\"white\",\"linecolor\":\"white\",\"ticks\":\"\",\"title\":{\"standoff\":15},\"zerolinecolor\":\"white\",\"automargin\":true,\"zerolinewidth\":2},\"scene\":{\"xaxis\":{\"backgroundcolor\":\"#E5ECF6\",\"gridcolor\":\"white\",\"linecolor\":\"white\",\"showbackground\":true,\"ticks\":\"\",\"zerolinecolor\":\"white\",\"gridwidth\":2},\"yaxis\":{\"backgroundcolor\":\"#E5ECF6\",\"gridcolor\":\"white\",\"linecolor\":\"white\",\"showbackground\":true,\"ticks\":\"\",\"zerolinecolor\":\"white\",\"gridwidth\":2},\"zaxis\":{\"backgroundcolor\":\"#E5ECF6\",\"gridcolor\":\"white\",\"linecolor\":\"white\",\"showbackground\":true,\"ticks\":\"\",\"zerolinecolor\":\"white\",\"gridwidth\":2}},\"shapedefaults\":{\"line\":{\"color\":\"#2a3f5f\"}},\"annotationdefaults\":{\"arrowcolor\":\"#2a3f5f\",\"arrowhead\":0,\"arrowwidth\":1},\"geo\":{\"bgcolor\":\"white\",\"landcolor\":\"#E5ECF6\",\"subunitcolor\":\"white\",\"showland\":true,\"showlakes\":true,\"lakecolor\":\"white\"},\"title\":{\"x\":0.05},\"mapbox\":{\"style\":\"light\"}}},\"xaxis\":{\"anchor\":\"y\",\"domain\":[0.0,1.0],\"title\":{\"text\":\"Exporter\"}},\"yaxis\":{\"anchor\":\"x\",\"domain\":[0.0,1.0],\"title\":{\"text\":\"Number of entries\"}},\"legend\":{\"title\":{\"text\":\"variable\"},\"tracegroupgap\":0},\"title\":{\"text\":\"Top 10 exporters\"},\"barmode\":\"stack\",\"annotations\":[{\"showarrow\":false,\"text\":\"Note! 43.13% of data is missing.\",\"x\":8,\"xref\":\"x\",\"y\":6500,\"yref\":\"y\"}]},                        {\"responsive\": true}                    ).then(function(){\n",
              "                            \n",
              "var gd = document.getElementById('d6e0cf44-ea0c-4b0f-843d-826936bdf228');\n",
              "var x = new MutationObserver(function (mutations, observer) {{\n",
              "        var display = window.getComputedStyle(gd).display;\n",
              "        if (!display || display === 'none') {{\n",
              "            console.log([gd, 'removed!']);\n",
              "            Plotly.purge(gd);\n",
              "            observer.disconnect();\n",
              "        }}\n",
              "}});\n",
              "\n",
              "// Listen for the removal of the full notebook cells\n",
              "var notebookContainer = gd.closest('#notebook-container');\n",
              "if (notebookContainer) {{\n",
              "    x.observe(notebookContainer, {childList: true});\n",
              "}}\n",
              "\n",
              "// Listen for the clearing of the current output cell\n",
              "var outputEl = gd.closest('.output');\n",
              "if (outputEl) {{\n",
              "    x.observe(outputEl, {childList: true});\n",
              "}}\n",
              "\n",
              "                        })                };                            </script>        </div>\n",
              "</body>\n",
              "</html>"
            ]
          },
          "metadata": {}
        }
      ]
    },
    {
      "cell_type": "markdown",
      "source": [
        "2.2. Top 10 importers"
      ],
      "metadata": {
        "id": "5btm-XyDNwYW"
      }
    },
    {
      "cell_type": "code",
      "source": [
        "import pandas as pd\n",
        "import plotly.express as px\n",
        "\n",
        "# Read data from the CSV file (replace 'wildlife.csv' with your actual filename)\n",
        "species = pd.read_csv('wildlife.csv')\n",
        "\n",
        "importers_10 = species['Importer'].value_counts()[:10]\n",
        "classes_all = species['Class'].value_counts()\n",
        "\n",
        "data = []\n",
        "\n",
        "for cls in classes_all.index:\n",
        "    df_cls = species[species['Class'] == cls]\n",
        "    cls_counts = df_cls.groupby('Importer').size().reindex(importers_10.index, fill_value=0)\n",
        "    data.append(cls_counts)\n",
        "\n",
        "missing_values = []\n",
        "all_values = 0\n",
        "\n",
        "for importer in importers_10.index:\n",
        "    missing_values.append(species[(species['Importer'] == importer) & (species['Class'].isnull())].shape[0])\n",
        "    all_values += species[(species['Importer'] == importer) & (species['Class'].notnull())].shape[0]\n",
        "\n",
        "missing_series = pd.Series(data=missing_values, index=importers_10.index)\n",
        "data.append(missing_series)\n",
        "\n",
        "# Convert the list of Series into a DataFrame\n",
        "df_stacked = pd.DataFrame(data, index=classes_all.index.union(['Unknown'])).T\n",
        "\n",
        "# Create a stacked bar chart using Plotly Express\n",
        "fig = px.bar(\n",
        "    df_stacked,\n",
        "    x=importers_10.index,\n",
        "    y=df_stacked.columns,\n",
        "    title='Top 10 importers',\n",
        "    labels={'value': 'Number of entries', 'index': 'Importer'},\n",
        "    barmode='stack',\n",
        ")\n",
        "\n",
        "# Add annotation for the percentage of missing data\n",
        "fig.add_annotation(\n",
        "    x=8,\n",
        "    y=9000,\n",
        "    xref='x',\n",
        "    yref='y',\n",
        "    text=f'Note! {round(sum(missing_values) / all_values * 100, 2)}% of data is missing.',\n",
        "    showarrow=False,\n",
        ")\n",
        "\n",
        "# Use pyo.plot instead of fig.show() if you are working offline\n",
        "fig.show()\n"
      ],
      "metadata": {
        "colab": {
          "base_uri": "https://localhost:8080/",
          "height": 542
        },
        "id": "5B5nrUOVNy1C",
        "outputId": "51e9bcfa-b2cc-465c-d0ed-5607030a0102"
      },
      "execution_count": 34,
      "outputs": [
        {
          "output_type": "display_data",
          "data": {
            "text/html": [
              "<html>\n",
              "<head><meta charset=\"utf-8\" /></head>\n",
              "<body>\n",
              "    <div>            <script src=\"https://cdnjs.cloudflare.com/ajax/libs/mathjax/2.7.5/MathJax.js?config=TeX-AMS-MML_SVG\"></script><script type=\"text/javascript\">if (window.MathJax && window.MathJax.Hub && window.MathJax.Hub.Config) {window.MathJax.Hub.Config({SVG: {font: \"STIX-Web\"}});}</script>                <script type=\"text/javascript\">window.PlotlyConfig = {MathJaxConfig: 'local'};</script>\n",
              "        <script charset=\"utf-8\" src=\"https://cdn.plot.ly/plotly-2.24.1.min.js\"></script>                <div id=\"93945307-c69b-41a2-a6c2-f4fc8d1646fd\" class=\"plotly-graph-div\" style=\"height:525px; width:100%;\"></div>            <script type=\"text/javascript\">                                    window.PLOTLYENV=window.PLOTLYENV || {};                                    if (document.getElementById(\"93945307-c69b-41a2-a6c2-f4fc8d1646fd\")) {                    Plotly.newPlot(                        \"93945307-c69b-41a2-a6c2-f4fc8d1646fd\",                        [{\"alignmentgroup\":\"True\",\"hovertemplate\":\"variable=Actinopteri\\u003cbr\\u003eImporter=%{x}\\u003cbr\\u003eNumber of entries=%{y}\\u003cextra\\u003e\\u003c\\u002fextra\\u003e\",\"legendgroup\":\"Actinopteri\",\"marker\":{\"color\":\"#636efa\",\"pattern\":{\"shape\":\"\"}},\"name\":\"Actinopteri\",\"offsetgroup\":\"Actinopteri\",\"orientation\":\"v\",\"showlegend\":true,\"textposition\":\"auto\",\"x\":[\"US\",\"JP\",\"DE\",\"FR\",\"HK\",\"CH\",\"CN\",\"SG\",\"AE\",\"CA\"],\"xaxis\":\"x\",\"y\":[2618,1339,492,747,1068,722,825,521,391,377],\"yaxis\":\"y\",\"type\":\"bar\"},{\"alignmentgroup\":\"True\",\"hovertemplate\":\"variable=Amphibia\\u003cbr\\u003eImporter=%{x}\\u003cbr\\u003eNumber of entries=%{y}\\u003cextra\\u003e\\u003c\\u002fextra\\u003e\",\"legendgroup\":\"Amphibia\",\"marker\":{\"color\":\"#EF553B\",\"pattern\":{\"shape\":\"\"}},\"name\":\"Amphibia\",\"offsetgroup\":\"Amphibia\",\"orientation\":\"v\",\"showlegend\":true,\"textposition\":\"auto\",\"x\":[\"US\",\"JP\",\"DE\",\"FR\",\"HK\",\"CH\",\"CN\",\"SG\",\"AE\",\"CA\"],\"xaxis\":\"x\",\"y\":[1788,348,266,300,260,212,249,200,118,177],\"yaxis\":\"y\",\"type\":\"bar\"},{\"alignmentgroup\":\"True\",\"hovertemplate\":\"variable=Anthozoa\\u003cbr\\u003eImporter=%{x}\\u003cbr\\u003eNumber of entries=%{y}\\u003cextra\\u003e\\u003c\\u002fextra\\u003e\",\"legendgroup\":\"Anthozoa\",\"marker\":{\"color\":\"#00cc96\",\"pattern\":{\"shape\":\"\"}},\"name\":\"Anthozoa\",\"offsetgroup\":\"Anthozoa\",\"orientation\":\"v\",\"showlegend\":true,\"textposition\":\"auto\",\"x\":[\"US\",\"JP\",\"DE\",\"FR\",\"HK\",\"CH\",\"CN\",\"SG\",\"AE\",\"CA\"],\"xaxis\":\"x\",\"y\":[1960,240,502,367,192,283,466,102,61,347],\"yaxis\":\"y\",\"type\":\"bar\"},{\"alignmentgroup\":\"True\",\"hovertemplate\":\"variable=Arachnida\\u003cbr\\u003eImporter=%{x}\\u003cbr\\u003eNumber of entries=%{y}\\u003cextra\\u003e\\u003c\\u002fextra\\u003e\",\"legendgroup\":\"Arachnida\",\"marker\":{\"color\":\"#ab63fa\",\"pattern\":{\"shape\":\"\"}},\"name\":\"Arachnida\",\"offsetgroup\":\"Arachnida\",\"orientation\":\"v\",\"showlegend\":true,\"textposition\":\"auto\",\"x\":[\"US\",\"JP\",\"DE\",\"FR\",\"HK\",\"CH\",\"CN\",\"SG\",\"AE\",\"CA\"],\"xaxis\":\"x\",\"y\":[707,435,159,82,134,115,91,159,446,129],\"yaxis\":\"y\",\"type\":\"bar\"},{\"alignmentgroup\":\"True\",\"hovertemplate\":\"variable=Aves\\u003cbr\\u003eImporter=%{x}\\u003cbr\\u003eNumber of entries=%{y}\\u003cextra\\u003e\\u003c\\u002fextra\\u003e\",\"legendgroup\":\"Aves\",\"marker\":{\"color\":\"#FFA15A\",\"pattern\":{\"shape\":\"\"}},\"name\":\"Aves\",\"offsetgroup\":\"Aves\",\"orientation\":\"v\",\"showlegend\":true,\"textposition\":\"auto\",\"x\":[\"US\",\"JP\",\"DE\",\"FR\",\"HK\",\"CH\",\"CN\",\"SG\",\"AE\",\"CA\"],\"xaxis\":\"x\",\"y\":[388,151,57,55,144,140,100,95,138,68],\"yaxis\":\"y\",\"type\":\"bar\"},{\"alignmentgroup\":\"True\",\"hovertemplate\":\"variable=Bivalvia\\u003cbr\\u003eImporter=%{x}\\u003cbr\\u003eNumber of entries=%{y}\\u003cextra\\u003e\\u003c\\u002fextra\\u003e\",\"legendgroup\":\"Bivalvia\",\"marker\":{\"color\":\"#19d3f3\",\"pattern\":{\"shape\":\"\"}},\"name\":\"Bivalvia\",\"offsetgroup\":\"Bivalvia\",\"orientation\":\"v\",\"showlegend\":true,\"textposition\":\"auto\",\"x\":[\"US\",\"JP\",\"DE\",\"FR\",\"HK\",\"CH\",\"CN\",\"SG\",\"AE\",\"CA\"],\"xaxis\":\"x\",\"y\":[91,96,14,21,4,8,1,5,2,11],\"yaxis\":\"y\",\"type\":\"bar\"},{\"alignmentgroup\":\"True\",\"hovertemplate\":\"variable=Coelacanthi\\u003cbr\\u003eImporter=%{x}\\u003cbr\\u003eNumber of entries=%{y}\\u003cextra\\u003e\\u003c\\u002fextra\\u003e\",\"legendgroup\":\"Coelacanthi\",\"marker\":{\"color\":\"#FF6692\",\"pattern\":{\"shape\":\"\"}},\"name\":\"Coelacanthi\",\"offsetgroup\":\"Coelacanthi\",\"orientation\":\"v\",\"showlegend\":true,\"textposition\":\"auto\",\"x\":[\"US\",\"JP\",\"DE\",\"FR\",\"HK\",\"CH\",\"CN\",\"SG\",\"AE\",\"CA\"],\"xaxis\":\"x\",\"y\":[69,38,41,19,0,2,34,4,1,1],\"yaxis\":\"y\",\"type\":\"bar\"},{\"alignmentgroup\":\"True\",\"hovertemplate\":\"variable=Dipneusti\\u003cbr\\u003eImporter=%{x}\\u003cbr\\u003eNumber of entries=%{y}\\u003cextra\\u003e\\u003c\\u002fextra\\u003e\",\"legendgroup\":\"Dipneusti\",\"marker\":{\"color\":\"#B6E880\",\"pattern\":{\"shape\":\"\"}},\"name\":\"Dipneusti\",\"offsetgroup\":\"Dipneusti\",\"orientation\":\"v\",\"showlegend\":true,\"textposition\":\"auto\",\"x\":[\"US\",\"JP\",\"DE\",\"FR\",\"HK\",\"CH\",\"CN\",\"SG\",\"AE\",\"CA\"],\"xaxis\":\"x\",\"y\":[92,5,19,24,9,6,4,6,2,13],\"yaxis\":\"y\",\"type\":\"bar\"},{\"alignmentgroup\":\"True\",\"hovertemplate\":\"variable=Elasmobranchii\\u003cbr\\u003eImporter=%{x}\\u003cbr\\u003eNumber of entries=%{y}\\u003cextra\\u003e\\u003c\\u002fextra\\u003e\",\"legendgroup\":\"Elasmobranchii\",\"marker\":{\"color\":\"#FF97FF\",\"pattern\":{\"shape\":\"\"}},\"name\":\"Elasmobranchii\",\"offsetgroup\":\"Elasmobranchii\",\"orientation\":\"v\",\"showlegend\":true,\"textposition\":\"auto\",\"x\":[\"US\",\"JP\",\"DE\",\"FR\",\"HK\",\"CH\",\"CN\",\"SG\",\"AE\",\"CA\"],\"xaxis\":\"x\",\"y\":[85,22,5,4,13,9,3,0,2,6],\"yaxis\":\"y\",\"type\":\"bar\"},{\"alignmentgroup\":\"True\",\"hovertemplate\":\"variable=Gastropoda\\u003cbr\\u003eImporter=%{x}\\u003cbr\\u003eNumber of entries=%{y}\\u003cextra\\u003e\\u003c\\u002fextra\\u003e\",\"legendgroup\":\"Gastropoda\",\"marker\":{\"color\":\"#FECB52\",\"pattern\":{\"shape\":\"\"}},\"name\":\"Gastropoda\",\"offsetgroup\":\"Gastropoda\",\"orientation\":\"v\",\"showlegend\":true,\"textposition\":\"auto\",\"x\":[\"US\",\"JP\",\"DE\",\"FR\",\"HK\",\"CH\",\"CN\",\"SG\",\"AE\",\"CA\"],\"xaxis\":\"x\",\"y\":[26,9,3,10,4,2,7,2,3,2],\"yaxis\":\"y\",\"type\":\"bar\"},{\"alignmentgroup\":\"True\",\"hovertemplate\":\"variable=Hirudinoidea\\u003cbr\\u003eImporter=%{x}\\u003cbr\\u003eNumber of entries=%{y}\\u003cextra\\u003e\\u003c\\u002fextra\\u003e\",\"legendgroup\":\"Hirudinoidea\",\"marker\":{\"color\":\"#636efa\",\"pattern\":{\"shape\":\"\"}},\"name\":\"Hirudinoidea\",\"offsetgroup\":\"Hirudinoidea\",\"orientation\":\"v\",\"showlegend\":true,\"textposition\":\"auto\",\"x\":[\"US\",\"JP\",\"DE\",\"FR\",\"HK\",\"CH\",\"CN\",\"SG\",\"AE\",\"CA\"],\"xaxis\":\"x\",\"y\":[39,4,4,1,16,0,0,0,0,3],\"yaxis\":\"y\",\"type\":\"bar\"},{\"alignmentgroup\":\"True\",\"hovertemplate\":\"variable=Holothuroidea\\u003cbr\\u003eImporter=%{x}\\u003cbr\\u003eNumber of entries=%{y}\\u003cextra\\u003e\\u003c\\u002fextra\\u003e\",\"legendgroup\":\"Holothuroidea\",\"marker\":{\"color\":\"#EF553B\",\"pattern\":{\"shape\":\"\"}},\"name\":\"Holothuroidea\",\"offsetgroup\":\"Holothuroidea\",\"orientation\":\"v\",\"showlegend\":true,\"textposition\":\"auto\",\"x\":[\"US\",\"JP\",\"DE\",\"FR\",\"HK\",\"CH\",\"CN\",\"SG\",\"AE\",\"CA\"],\"xaxis\":\"x\",\"y\":[42,10,0,1,2,1,0,0,0,2],\"yaxis\":\"y\",\"type\":\"bar\"},{\"alignmentgroup\":\"True\",\"hovertemplate\":\"variable=Hydrozoa\\u003cbr\\u003eImporter=%{x}\\u003cbr\\u003eNumber of entries=%{y}\\u003cextra\\u003e\\u003c\\u002fextra\\u003e\",\"legendgroup\":\"Hydrozoa\",\"marker\":{\"color\":\"#00cc96\",\"pattern\":{\"shape\":\"\"}},\"name\":\"Hydrozoa\",\"offsetgroup\":\"Hydrozoa\",\"orientation\":\"v\",\"showlegend\":true,\"textposition\":\"auto\",\"x\":[\"US\",\"JP\",\"DE\",\"FR\",\"HK\",\"CH\",\"CN\",\"SG\",\"AE\",\"CA\"],\"xaxis\":\"x\",\"y\":[7,1,2,2,0,7,0,0,0,2],\"yaxis\":\"y\",\"type\":\"bar\"},{\"alignmentgroup\":\"True\",\"hovertemplate\":\"variable=Insecta\\u003cbr\\u003eImporter=%{x}\\u003cbr\\u003eNumber of entries=%{y}\\u003cextra\\u003e\\u003c\\u002fextra\\u003e\",\"legendgroup\":\"Insecta\",\"marker\":{\"color\":\"#ab63fa\",\"pattern\":{\"shape\":\"\"}},\"name\":\"Insecta\",\"offsetgroup\":\"Insecta\",\"orientation\":\"v\",\"showlegend\":true,\"textposition\":\"auto\",\"x\":[\"US\",\"JP\",\"DE\",\"FR\",\"HK\",\"CH\",\"CN\",\"SG\",\"AE\",\"CA\"],\"xaxis\":\"x\",\"y\":[9,0,0,0,1,0,0,0,0,0],\"yaxis\":\"y\",\"type\":\"bar\"},{\"alignmentgroup\":\"True\",\"hovertemplate\":\"variable=Mammalia\\u003cbr\\u003eImporter=%{x}\\u003cbr\\u003eNumber of entries=%{y}\\u003cextra\\u003e\\u003c\\u002fextra\\u003e\",\"legendgroup\":\"Mammalia\",\"marker\":{\"color\":\"#FFA15A\",\"pattern\":{\"shape\":\"\"}},\"name\":\"Mammalia\",\"offsetgroup\":\"Mammalia\",\"orientation\":\"v\",\"showlegend\":true,\"textposition\":\"auto\",\"x\":[\"US\",\"JP\",\"DE\",\"FR\",\"HK\",\"CH\",\"CN\",\"SG\",\"AE\",\"CA\"],\"xaxis\":\"x\",\"y\":[1,2,0,0,0,0,0,0,1,0],\"yaxis\":\"y\",\"type\":\"bar\"},{\"alignmentgroup\":\"True\",\"hovertemplate\":\"variable=Reptilia\\u003cbr\\u003eImporter=%{x}\\u003cbr\\u003eNumber of entries=%{y}\\u003cextra\\u003e\\u003c\\u002fextra\\u003e\",\"legendgroup\":\"Reptilia\",\"marker\":{\"color\":\"#19d3f3\",\"pattern\":{\"shape\":\"\"}},\"name\":\"Reptilia\",\"offsetgroup\":\"Reptilia\",\"orientation\":\"v\",\"showlegend\":true,\"textposition\":\"auto\",\"x\":[\"US\",\"JP\",\"DE\",\"FR\",\"HK\",\"CH\",\"CN\",\"SG\",\"AE\",\"CA\"],\"xaxis\":\"x\",\"y\":[0,2,0,0,0,0,0,0,0,0],\"yaxis\":\"y\",\"type\":\"bar\"},{\"alignmentgroup\":\"True\",\"hovertemplate\":\"variable=Unknown\\u003cbr\\u003eImporter=%{x}\\u003cbr\\u003eNumber of entries=%{y}\\u003cextra\\u003e\\u003c\\u002fextra\\u003e\",\"legendgroup\":\"Unknown\",\"marker\":{\"color\":\"#FF6692\",\"pattern\":{\"shape\":\"\"}},\"name\":\"Unknown\",\"offsetgroup\":\"Unknown\",\"orientation\":\"v\",\"showlegend\":true,\"textposition\":\"auto\",\"x\":[\"US\",\"JP\",\"DE\",\"FR\",\"HK\",\"CH\",\"CN\",\"SG\",\"AE\",\"CA\"],\"xaxis\":\"x\",\"y\":[1800,2490,3349,971,708,1001,346,482,341,271],\"yaxis\":\"y\",\"type\":\"bar\"}],                        {\"template\":{\"data\":{\"histogram2dcontour\":[{\"type\":\"histogram2dcontour\",\"colorbar\":{\"outlinewidth\":0,\"ticks\":\"\"},\"colorscale\":[[0.0,\"#0d0887\"],[0.1111111111111111,\"#46039f\"],[0.2222222222222222,\"#7201a8\"],[0.3333333333333333,\"#9c179e\"],[0.4444444444444444,\"#bd3786\"],[0.5555555555555556,\"#d8576b\"],[0.6666666666666666,\"#ed7953\"],[0.7777777777777778,\"#fb9f3a\"],[0.8888888888888888,\"#fdca26\"],[1.0,\"#f0f921\"]]}],\"choropleth\":[{\"type\":\"choropleth\",\"colorbar\":{\"outlinewidth\":0,\"ticks\":\"\"}}],\"histogram2d\":[{\"type\":\"histogram2d\",\"colorbar\":{\"outlinewidth\":0,\"ticks\":\"\"},\"colorscale\":[[0.0,\"#0d0887\"],[0.1111111111111111,\"#46039f\"],[0.2222222222222222,\"#7201a8\"],[0.3333333333333333,\"#9c179e\"],[0.4444444444444444,\"#bd3786\"],[0.5555555555555556,\"#d8576b\"],[0.6666666666666666,\"#ed7953\"],[0.7777777777777778,\"#fb9f3a\"],[0.8888888888888888,\"#fdca26\"],[1.0,\"#f0f921\"]]}],\"heatmap\":[{\"type\":\"heatmap\",\"colorbar\":{\"outlinewidth\":0,\"ticks\":\"\"},\"colorscale\":[[0.0,\"#0d0887\"],[0.1111111111111111,\"#46039f\"],[0.2222222222222222,\"#7201a8\"],[0.3333333333333333,\"#9c179e\"],[0.4444444444444444,\"#bd3786\"],[0.5555555555555556,\"#d8576b\"],[0.6666666666666666,\"#ed7953\"],[0.7777777777777778,\"#fb9f3a\"],[0.8888888888888888,\"#fdca26\"],[1.0,\"#f0f921\"]]}],\"heatmapgl\":[{\"type\":\"heatmapgl\",\"colorbar\":{\"outlinewidth\":0,\"ticks\":\"\"},\"colorscale\":[[0.0,\"#0d0887\"],[0.1111111111111111,\"#46039f\"],[0.2222222222222222,\"#7201a8\"],[0.3333333333333333,\"#9c179e\"],[0.4444444444444444,\"#bd3786\"],[0.5555555555555556,\"#d8576b\"],[0.6666666666666666,\"#ed7953\"],[0.7777777777777778,\"#fb9f3a\"],[0.8888888888888888,\"#fdca26\"],[1.0,\"#f0f921\"]]}],\"contourcarpet\":[{\"type\":\"contourcarpet\",\"colorbar\":{\"outlinewidth\":0,\"ticks\":\"\"}}],\"contour\":[{\"type\":\"contour\",\"colorbar\":{\"outlinewidth\":0,\"ticks\":\"\"},\"colorscale\":[[0.0,\"#0d0887\"],[0.1111111111111111,\"#46039f\"],[0.2222222222222222,\"#7201a8\"],[0.3333333333333333,\"#9c179e\"],[0.4444444444444444,\"#bd3786\"],[0.5555555555555556,\"#d8576b\"],[0.6666666666666666,\"#ed7953\"],[0.7777777777777778,\"#fb9f3a\"],[0.8888888888888888,\"#fdca26\"],[1.0,\"#f0f921\"]]}],\"surface\":[{\"type\":\"surface\",\"colorbar\":{\"outlinewidth\":0,\"ticks\":\"\"},\"colorscale\":[[0.0,\"#0d0887\"],[0.1111111111111111,\"#46039f\"],[0.2222222222222222,\"#7201a8\"],[0.3333333333333333,\"#9c179e\"],[0.4444444444444444,\"#bd3786\"],[0.5555555555555556,\"#d8576b\"],[0.6666666666666666,\"#ed7953\"],[0.7777777777777778,\"#fb9f3a\"],[0.8888888888888888,\"#fdca26\"],[1.0,\"#f0f921\"]]}],\"mesh3d\":[{\"type\":\"mesh3d\",\"colorbar\":{\"outlinewidth\":0,\"ticks\":\"\"}}],\"scatter\":[{\"fillpattern\":{\"fillmode\":\"overlay\",\"size\":10,\"solidity\":0.2},\"type\":\"scatter\"}],\"parcoords\":[{\"type\":\"parcoords\",\"line\":{\"colorbar\":{\"outlinewidth\":0,\"ticks\":\"\"}}}],\"scatterpolargl\":[{\"type\":\"scatterpolargl\",\"marker\":{\"colorbar\":{\"outlinewidth\":0,\"ticks\":\"\"}}}],\"bar\":[{\"error_x\":{\"color\":\"#2a3f5f\"},\"error_y\":{\"color\":\"#2a3f5f\"},\"marker\":{\"line\":{\"color\":\"#E5ECF6\",\"width\":0.5},\"pattern\":{\"fillmode\":\"overlay\",\"size\":10,\"solidity\":0.2}},\"type\":\"bar\"}],\"scattergeo\":[{\"type\":\"scattergeo\",\"marker\":{\"colorbar\":{\"outlinewidth\":0,\"ticks\":\"\"}}}],\"scatterpolar\":[{\"type\":\"scatterpolar\",\"marker\":{\"colorbar\":{\"outlinewidth\":0,\"ticks\":\"\"}}}],\"histogram\":[{\"marker\":{\"pattern\":{\"fillmode\":\"overlay\",\"size\":10,\"solidity\":0.2}},\"type\":\"histogram\"}],\"scattergl\":[{\"type\":\"scattergl\",\"marker\":{\"colorbar\":{\"outlinewidth\":0,\"ticks\":\"\"}}}],\"scatter3d\":[{\"type\":\"scatter3d\",\"line\":{\"colorbar\":{\"outlinewidth\":0,\"ticks\":\"\"}},\"marker\":{\"colorbar\":{\"outlinewidth\":0,\"ticks\":\"\"}}}],\"scattermapbox\":[{\"type\":\"scattermapbox\",\"marker\":{\"colorbar\":{\"outlinewidth\":0,\"ticks\":\"\"}}}],\"scatterternary\":[{\"type\":\"scatterternary\",\"marker\":{\"colorbar\":{\"outlinewidth\":0,\"ticks\":\"\"}}}],\"scattercarpet\":[{\"type\":\"scattercarpet\",\"marker\":{\"colorbar\":{\"outlinewidth\":0,\"ticks\":\"\"}}}],\"carpet\":[{\"aaxis\":{\"endlinecolor\":\"#2a3f5f\",\"gridcolor\":\"white\",\"linecolor\":\"white\",\"minorgridcolor\":\"white\",\"startlinecolor\":\"#2a3f5f\"},\"baxis\":{\"endlinecolor\":\"#2a3f5f\",\"gridcolor\":\"white\",\"linecolor\":\"white\",\"minorgridcolor\":\"white\",\"startlinecolor\":\"#2a3f5f\"},\"type\":\"carpet\"}],\"table\":[{\"cells\":{\"fill\":{\"color\":\"#EBF0F8\"},\"line\":{\"color\":\"white\"}},\"header\":{\"fill\":{\"color\":\"#C8D4E3\"},\"line\":{\"color\":\"white\"}},\"type\":\"table\"}],\"barpolar\":[{\"marker\":{\"line\":{\"color\":\"#E5ECF6\",\"width\":0.5},\"pattern\":{\"fillmode\":\"overlay\",\"size\":10,\"solidity\":0.2}},\"type\":\"barpolar\"}],\"pie\":[{\"automargin\":true,\"type\":\"pie\"}]},\"layout\":{\"autotypenumbers\":\"strict\",\"colorway\":[\"#636efa\",\"#EF553B\",\"#00cc96\",\"#ab63fa\",\"#FFA15A\",\"#19d3f3\",\"#FF6692\",\"#B6E880\",\"#FF97FF\",\"#FECB52\"],\"font\":{\"color\":\"#2a3f5f\"},\"hovermode\":\"closest\",\"hoverlabel\":{\"align\":\"left\"},\"paper_bgcolor\":\"white\",\"plot_bgcolor\":\"#E5ECF6\",\"polar\":{\"bgcolor\":\"#E5ECF6\",\"angularaxis\":{\"gridcolor\":\"white\",\"linecolor\":\"white\",\"ticks\":\"\"},\"radialaxis\":{\"gridcolor\":\"white\",\"linecolor\":\"white\",\"ticks\":\"\"}},\"ternary\":{\"bgcolor\":\"#E5ECF6\",\"aaxis\":{\"gridcolor\":\"white\",\"linecolor\":\"white\",\"ticks\":\"\"},\"baxis\":{\"gridcolor\":\"white\",\"linecolor\":\"white\",\"ticks\":\"\"},\"caxis\":{\"gridcolor\":\"white\",\"linecolor\":\"white\",\"ticks\":\"\"}},\"coloraxis\":{\"colorbar\":{\"outlinewidth\":0,\"ticks\":\"\"}},\"colorscale\":{\"sequential\":[[0.0,\"#0d0887\"],[0.1111111111111111,\"#46039f\"],[0.2222222222222222,\"#7201a8\"],[0.3333333333333333,\"#9c179e\"],[0.4444444444444444,\"#bd3786\"],[0.5555555555555556,\"#d8576b\"],[0.6666666666666666,\"#ed7953\"],[0.7777777777777778,\"#fb9f3a\"],[0.8888888888888888,\"#fdca26\"],[1.0,\"#f0f921\"]],\"sequentialminus\":[[0.0,\"#0d0887\"],[0.1111111111111111,\"#46039f\"],[0.2222222222222222,\"#7201a8\"],[0.3333333333333333,\"#9c179e\"],[0.4444444444444444,\"#bd3786\"],[0.5555555555555556,\"#d8576b\"],[0.6666666666666666,\"#ed7953\"],[0.7777777777777778,\"#fb9f3a\"],[0.8888888888888888,\"#fdca26\"],[1.0,\"#f0f921\"]],\"diverging\":[[0,\"#8e0152\"],[0.1,\"#c51b7d\"],[0.2,\"#de77ae\"],[0.3,\"#f1b6da\"],[0.4,\"#fde0ef\"],[0.5,\"#f7f7f7\"],[0.6,\"#e6f5d0\"],[0.7,\"#b8e186\"],[0.8,\"#7fbc41\"],[0.9,\"#4d9221\"],[1,\"#276419\"]]},\"xaxis\":{\"gridcolor\":\"white\",\"linecolor\":\"white\",\"ticks\":\"\",\"title\":{\"standoff\":15},\"zerolinecolor\":\"white\",\"automargin\":true,\"zerolinewidth\":2},\"yaxis\":{\"gridcolor\":\"white\",\"linecolor\":\"white\",\"ticks\":\"\",\"title\":{\"standoff\":15},\"zerolinecolor\":\"white\",\"automargin\":true,\"zerolinewidth\":2},\"scene\":{\"xaxis\":{\"backgroundcolor\":\"#E5ECF6\",\"gridcolor\":\"white\",\"linecolor\":\"white\",\"showbackground\":true,\"ticks\":\"\",\"zerolinecolor\":\"white\",\"gridwidth\":2},\"yaxis\":{\"backgroundcolor\":\"#E5ECF6\",\"gridcolor\":\"white\",\"linecolor\":\"white\",\"showbackground\":true,\"ticks\":\"\",\"zerolinecolor\":\"white\",\"gridwidth\":2},\"zaxis\":{\"backgroundcolor\":\"#E5ECF6\",\"gridcolor\":\"white\",\"linecolor\":\"white\",\"showbackground\":true,\"ticks\":\"\",\"zerolinecolor\":\"white\",\"gridwidth\":2}},\"shapedefaults\":{\"line\":{\"color\":\"#2a3f5f\"}},\"annotationdefaults\":{\"arrowcolor\":\"#2a3f5f\",\"arrowhead\":0,\"arrowwidth\":1},\"geo\":{\"bgcolor\":\"white\",\"landcolor\":\"#E5ECF6\",\"subunitcolor\":\"white\",\"showland\":true,\"showlakes\":true,\"lakecolor\":\"white\"},\"title\":{\"x\":0.05},\"mapbox\":{\"style\":\"light\"}}},\"xaxis\":{\"anchor\":\"y\",\"domain\":[0.0,1.0],\"title\":{\"text\":\"Importer\"}},\"yaxis\":{\"anchor\":\"x\",\"domain\":[0.0,1.0],\"title\":{\"text\":\"Number of entries\"}},\"legend\":{\"title\":{\"text\":\"variable\"},\"tracegroupgap\":0},\"title\":{\"text\":\"Top 10 importers\"},\"barmode\":\"stack\",\"annotations\":[{\"showarrow\":false,\"text\":\"Note! 52.61% of data is missing.\",\"x\":8,\"xref\":\"x\",\"y\":9000,\"yref\":\"y\"}]},                        {\"responsive\": true}                    ).then(function(){\n",
              "                            \n",
              "var gd = document.getElementById('93945307-c69b-41a2-a6c2-f4fc8d1646fd');\n",
              "var x = new MutationObserver(function (mutations, observer) {{\n",
              "        var display = window.getComputedStyle(gd).display;\n",
              "        if (!display || display === 'none') {{\n",
              "            console.log([gd, 'removed!']);\n",
              "            Plotly.purge(gd);\n",
              "            observer.disconnect();\n",
              "        }}\n",
              "}});\n",
              "\n",
              "// Listen for the removal of the full notebook cells\n",
              "var notebookContainer = gd.closest('#notebook-container');\n",
              "if (notebookContainer) {{\n",
              "    x.observe(notebookContainer, {childList: true});\n",
              "}}\n",
              "\n",
              "// Listen for the clearing of the current output cell\n",
              "var outputEl = gd.closest('.output');\n",
              "if (outputEl) {{\n",
              "    x.observe(outputEl, {childList: true});\n",
              "}}\n",
              "\n",
              "                        })                };                            </script>        </div>\n",
              "</body>\n",
              "</html>"
            ]
          },
          "metadata": {}
        }
      ]
    },
    {
      "cell_type": "markdown",
      "source": [
        "2.3. The most traded species"
      ],
      "metadata": {
        "id": "tJ83XRKNODHl"
      }
    },
    {
      "cell_type": "code",
      "source": [
        "images_species = dict({\n",
        "    'Acipenser baerii': 'https://drive.google.com/uc?id=15Bun-kuxZEygZk0gAwKfmSflkC3amPoZ',\n",
        "    'Alligator mississippiensis': 'https://drive.google.com/uc?id=1ArT7yJX6k82vQoIOmlZa1sO5Iv0EZeSm',\n",
        "    'Ara ararauna': 'https://drive.google.com/uc?id=1USmb_2cGkiaEtQnIyxW45iK2g6iebuWP',\n",
        "    'Caiman crocodilus yacare': 'https://drive.google.com/uc?id=1gCbh-0wifQo6rNRiPA8yuGQoaIFBkYxJ',\n",
        "    'Crocodylus niloticus': 'https://drive.google.com/uc?id=1uEGKHwfwhPphhY2rdLgB0xflNMYRc0dJ',\n",
        "    'Crocodylus novaeguineae': 'https://drive.google.com/uc?id=15JYMo4kfGJdeP6b8aXDt4VOZOK6XU9EL',\n",
        "    'Crocodylus porosus': 'https://drive.google.com/uc?id=12KH-pAOFoNHX1zRkkhknOy96Due7t5s6',\n",
        "    'Crocodylus siamensis': 'https://drive.google.com/uc?id=1P4h6IJtHu-yEBrNWIiTaG63F-wtxysPd',\n",
        "    'Dalbergia nigra': 'https://drive.google.com/uc?id=1s2SQhG6zP4D7q32MbXzSOKhxNbVLIAGG',\n",
        "    'Elephantidae spp.': 'https://drive.google.com/uc?id=1cI6u1qxIX8TgsBoWhjXjLBH7-OoF1Wwj',\n",
        "    'Elephas maximus': 'https://drive.google.com/uc?id=18ggnXUYnq8VsChqhwdfCVKeeNuk5rkdV',\n",
        "    'Euphyllia ancora': 'https://drive.google.com/uc?id=10KrJo-xc9RXnr0DLtIbIWhFI-mmaamgt',\n",
        "    'Euphyllia glabrescens': 'https://drive.google.com/uc?id=1HsFsnqAjUuc4IGSaSiiUU2SX6blmCcCW',\n",
        "    'Falco hybrid': 'https://drive.google.com/uc?id=1v3f5TDQpS4_RPfFRIDBxlorv7SayPNe5',\n",
        "    'Falco peregrinus': 'https://drive.google.com/uc?id=1pBuMj7FLJiD0hqkPh3s-hKen3U0bXy21',\n",
        "    'Falco rusticolus': 'https://drive.google.com/uc?id=16HKM2Xfvh93kGC-0doZeyGKbGlLx-LD2',\n",
        "    'Goniopora spp.': 'https://drive.google.com/uc?id=19Ew74b08u5d9Nim6KqW_emrozvkHmuPI',\n",
        "    'Loxodonta africana': 'https://drive.google.com/uc?id=1po1x2CN2jS6pjqHYS00KCJP7-ny6JoAB',\n",
        "    'Macaca fascicularis': 'https://drive.google.com/uc?id=12rFm4ILH0LHakVtLCwVRES7aaNIUbzfI',\n",
        "    'Montipora spp.': 'https://drive.google.com/uc?id=1hKcC58YSkITQa_VAmGelHqX8k2P-Kzqk',\n",
        "    'Panthera pardus': 'https://drive.google.com/uc?id=1WMnsWoLzb0Xn4ZZJ_ZcSmy8HqwytZg9H',\n",
        "    'Phalaenopsis hybrid': 'https://drive.google.com/uc?id=1StiOXTb0s1pObmfIpuDDemUcwfgve5kp',\n",
        "    'Psittacus erithacus': 'https://drive.google.com/uc?id=1NI3_stznblMZAlANRBeZw3ankxtOLL2F',\n",
        "    'Python bivittatus': 'https://drive.google.com/uc?id=1xaFiygRs_R1-SzW_-db6kji3En1BtNbG',\n",
        "    'Python brongersmai': 'https://drive.google.com/uc?id=1l5EN4MRUXqXEKT7n7XNOb9JHk29fuTj3',\n",
        "    'Python reticulatus': 'https://drive.google.com/uc?id=15rWnUPmJAV1w2qzI5QLX5bUvs6y3ULWA',\n",
        "    'Varanus niloticus': 'https://drive.google.com/uc?id=10o0C7hzQTo3lhE-023N4fDd_NX0nrYV1',\n",
        "    'Varanus salvator': 'https://drive.google.com/uc?id=1kBi-7BRpmITk12E6qv9zTBoHSo13TSVk',\n",
        "    'Vicugna vicugna': 'https://drive.google.com/uc?id=1dicv4_PWPrMLCNO1Thwuv6XFC3r8okGt',\n",
        "    'Dendrobium hybrid': 'https://drive.google.com/uc?id=1dAB7V5TyeZAP4nX9fLCADs3oJlhwGwTl',\n",
        "    'Anguilla anguilla': 'https://drive.google.com/uc?id=1WvGorPAc9MRl88TTZoobm8ca1imUFKT-',\n",
        "    'Bulnesia sarmientoi': 'https://drive.google.com/uc?id=13bK4wHLUYuYDth8x9Pcm7nk8i7mybp0f',\n",
        "    'Panax quinquefolius': 'https://drive.google.com/uc?id=1rWi7-yszsmjGgTfVJdvdci2yLBCFoHHI',\n",
        "    'Pterocarpus erinaceus': 'https://drive.google.com/uc?id=1qQLVxahabnFZcAkbKDGLXEQOOCiKJRQZ',\n",
        "    'Strombus gigas': 'https://drive.google.com/uc?id=1lEiyj3frynajSCaQKU83wPb3_L-Iq_Nh',\n",
        "    'Euphorbia antisyphilitica': 'https://drive.google.com/uc?id=1RvJMtdsUQqTkQ0PkXheaI0GMB9vpxK3F',\n",
        "    'Prunus africana': 'https://drive.google.com/uc?id=1xlxSFWEFUrj2b4d5s7AtOlBbb8ZotlIM',\n",
        "    'Scleractinia spp.': 'https://drive.google.com/uc?id=1opfLXHSrcI23kVYCMJ5-TC-5YnARNbSA',\n",
        "})\n",
        "\n",
        "images_flags = dict({\n",
        "    'AE': 'https://drive.google.com/uc?id=1ORAEQjzBwdIhUkwKlstsGNDJk30lu1Nr',\n",
        "    'AU': 'https://drive.google.com/uc?id=1oWvDln6DGWhaJb1oWcj7vXkE0sRiZzII',\n",
        "    'BE': 'https://drive.google.com/uc?id=1iRHpvcK8R3eookqhkGsJRbR7H_TKK13s',\n",
        "    'CA': 'https://drive.google.com/uc?id=1KAaPnLPKbuw5TUQTNgMMNcS0swMu8kFR',\n",
        "    'CH': 'https://drive.google.com/uc?id=15GWu2TJ77NYAwvEHKOmadh7Y-0L9W2vt',\n",
        "    'CN': 'https://drive.google.com/uc?id=1m_ew6K0lgDOkp2fYVo-UPhFXOULj6KF9',\n",
        "    'DE': 'https://drive.google.com/uc?id=149OEzCXv8hJb1y2jm6ji5WVyXuFTsXmY',\n",
        "    'DK': 'https://drive.google.com/uc?id=1R9SqvTAQq1yZdX-TaIOe4vcghfKjmTbO',\n",
        "    'EC': 'https://drive.google.com/uc?id=15qktH9MQXh4SoIpLYPEiYuOENeHYmPPJ',\n",
        "    'FR': 'https://drive.google.com/uc?id=1l95oqKq45VR19JhkwXd2akSVw8mDaX6N',\n",
        "    'GB': 'https://drive.google.com/uc?id=1Mi86QDBS_amDH4Hf8OYay0yCx3DhLpv2',\n",
        "    'GY': 'https://drive.google.com/uc?id=1x59jLemZn9Az4Lc2CilJR_4dqAr7TpYJ',\n",
        "    'ID': 'https://drive.google.com/uc?id=183aDMkokri1WlPYTpANyBAn9lUCkMBCR',\n",
        "    'IT': 'https://drive.google.com/uc?id=1W3p0AtG83RQne2VH3McAImXoVx81_DAk',\n",
        "    'JP': 'https://drive.google.com/uc?id=1Aa2aGJptnPxX6uC6Dw8QEH7F7UK4dS_6',\n",
        "    'KW': 'https://drive.google.com/uc?id=1uFG-B-xE11s3SWO_WLNRAynhCi0slyy4',\n",
        "    'NL': 'https://drive.google.com/uc?id=1_HK1by4qq9f43MaPOCf3Syy_YTunWqOq',\n",
        "    'QA': 'https://drive.google.com/uc?id=1IfoYjTD2d-yVv34hGf0kLtdIa1X7PfeD',\n",
        "    'SG': 'https://drive.google.com/uc?id=1qlU1HdFbSiSdFyfWhWSRe3XytOY3CsZK',\n",
        "    'TH': 'https://drive.google.com/uc?id=1KfsR0uBe2_bb2mfCHHGMOcS0CC2MHuuH',\n",
        "    'US': 'https://drive.google.com/uc?id=1LBcjlAO0uaDTaJhVLL9Yu2spL9LxT4TP',\n",
        "    'HK': 'https://drive.google.com/uc?id=1OHOlr3swoL_mLS1uOfJQCY3tm6UcohdT',\n",
        "    'ZA': 'https://drive.google.com/uc?id=1Zu13rBsJmWpWLeQ_MBvCxo2Kvm4_zxRM',\n",
        "    'ZW': 'https://drive.google.com/uc?id=1Pk__J_PCYO0fQ_vkBn2SYPzJOu6F6GiE',\n",
        "    'MY': 'https://drive.google.com/uc?id=1z4i8WZ_U1FWUmeWSOCOa4_OmZWOzs5fD',\n",
        "    'MA': 'https://drive.google.com/uc?id=1SzXvA8po8PpiHGBLP9QGNRncUDYqrHD_',\n",
        "    'NG': 'https://drive.google.com/uc?id=1OCWEvWFzZzCAKQK-bCxA_EenrbOSDbqp',\n",
        "    'GH': 'https://drive.google.com/uc?id=1zlLVCo2hrV4cNZ23VXgodyC94qFZUddr',\n",
        "    'BS': 'https://drive.google.com/uc?id=1c7tdCz1u0EHWu_2Dyw3tSelypaeh4zzA',\n",
        "    'SL': 'https://drive.google.com/uc?id=1xcuNMf1FxbrTn_5v9PB07Uk6yTIAy8fk',\n",
        "    'RS': 'https://drive.google.com/uc?id=1-gmuXkY9JqBA5kZCZWhlzfrYuPyRZMEA',\n",
        "    'KR': 'https://drive.google.com/uc?id=1K4001YjVdYUx_PPJU8ScxLhDAUyLDRKu',\n",
        "    'TN': 'https://drive.google.com/uc?id=1NeaCjHBSsaJb6CF5b4VPktVYCsd_UKdn',\n",
        "    'PY': 'https://drive.google.com/uc?id=1-Or3rHbxOSD2oqIyEkjWA2h8ZGiFQ_4s',\n",
        "    'ES': 'https://drive.google.com/uc?id=1rC_mLR_1JDpGeXrqpiIfxvanK0tJkRVD',\n",
        "    'GM': 'https://drive.google.com/uc?id=1cQG4Ve2u_LO09-NzwP0va816p_k96Oed',\n",
        "})"
      ],
      "metadata": {
        "id": "5-C258XgOMMG"
      },
      "execution_count": 35,
      "outputs": []
    },
    {
      "cell_type": "code",
      "source": [
        "# Helping functions\n",
        "def get_most_common(items, ispurpose=False, issource=False):\n",
        "    text = ''\n",
        "    for i in range(len(items)):\n",
        "        if i == 4 or items[i] / items.sum() < 0.1:\n",
        "            break\n",
        "\n",
        "        cat = items.index[i]\n",
        "        if ispurpose: cat = purpose_dict[cat]\n",
        "        if issource: cat = source_dict[cat]\n",
        "\n",
        "        new_text = cat + ' (' + str(round(items[i] / items.sum()*100, 2)) + '%) <br>'\n",
        "        text = text + new_text\n",
        "\n",
        "    return text\n",
        "\n",
        "def get_countries(items):\n",
        "    text = ''\n",
        "    for i in range(len(items)):\n",
        "        if i == 4 or (items[i] / items.sum() < 0.1 and i != 0):\n",
        "            break\n",
        "\n",
        "        cat = items.index[i]\n",
        "        if cat not in images_flags:\n",
        "            new_text = 'XX ({0}%)'.format(round(items[i] / items.sum()*100, 2))\n",
        "        else:\n",
        "            new_text = '<div style=\"display: flex; margin-bottom: 3px;\">\\\n",
        "                        <img src=\"{0}\" title=\"{1}\">'.format(images_flags[cat], cat) + '(' + str(round(items[i] / items.sum()*100, 2)) + '%)</div>'\n",
        "        text = text + new_text\n",
        "\n",
        "    return text\n",
        "\n",
        "def get_image(name):\n",
        "    if name in images_species:\n",
        "        return'<img src=\"{0}\" alt=\"img\" width=\"100\" height=\"100\">'.format(images_species[name])\n",
        "    else:\n",
        "        return 'No image'"
      ],
      "metadata": {
        "id": "jpUV_r0WOQog"
      },
      "execution_count": 36,
      "outputs": []
    },
    {
      "cell_type": "code",
      "source": [
        "def taxon_summary(taxon_name, taxon_count):\n",
        "\n",
        "    name_count = taxon_name + '<br>(' + str(taxon_count) + ')'\n",
        "\n",
        "    terms = species[species['Taxon'] == taxon_name]['Term'].value_counts()\n",
        "    term = get_most_common(terms)\n",
        "\n",
        "    purposes = species[species['Taxon'] == taxon_name]['Purpose'].value_counts()\n",
        "    purpose = get_most_common(purposes, True)\n",
        "\n",
        "    sources = species[species['Taxon'] == taxon_name]['Source'].value_counts()\n",
        "    source = get_most_common(sources, False, True)\n",
        "\n",
        "    exporters = species[species['Taxon'] == taxon_name]['Exporter'].value_counts()\n",
        "    exporter = get_countries(exporters)\n",
        "\n",
        "    importers = species[species['Taxon'] == taxon_name]['Importer'].value_counts()\n",
        "    importer = get_countries(importers)\n",
        "\n",
        "    return ['<img src={0} alt=\"img\" width=\"100\" height=\"100\">'.format(images_species[taxon_name]),\n",
        "            name_count, term, purpose, source, exporter, importer]"
      ],
      "metadata": {
        "id": "yuAvfXiqOXRM"
      },
      "execution_count": 37,
      "outputs": []
    },
    {
      "cell_type": "code",
      "source": [
        "from IPython.display import display, HTML\n",
        "import pandas as pd\n",
        "\n",
        "taxon_10 = species['Taxon'].value_counts()[:10]\n",
        "columns = ['Image', 'Taxon (traded times)', 'Term', 'Purpose', 'Source', 'Exporters', 'Importers']\n",
        "taxon_10_df = pd.DataFrame(columns=columns)\n",
        "\n",
        "for i in range(len(taxon_10)):\n",
        "    taxon_10_df.loc[i] = taxon_summary(taxon_10.index[i], taxon_10[i])\n",
        "\n",
        "display(HTML(taxon_10_df.to_html(escape=False)))\n"
      ],
      "metadata": {
        "colab": {
          "base_uri": "https://localhost:8080/",
          "height": 1000
        },
        "id": "V8xPloS2Op7i",
        "outputId": "9e940485-ef3a-465c-8b6f-20afd34ee8a1"
      },
      "execution_count": 39,
      "outputs": [
        {
          "output_type": "display_data",
          "data": {
            "text/plain": [
              "<IPython.core.display.HTML object>"
            ],
            "text/html": [
              "<table border=\"1\" class=\"dataframe\">\n",
              "  <thead>\n",
              "    <tr style=\"text-align: right;\">\n",
              "      <th></th>\n",
              "      <th>Image</th>\n",
              "      <th>Taxon (traded times)</th>\n",
              "      <th>Term</th>\n",
              "      <th>Purpose</th>\n",
              "      <th>Source</th>\n",
              "      <th>Exporters</th>\n",
              "      <th>Importers</th>\n",
              "    </tr>\n",
              "  </thead>\n",
              "  <tbody>\n",
              "    <tr>\n",
              "      <th>0</th>\n",
              "      <td><img src=https://drive.google.com/uc?id=1uEGKHwfwhPphhY2rdLgB0xflNMYRc0dJ alt=\"img\" width=\"100\" height=\"100\"></td>\n",
              "      <td>Crocodylus niloticus<br>(2417)</td>\n",
              "      <td>leather products (small) (57.01%) <br>skins (16.18%) <br></td>\n",
              "      <td>Commercial (79.54%) <br>Personal (13.29%) <br></td>\n",
              "      <td>Bred in captivity (48.44%) <br>Ranched specimens (37.53%) <br>Taken from wild (11.5%) <br></td>\n",
              "      <td><div style=\"display: flex; margin-bottom: 3px;\">                        <img src=\"https://drive.google.com/uc?id=1W3p0AtG83RQne2VH3McAImXoVx81_DAk\" title=\"IT\">(29.31%)</div><div style=\"display: flex; margin-bottom: 3px;\">                        <img src=\"https://drive.google.com/uc?id=1l95oqKq45VR19JhkwXd2akSVw8mDaX6N\" title=\"FR\">(12.53%)</div></td>\n",
              "      <td><div style=\"display: flex; margin-bottom: 3px;\">                        <img src=\"https://drive.google.com/uc?id=1LBcjlAO0uaDTaJhVLL9Yu2spL9LxT4TP\" title=\"US\">(11.79%)</div></td>\n",
              "    </tr>\n",
              "    <tr>\n",
              "      <th>1</th>\n",
              "      <td><img src=https://drive.google.com/uc?id=15rWnUPmJAV1w2qzI5QLX5bUvs6y3ULWA alt=\"img\" width=\"100\" height=\"100\"></td>\n",
              "      <td>Python reticulatus<br>(2309)</td>\n",
              "      <td>leather products (small) (69.03%) <br></td>\n",
              "      <td>Commercial (83.41%) <br>Personal (15.76%) <br></td>\n",
              "      <td>Bred in captivity (49.36%) <br>Taken from wild (47.48%) <br></td>\n",
              "      <td><div style=\"display: flex; margin-bottom: 3px;\">                        <img src=\"https://drive.google.com/uc?id=1W3p0AtG83RQne2VH3McAImXoVx81_DAk\" title=\"IT\">(28.11%)</div><div style=\"display: flex; margin-bottom: 3px;\">                        <img src=\"https://drive.google.com/uc?id=1l95oqKq45VR19JhkwXd2akSVw8mDaX6N\" title=\"FR\">(11.91%)</div></td>\n",
              "      <td><div style=\"display: flex; margin-bottom: 3px;\">                        <img src=\"https://drive.google.com/uc?id=1LBcjlAO0uaDTaJhVLL9Yu2spL9LxT4TP\" title=\"US\">(11.79%)</div></td>\n",
              "    </tr>\n",
              "    <tr>\n",
              "      <th>2</th>\n",
              "      <td><img src=https://drive.google.com/uc?id=1ArT7yJX6k82vQoIOmlZa1sO5Iv0EZeSm alt=\"img\" width=\"100\" height=\"100\"></td>\n",
              "      <td>Alligator mississippiensis<br>(2099)</td>\n",
              "      <td>leather products (small) (68.46%) <br></td>\n",
              "      <td>Commercial (81.81%) <br>Personal (12.34%) <br></td>\n",
              "      <td>Taken from wild (72.28%) <br>Bred in captivity (17.36%) <br></td>\n",
              "      <td><div style=\"display: flex; margin-bottom: 3px;\">                        <img src=\"https://drive.google.com/uc?id=1W3p0AtG83RQne2VH3McAImXoVx81_DAk\" title=\"IT\">(16.34%)</div><div style=\"display: flex; margin-bottom: 3px;\">                        <img src=\"https://drive.google.com/uc?id=1l95oqKq45VR19JhkwXd2akSVw8mDaX6N\" title=\"FR\">(12.48%)</div><div style=\"display: flex; margin-bottom: 3px;\">                        <img src=\"https://drive.google.com/uc?id=1LBcjlAO0uaDTaJhVLL9Yu2spL9LxT4TP\" title=\"US\">(12.29%)</div></td>\n",
              "      <td><div style=\"display: flex; margin-bottom: 3px;\">                        <img src=\"https://drive.google.com/uc?id=1LBcjlAO0uaDTaJhVLL9Yu2spL9LxT4TP\" title=\"US\">(9.48%)</div></td>\n",
              "    </tr>\n",
              "    <tr>\n",
              "      <th>3</th>\n",
              "      <td><img src=https://drive.google.com/uc?id=12KH-pAOFoNHX1zRkkhknOy96Due7t5s6 alt=\"img\" width=\"100\" height=\"100\"></td>\n",
              "      <td>Crocodylus porosus<br>(1404)</td>\n",
              "      <td>leather products (small) (60.11%) <br>skins (17.31%) <br></td>\n",
              "      <td>Commercial (86.23%) <br>Personal (12.9%) <br></td>\n",
              "      <td>Bred in captivity (41.52%) <br>Ranched specimens (29.06%) <br>Bred in captivity for commercial purposes (16.52%) <br>Taken from wild (11.3%) <br></td>\n",
              "      <td><div style=\"display: flex; margin-bottom: 3px;\">                        <img src=\"https://drive.google.com/uc?id=1l95oqKq45VR19JhkwXd2akSVw8mDaX6N\" title=\"FR\">(27.85%)</div><div style=\"display: flex; margin-bottom: 3px;\">                        <img src=\"https://drive.google.com/uc?id=1W3p0AtG83RQne2VH3McAImXoVx81_DAk\" title=\"IT\">(21.44%)</div></td>\n",
              "      <td><div style=\"display: flex; margin-bottom: 3px;\">                        <img src=\"https://drive.google.com/uc?id=1l95oqKq45VR19JhkwXd2akSVw8mDaX6N\" title=\"FR\">(8.9%)</div></td>\n",
              "    </tr>\n",
              "    <tr>\n",
              "      <th>4</th>\n",
              "      <td><img src=https://drive.google.com/uc?id=1kBi-7BRpmITk12E6qv9zTBoHSo13TSVk alt=\"img\" width=\"100\" height=\"100\"></td>\n",
              "      <td>Varanus salvator<br>(960)</td>\n",
              "      <td>leather products (small) (73.23%) <br>skins (11.88%) <br></td>\n",
              "      <td>Commercial (88.35%) <br>Personal (10.04%) <br></td>\n",
              "      <td>Taken from wild (93.59%) <br></td>\n",
              "      <td><div style=\"display: flex; margin-bottom: 3px;\">                        <img src=\"https://drive.google.com/uc?id=1W3p0AtG83RQne2VH3McAImXoVx81_DAk\" title=\"IT\">(21.46%)</div><div style=\"display: flex; margin-bottom: 3px;\">                        <img src=\"https://drive.google.com/uc?id=1l95oqKq45VR19JhkwXd2akSVw8mDaX6N\" title=\"FR\">(13.12%)</div></td>\n",
              "      <td><div style=\"display: flex; margin-bottom: 3px;\">                        <img src=\"https://drive.google.com/uc?id=1LBcjlAO0uaDTaJhVLL9Yu2spL9LxT4TP\" title=\"US\">(11.56%)</div></td>\n",
              "    </tr>\n",
              "    <tr>\n",
              "      <th>5</th>\n",
              "      <td><img src=https://drive.google.com/uc?id=1xaFiygRs_R1-SzW_-db6kji3En1BtNbG alt=\"img\" width=\"100\" height=\"100\"></td>\n",
              "      <td>Python bivittatus<br>(925)</td>\n",
              "      <td>leather products (small) (69.3%) <br>garments (12.0%) <br></td>\n",
              "      <td>Commercial (77.88%) <br>Personal (20.7%) <br></td>\n",
              "      <td>Bred in captivity (89.28%) <br></td>\n",
              "      <td><div style=\"display: flex; margin-bottom: 3px;\">                        <img src=\"https://drive.google.com/uc?id=1W3p0AtG83RQne2VH3McAImXoVx81_DAk\" title=\"IT\">(33.95%)</div><div style=\"display: flex; margin-bottom: 3px;\">                        <img src=\"https://drive.google.com/uc?id=1l95oqKq45VR19JhkwXd2akSVw8mDaX6N\" title=\"FR\">(14.05%)</div></td>\n",
              "      <td><div style=\"display: flex; margin-bottom: 3px;\">                        <img src=\"https://drive.google.com/uc?id=1LBcjlAO0uaDTaJhVLL9Yu2spL9LxT4TP\" title=\"US\">(11.5%)</div></td>\n",
              "    </tr>\n",
              "    <tr>\n",
              "      <th>6</th>\n",
              "      <td><img src=https://drive.google.com/uc?id=15Bun-kuxZEygZk0gAwKfmSflkC3amPoZ alt=\"img\" width=\"100\" height=\"100\"></td>\n",
              "      <td>Acipenser baerii<br>(911)</td>\n",
              "      <td>caviar (39.3%) <br>extract (27.88%) <br>cosmetics (16.9%) <br></td>\n",
              "      <td>Commercial (97.54%) <br></td>\n",
              "      <td>Bred in captivity (96.76%) <br></td>\n",
              "      <td><div style=\"display: flex; margin-bottom: 3px;\">                        <img src=\"https://drive.google.com/uc?id=149OEzCXv8hJb1y2jm6ji5WVyXuFTsXmY\" title=\"DE\">(28.1%)</div><div style=\"display: flex; margin-bottom: 3px;\">                        <img src=\"https://drive.google.com/uc?id=1l95oqKq45VR19JhkwXd2akSVw8mDaX6N\" title=\"FR\">(24.37%)</div></td>\n",
              "      <td><div style=\"display: flex; margin-bottom: 3px;\">                        <img src=\"https://drive.google.com/uc?id=1LBcjlAO0uaDTaJhVLL9Yu2spL9LxT4TP\" title=\"US\">(10.23%)</div></td>\n",
              "    </tr>\n",
              "    <tr>\n",
              "      <th>7</th>\n",
              "      <td><img src=https://drive.google.com/uc?id=1po1x2CN2jS6pjqHYS00KCJP7-ny6JoAB alt=\"img\" width=\"100\" height=\"100\"></td>\n",
              "      <td>Loxodonta africana<br>(854)</td>\n",
              "      <td>ivory carvings (29.27%) <br>tusks (14.75%) <br></td>\n",
              "      <td>Commercial (31.13%) <br>Hunting trophy (30.31%) <br>Personal (24.29%) <br></td>\n",
              "      <td>Taken from wild (55.28%) <br>Pre-Convention specimens (37.79%) <br></td>\n",
              "      <td><div style=\"display: flex; margin-bottom: 3px;\">                        <img src=\"https://drive.google.com/uc?id=1Pk__J_PCYO0fQ_vkBn2SYPzJOu6F6GiE\" title=\"ZW\">(24.24%)</div><div style=\"display: flex; margin-bottom: 3px;\">                        <img src=\"https://drive.google.com/uc?id=1Zu13rBsJmWpWLeQ_MBvCxo2Kvm4_zxRM\" title=\"ZA\">(13.64%)</div></td>\n",
              "      <td><div style=\"display: flex; margin-bottom: 3px;\">                        <img src=\"https://drive.google.com/uc?id=1LBcjlAO0uaDTaJhVLL9Yu2spL9LxT4TP\" title=\"US\">(19.13%)</div></td>\n",
              "    </tr>\n",
              "    <tr>\n",
              "      <th>8</th>\n",
              "      <td><img src=https://drive.google.com/uc?id=12rFm4ILH0LHakVtLCwVRES7aaNIUbzfI alt=\"img\" width=\"100\" height=\"100\"></td>\n",
              "      <td>Macaca fascicularis<br>(793)</td>\n",
              "      <td>specimens (90.54%) <br></td>\n",
              "      <td>Medical (60.56%) <br>Commercial (24.4%) <br>Scientific (14.03%) <br></td>\n",
              "      <td>Bred in captivity (61.69%) <br>Born in captivity (32.24%) <br></td>\n",
              "      <td><div style=\"display: flex; margin-bottom: 3px;\">                        <img src=\"https://drive.google.com/uc?id=1LBcjlAO0uaDTaJhVLL9Yu2spL9LxT4TP\" title=\"US\">(43.38%)</div></td>\n",
              "      <td><div style=\"display: flex; margin-bottom: 3px;\">                        <img src=\"https://drive.google.com/uc?id=1LBcjlAO0uaDTaJhVLL9Yu2spL9LxT4TP\" title=\"US\">(22.35%)</div></td>\n",
              "    </tr>\n",
              "    <tr>\n",
              "      <th>9</th>\n",
              "      <td><img src=https://drive.google.com/uc?id=10o0C7hzQTo3lhE-023N4fDd_NX0nrYV1 alt=\"img\" width=\"100\" height=\"100\"></td>\n",
              "      <td>Varanus niloticus<br>(735)</td>\n",
              "      <td>leather products (small) (80.0%) <br></td>\n",
              "      <td>Commercial (81.41%) <br>Personal (15.92%) <br></td>\n",
              "      <td>Taken from wild (94.08%) <br></td>\n",
              "      <td><div style=\"display: flex; margin-bottom: 3px;\">                        <img src=\"https://drive.google.com/uc?id=1W3p0AtG83RQne2VH3McAImXoVx81_DAk\" title=\"IT\">(23.95%)</div><div style=\"display: flex; margin-bottom: 3px;\">                        <img src=\"https://drive.google.com/uc?id=1l95oqKq45VR19JhkwXd2akSVw8mDaX6N\" title=\"FR\">(21.5%)</div></td>\n",
              "      <td><div style=\"display: flex; margin-bottom: 3px;\">                        <img src=\"https://drive.google.com/uc?id=1LBcjlAO0uaDTaJhVLL9Yu2spL9LxT4TP\" title=\"US\">(8.57%)</div></td>\n",
              "    </tr>\n",
              "  </tbody>\n",
              "</table>"
            ]
          },
          "metadata": {}
        }
      ]
    },
    {
      "cell_type": "markdown",
      "source": [
        "**Overview**\n",
        "\n",
        "1.   the most traded taxons are of class Reptilia\n",
        "2.   the most used term is 'leather products'\n",
        "3.   the main purpose is commercial\n",
        "4.   the most common source is 'bred in captivity'\n",
        "5.   the largest exporters are Italy and France\n",
        "6.   the largest importers is the US\n",
        "\n",
        "\n",
        "\n",
        "\n"
      ],
      "metadata": {
        "id": "MIO8Fq7pOyl5"
      }
    },
    {
      "cell_type": "markdown",
      "source": [
        "2.4. The most traded 'live' species"
      ],
      "metadata": {
        "id": "T6k83oQAPNlM"
      }
    },
    {
      "cell_type": "code",
      "source": [
        "def live_summary(name, count):\n",
        "\n",
        "    name_count = name + '<br>(' + str(count) + ')'\n",
        "\n",
        "    terms = species[(species['Taxon'] == name)]['Term'].value_counts()\n",
        "    term = get_most_common(terms)\n",
        "\n",
        "    purposes = species[(species['Taxon'] == name)]['Purpose'].value_counts()\n",
        "    purpose = get_most_common(purposes, True)\n",
        "\n",
        "    sources = species[species['Taxon'] == name]['Source'].value_counts()\n",
        "    source = get_most_common(sources, False, True)\n",
        "\n",
        "    exporters = species[(species['Taxon'] == name)]['Exporter'].value_counts()\n",
        "    exporter = get_countries(exporters)\n",
        "\n",
        "    importers = species[(species['Taxon'] == name)]['Importer'].value_counts()\n",
        "    importer = get_countries(importers)\n",
        "\n",
        "    return ['<img src=\"{0}\" alt=\"img\" width=\"100\" height=\"100\">'.format(images_species[name]),\n",
        "            name_count, term, purpose, source, exporter, importer]"
      ],
      "metadata": {
        "id": "DymP3LXePQ04"
      },
      "execution_count": 40,
      "outputs": []
    },
    {
      "cell_type": "code",
      "source": [
        "live_10 = species[species['Term'] == 'live']['Taxon'].value_counts()[:10]\n",
        "columns=['Image', 'Taxon (traded times)', 'Term', 'Purpose', 'Source', 'Exporters', 'Importers']\n",
        "live_10_df = pd.DataFrame(columns=columns)\n",
        "\n",
        "for i in range(len(live_10)):\n",
        "    live_10_df.loc[i] = live_summary(live_10.index[i], live_10[i])\n",
        "display(HTML(live_10_df.to_html(escape=False)))"
      ],
      "metadata": {
        "colab": {
          "base_uri": "https://localhost:8080/",
          "height": 1000
        },
        "id": "Gs7YVYJnPUdz",
        "outputId": "ddfd7c12-1847-42f0-b879-9a951a4b4c0f"
      },
      "execution_count": 41,
      "outputs": [
        {
          "output_type": "display_data",
          "data": {
            "text/plain": [
              "<IPython.core.display.HTML object>"
            ],
            "text/html": [
              "<table border=\"1\" class=\"dataframe\">\n",
              "  <thead>\n",
              "    <tr style=\"text-align: right;\">\n",
              "      <th></th>\n",
              "      <th>Image</th>\n",
              "      <th>Taxon (traded times)</th>\n",
              "      <th>Term</th>\n",
              "      <th>Purpose</th>\n",
              "      <th>Source</th>\n",
              "      <th>Exporters</th>\n",
              "      <th>Importers</th>\n",
              "    </tr>\n",
              "  </thead>\n",
              "  <tbody>\n",
              "    <tr>\n",
              "      <th>0</th>\n",
              "      <td><img src=\"https://drive.google.com/uc?id=1NI3_stznblMZAlANRBeZw3ankxtOLL2F\" alt=\"img\" width=\"100\" height=\"100\"></td>\n",
              "      <td>Psittacus erithacus<br>(374)</td>\n",
              "      <td>live (95.41%) <br></td>\n",
              "      <td>Personal (61.48%) <br>Commercial (36.22%) <br></td>\n",
              "      <td>Bred in captivity (66.24%) <br>Born in captivity (13.3%) <br>Taken from wild (11.25%) <br></td>\n",
              "      <td><div style=\"display: flex; margin-bottom: 3px;\">                        <img src=\"https://drive.google.com/uc?id=1ORAEQjzBwdIhUkwKlstsGNDJk30lu1Nr\" title=\"AE\">(11.03%)</div></td>\n",
              "      <td><div style=\"display: flex; margin-bottom: 3px;\">                        <img src=\"https://drive.google.com/uc?id=1LBcjlAO0uaDTaJhVLL9Yu2spL9LxT4TP\" title=\"US\">(11.05%)</div></td>\n",
              "    </tr>\n",
              "    <tr>\n",
              "      <th>1</th>\n",
              "      <td><img src=\"https://drive.google.com/uc?id=16HKM2Xfvh93kGC-0doZeyGKbGlLx-LD2\" alt=\"img\" width=\"100\" height=\"100\"></td>\n",
              "      <td>Falco rusticolus<br>(303)</td>\n",
              "      <td>live (91.54%) <br></td>\n",
              "      <td>Personal (56.8%) <br>Commercial (32.63%) <br></td>\n",
              "      <td>Bred in captivity (63.75%) <br>Bred in captivity for commercial purposes (29.91%) <br></td>\n",
              "      <td><div style=\"display: flex; margin-bottom: 3px;\">                        <img src=\"https://drive.google.com/uc?id=1ORAEQjzBwdIhUkwKlstsGNDJk30lu1Nr\" title=\"AE\">(63.44%)</div></td>\n",
              "      <td><div style=\"display: flex; margin-bottom: 3px;\">                        <img src=\"https://drive.google.com/uc?id=1Mi86QDBS_amDH4Hf8OYay0yCx3DhLpv2\" title=\"GB\">(20.24%)</div><div style=\"display: flex; margin-bottom: 3px;\">                        <img src=\"https://drive.google.com/uc?id=1ORAEQjzBwdIhUkwKlstsGNDJk30lu1Nr\" title=\"AE\">(18.43%)</div></td>\n",
              "    </tr>\n",
              "    <tr>\n",
              "      <th>2</th>\n",
              "      <td><img src=\"https://drive.google.com/uc?id=1StiOXTb0s1pObmfIpuDDemUcwfgve5kp\" alt=\"img\" width=\"100\" height=\"100\"></td>\n",
              "      <td>Phalaenopsis hybrid<br>(253)</td>\n",
              "      <td>live (94.05%) <br></td>\n",
              "      <td>Commercial (90.0%) <br></td>\n",
              "      <td>Artificially propagated (98.87%) <br></td>\n",
              "      <td><div style=\"display: flex; margin-bottom: 3px;\">                        <img src=\"https://drive.google.com/uc?id=1_HK1by4qq9f43MaPOCf3Syy_YTunWqOq\" title=\"NL\">(55.76%)</div><div style=\"display: flex; margin-bottom: 3px;\">                        <img src=\"https://drive.google.com/uc?id=1m_ew6K0lgDOkp2fYVo-UPhFXOULj6KF9\" title=\"CN\">(13.75%)</div></td>\n",
              "      <td><div style=\"display: flex; margin-bottom: 3px;\">                        <img src=\"https://drive.google.com/uc?id=1l95oqKq45VR19JhkwXd2akSVw8mDaX6N\" title=\"FR\">(4.48%)</div></td>\n",
              "    </tr>\n",
              "    <tr>\n",
              "      <th>3</th>\n",
              "      <td><img src=\"https://drive.google.com/uc?id=1USmb_2cGkiaEtQnIyxW45iK2g6iebuWP\" alt=\"img\" width=\"100\" height=\"100\"></td>\n",
              "      <td>Ara ararauna<br>(179)</td>\n",
              "      <td>live (90.4%) <br></td>\n",
              "      <td>Commercial (54.31%) <br>Personal (28.43%) <br></td>\n",
              "      <td>Bred in captivity (65.66%) <br>Taken from wild (20.2%) <br></td>\n",
              "      <td><div style=\"display: flex; margin-bottom: 3px;\">                        <img src=\"https://drive.google.com/uc?id=1iRHpvcK8R3eookqhkGsJRbR7H_TKK13s\" title=\"BE\">(8.12%)</div></td>\n",
              "      <td><div style=\"display: flex; margin-bottom: 3px;\">                        <img src=\"https://drive.google.com/uc?id=1LBcjlAO0uaDTaJhVLL9Yu2spL9LxT4TP\" title=\"US\">(10.1%)</div></td>\n",
              "    </tr>\n",
              "    <tr>\n",
              "      <th>4</th>\n",
              "      <td><img src=\"https://drive.google.com/uc?id=1v3f5TDQpS4_RPfFRIDBxlorv7SayPNe5\" alt=\"img\" width=\"100\" height=\"100\"></td>\n",
              "      <td>Falco hybrid<br>(174)</td>\n",
              "      <td>live (98.31%) <br></td>\n",
              "      <td>Personal (70.45%) <br>Commercial (27.27%) <br></td>\n",
              "      <td>Bred in captivity (77.97%) <br>Bred in captivity for commercial purposes (19.21%) <br></td>\n",
              "      <td><div style=\"display: flex; margin-bottom: 3px;\">                        <img src=\"https://drive.google.com/uc?id=1ORAEQjzBwdIhUkwKlstsGNDJk30lu1Nr\" title=\"AE\">(37.85%)</div><div style=\"display: flex; margin-bottom: 3px;\">                        <img src=\"https://drive.google.com/uc?id=1uFG-B-xE11s3SWO_WLNRAynhCi0slyy4\" title=\"KW\">(11.86%)</div></td>\n",
              "      <td><div style=\"display: flex; margin-bottom: 3px;\">                        <img src=\"https://drive.google.com/uc?id=1ORAEQjzBwdIhUkwKlstsGNDJk30lu1Nr\" title=\"AE\">(31.07%)</div><div style=\"display: flex; margin-bottom: 3px;\">                        <img src=\"https://drive.google.com/uc?id=1uFG-B-xE11s3SWO_WLNRAynhCi0slyy4\" title=\"KW\">(11.3%)</div></td>\n",
              "    </tr>\n",
              "    <tr>\n",
              "      <th>5</th>\n",
              "      <td><img src=\"https://drive.google.com/uc?id=1pBuMj7FLJiD0hqkPh3s-hKen3U0bXy21\" alt=\"img\" width=\"100\" height=\"100\"></td>\n",
              "      <td>Falco peregrinus<br>(169)</td>\n",
              "      <td>live (97.13%) <br></td>\n",
              "      <td>Personal (49.43%) <br>Commercial (47.7%) <br></td>\n",
              "      <td>Bred in captivity (79.89%) <br>Bred in captivity for commercial purposes (16.09%) <br></td>\n",
              "      <td><div style=\"display: flex; margin-bottom: 3px;\">                        <img src=\"https://drive.google.com/uc?id=1ORAEQjzBwdIhUkwKlstsGNDJk30lu1Nr\" title=\"AE\">(19.54%)</div><div style=\"display: flex; margin-bottom: 3px;\">                        <img src=\"https://drive.google.com/uc?id=149OEzCXv8hJb1y2jm6ji5WVyXuFTsXmY\" title=\"DE\">(11.49%)</div></td>\n",
              "      <td><div style=\"display: flex; margin-bottom: 3px;\">                        <img src=\"https://drive.google.com/uc?id=1ORAEQjzBwdIhUkwKlstsGNDJk30lu1Nr\" title=\"AE\">(36.78%)</div><div style=\"display: flex; margin-bottom: 3px;\">                        <img src=\"https://drive.google.com/uc?id=1IfoYjTD2d-yVv34hGf0kLtdIa1X7PfeD\" title=\"QA\">(25.86%)</div></td>\n",
              "    </tr>\n",
              "    <tr>\n",
              "      <th>6</th>\n",
              "      <td><img src=\"https://drive.google.com/uc?id=19Ew74b08u5d9Nim6KqW_emrozvkHmuPI\" alt=\"img\" width=\"100\" height=\"100\"></td>\n",
              "      <td>Goniopora spp.<br>(144)</td>\n",
              "      <td>live (73.85%) <br>raw corals (18.46%) <br></td>\n",
              "      <td>Commercial (98.46%) <br></td>\n",
              "      <td>Taken from wild (65.64%) <br>Born in captivity (29.23%) <br></td>\n",
              "      <td><div style=\"display: flex; margin-bottom: 3px;\">                        <img src=\"https://drive.google.com/uc?id=183aDMkokri1WlPYTpANyBAn9lUCkMBCR\" title=\"ID\">(55.9%)</div><div style=\"display: flex; margin-bottom: 3px;\">                        <img src=\"https://drive.google.com/uc?id=1LBcjlAO0uaDTaJhVLL9Yu2spL9LxT4TP\" title=\"US\">(15.9%)</div><div style=\"display: flex; margin-bottom: 3px;\">                        <img src=\"https://drive.google.com/uc?id=1oWvDln6DGWhaJb1oWcj7vXkE0sRiZzII\" title=\"AU\">(10.77%)</div></td>\n",
              "      <td><div style=\"display: flex; margin-bottom: 3px;\">                        <img src=\"https://drive.google.com/uc?id=1LBcjlAO0uaDTaJhVLL9Yu2spL9LxT4TP\" title=\"US\">(10.77%)</div></td>\n",
              "    </tr>\n",
              "    <tr>\n",
              "      <th>7</th>\n",
              "      <td><img src=\"https://drive.google.com/uc?id=1HsFsnqAjUuc4IGSaSiiUU2SX6blmCcCW\" alt=\"img\" width=\"100\" height=\"100\"></td>\n",
              "      <td>Euphyllia glabrescens<br>(140)</td>\n",
              "      <td>live (80.92%) <br>raw corals (19.08%) <br></td>\n",
              "      <td>Commercial (99.42%) <br></td>\n",
              "      <td>Taken from wild (56.65%) <br>Born in captivity (38.73%) <br></td>\n",
              "      <td><div style=\"display: flex; margin-bottom: 3px;\">                        <img src=\"https://drive.google.com/uc?id=183aDMkokri1WlPYTpANyBAn9lUCkMBCR\" title=\"ID\">(57.23%)</div><div style=\"display: flex; margin-bottom: 3px;\">                        <img src=\"https://drive.google.com/uc?id=1oWvDln6DGWhaJb1oWcj7vXkE0sRiZzII\" title=\"AU\">(12.72%)</div><div style=\"display: flex; margin-bottom: 3px;\">                        <img src=\"https://drive.google.com/uc?id=1LBcjlAO0uaDTaJhVLL9Yu2spL9LxT4TP\" title=\"US\">(11.56%)</div></td>\n",
              "      <td><div style=\"display: flex; margin-bottom: 3px;\">                        <img src=\"https://drive.google.com/uc?id=1LBcjlAO0uaDTaJhVLL9Yu2spL9LxT4TP\" title=\"US\">(9.25%)</div></td>\n",
              "    </tr>\n",
              "    <tr>\n",
              "      <th>8</th>\n",
              "      <td><img src=\"https://drive.google.com/uc?id=10KrJo-xc9RXnr0DLtIbIWhFI-mmaamgt\" alt=\"img\" width=\"100\" height=\"100\"></td>\n",
              "      <td>Euphyllia ancora<br>(138)</td>\n",
              "      <td>live (79.77%) <br>raw corals (20.23%) <br></td>\n",
              "      <td>Commercial (99.42%) <br></td>\n",
              "      <td>Taken from wild (56.07%) <br>Born in captivity (37.57%) <br></td>\n",
              "      <td><div style=\"display: flex; margin-bottom: 3px;\">                        <img src=\"https://drive.google.com/uc?id=183aDMkokri1WlPYTpANyBAn9lUCkMBCR\" title=\"ID\">(65.32%)</div><div style=\"display: flex; margin-bottom: 3px;\">                        <img src=\"https://drive.google.com/uc?id=1oWvDln6DGWhaJb1oWcj7vXkE0sRiZzII\" title=\"AU\">(13.29%)</div><div style=\"display: flex; margin-bottom: 3px;\">                        <img src=\"https://drive.google.com/uc?id=1LBcjlAO0uaDTaJhVLL9Yu2spL9LxT4TP\" title=\"US\">(10.4%)</div></td>\n",
              "      <td><div style=\"display: flex; margin-bottom: 3px;\">                        <img src=\"https://drive.google.com/uc?id=1LBcjlAO0uaDTaJhVLL9Yu2spL9LxT4TP\" title=\"US\">(10.4%)</div></td>\n",
              "    </tr>\n",
              "    <tr>\n",
              "      <th>9</th>\n",
              "      <td><img src=\"https://drive.google.com/uc?id=1hKcC58YSkITQa_VAmGelHqX8k2P-Kzqk\" alt=\"img\" width=\"100\" height=\"100\"></td>\n",
              "      <td>Montipora spp.<br>(138)</td>\n",
              "      <td>live (74.59%) <br>raw corals (25.41%) <br></td>\n",
              "      <td>Commercial (97.3%) <br></td>\n",
              "      <td>Taken from wild (54.59%) <br>Born in captivity (38.92%) <br></td>\n",
              "      <td><div style=\"display: flex; margin-bottom: 3px;\">                        <img src=\"https://drive.google.com/uc?id=183aDMkokri1WlPYTpANyBAn9lUCkMBCR\" title=\"ID\">(55.14%)</div><div style=\"display: flex; margin-bottom: 3px;\">                        <img src=\"https://drive.google.com/uc?id=1oWvDln6DGWhaJb1oWcj7vXkE0sRiZzII\" title=\"AU\">(10.81%)</div></td>\n",
              "      <td><div style=\"display: flex; margin-bottom: 3px;\">                        <img src=\"https://drive.google.com/uc?id=1LBcjlAO0uaDTaJhVLL9Yu2spL9LxT4TP\" title=\"US\">(9.73%)</div></td>\n",
              "    </tr>\n",
              "  </tbody>\n",
              "</table>"
            ]
          },
          "metadata": {}
        }
      ]
    },
    {
      "cell_type": "markdown",
      "source": [
        "2.5. The most traded appendix I species"
      ],
      "metadata": {
        "id": "_kALHJTOPxMw"
      }
    },
    {
      "cell_type": "code",
      "source": [
        "def app_summary(name, count):\n",
        "\n",
        "    name_count = name + '<br>(' + str(count) + ')'\n",
        "\n",
        "    terms = species[(species['Taxon'] == name)]['Term'].value_counts()\n",
        "    term = get_most_common(terms)\n",
        "\n",
        "    purposes = species[(species['Taxon'] == name)]['Purpose'].value_counts()\n",
        "    purpose = get_most_common(purposes, True)\n",
        "\n",
        "    sources = species[species['Taxon'] == name]['Source'].value_counts()\n",
        "    source = get_most_common(sources, False, True)\n",
        "\n",
        "    exporters = species[(species['Taxon'] == name)]['Exporter'].value_counts()\n",
        "    exporter = get_countries(exporters)\n",
        "\n",
        "    importers = species[(species['Taxon'] == name)]['Importer'].value_counts()\n",
        "    importer = get_countries(importers)\n",
        "\n",
        "    return ['<img src=\"{0}\" alt=\"img\" width=\"100\" height=\"100\">'.format(images_species[name]),\n",
        "            name_count, term, purpose, source, exporter, importer]"
      ],
      "metadata": {
        "id": "wJjcczRcQbhn"
      },
      "execution_count": 42,
      "outputs": []
    },
    {
      "cell_type": "code",
      "source": [
        "app_10 = species[species['App.'] == 'I']['Taxon'].value_counts()[:10]\n",
        "columns=['Image', 'Taxon (traded times)', 'Term', 'Purpose', 'Source', 'Exporters', 'Importers']\n",
        "app_10_df = pd.DataFrame(columns=columns)\n",
        "\n",
        "for i in range(len(app_10)):\n",
        "    app_10_df.loc[i] = app_summary(app_10.index[i], app_10[i])\n",
        "display(HTML(app_10_df.to_html(escape=False)))"
      ],
      "metadata": {
        "colab": {
          "base_uri": "https://localhost:8080/",
          "height": 1000
        },
        "id": "CPtop8NkQiHc",
        "outputId": "5ed60112-6f8c-499d-ba9b-0cdbe05fd670"
      },
      "execution_count": 43,
      "outputs": [
        {
          "output_type": "display_data",
          "data": {
            "text/plain": [
              "<IPython.core.display.HTML object>"
            ],
            "text/html": [
              "<table border=\"1\" class=\"dataframe\">\n",
              "  <thead>\n",
              "    <tr style=\"text-align: right;\">\n",
              "      <th></th>\n",
              "      <th>Image</th>\n",
              "      <th>Taxon (traded times)</th>\n",
              "      <th>Term</th>\n",
              "      <th>Purpose</th>\n",
              "      <th>Source</th>\n",
              "      <th>Exporters</th>\n",
              "      <th>Importers</th>\n",
              "    </tr>\n",
              "  </thead>\n",
              "  <tbody>\n",
              "    <tr>\n",
              "      <th>0</th>\n",
              "      <td><img src=\"https://drive.google.com/uc?id=1po1x2CN2jS6pjqHYS00KCJP7-ny6JoAB\" alt=\"img\" width=\"100\" height=\"100\"></td>\n",
              "      <td>Loxodonta africana<br>(454)</td>\n",
              "      <td>ivory carvings (29.27%) <br>tusks (14.75%) <br></td>\n",
              "      <td>Commercial (31.13%) <br>Hunting trophy (30.31%) <br>Personal (24.29%) <br></td>\n",
              "      <td>Taken from wild (55.28%) <br>Pre-Convention specimens (37.79%) <br></td>\n",
              "      <td><div style=\"display: flex; margin-bottom: 3px;\">                        <img src=\"https://drive.google.com/uc?id=1Pk__J_PCYO0fQ_vkBn2SYPzJOu6F6GiE\" title=\"ZW\">(24.24%)</div><div style=\"display: flex; margin-bottom: 3px;\">                        <img src=\"https://drive.google.com/uc?id=1Zu13rBsJmWpWLeQ_MBvCxo2Kvm4_zxRM\" title=\"ZA\">(13.64%)</div></td>\n",
              "      <td><div style=\"display: flex; margin-bottom: 3px;\">                        <img src=\"https://drive.google.com/uc?id=1LBcjlAO0uaDTaJhVLL9Yu2spL9LxT4TP\" title=\"US\">(19.13%)</div></td>\n",
              "    </tr>\n",
              "    <tr>\n",
              "      <th>1</th>\n",
              "      <td><img src=\"https://drive.google.com/uc?id=16HKM2Xfvh93kGC-0doZeyGKbGlLx-LD2\" alt=\"img\" width=\"100\" height=\"100\"></td>\n",
              "      <td>Falco rusticolus<br>(331)</td>\n",
              "      <td>live (91.54%) <br></td>\n",
              "      <td>Personal (56.8%) <br>Commercial (32.63%) <br></td>\n",
              "      <td>Bred in captivity (63.75%) <br>Bred in captivity for commercial purposes (29.91%) <br></td>\n",
              "      <td><div style=\"display: flex; margin-bottom: 3px;\">                        <img src=\"https://drive.google.com/uc?id=1ORAEQjzBwdIhUkwKlstsGNDJk30lu1Nr\" title=\"AE\">(63.44%)</div></td>\n",
              "      <td><div style=\"display: flex; margin-bottom: 3px;\">                        <img src=\"https://drive.google.com/uc?id=1Mi86QDBS_amDH4Hf8OYay0yCx3DhLpv2\" title=\"GB\">(20.24%)</div><div style=\"display: flex; margin-bottom: 3px;\">                        <img src=\"https://drive.google.com/uc?id=1ORAEQjzBwdIhUkwKlstsGNDJk30lu1Nr\" title=\"AE\">(18.43%)</div></td>\n",
              "    </tr>\n",
              "    <tr>\n",
              "      <th>2</th>\n",
              "      <td><img src=\"https://drive.google.com/uc?id=1cI6u1qxIX8TgsBoWhjXjLBH7-OoF1Wwj\" alt=\"img\" width=\"100\" height=\"100\"></td>\n",
              "      <td>Elephantidae spp.<br>(253)</td>\n",
              "      <td>ivory carvings (68.38%) <br></td>\n",
              "      <td>Commercial (42.69%) <br>Personal (41.11%) <br>Circus or travelling exhibition (13.04%) <br></td>\n",
              "      <td>Pre-Convention specimens (78.26%) <br>Confiscated or seized specimens (18.97%) <br></td>\n",
              "      <td><div style=\"display: flex; margin-bottom: 3px;\">                        <img src=\"https://drive.google.com/uc?id=1Mi86QDBS_amDH4Hf8OYay0yCx3DhLpv2\" title=\"GB\">(13.83%)</div></td>\n",
              "      <td><div style=\"display: flex; margin-bottom: 3px;\">                        <img src=\"https://drive.google.com/uc?id=1LBcjlAO0uaDTaJhVLL9Yu2spL9LxT4TP\" title=\"US\">(26.88%)</div></td>\n",
              "    </tr>\n",
              "    <tr>\n",
              "      <th>3</th>\n",
              "      <td><img src=\"https://drive.google.com/uc?id=12KH-pAOFoNHX1zRkkhknOy96Due7t5s6\" alt=\"img\" width=\"100\" height=\"100\"></td>\n",
              "      <td>Crocodylus porosus<br>(239)</td>\n",
              "      <td>leather products (small) (60.11%) <br>skins (17.31%) <br></td>\n",
              "      <td>Commercial (86.23%) <br>Personal (12.9%) <br></td>\n",
              "      <td>Bred in captivity (41.52%) <br>Ranched specimens (29.06%) <br>Bred in captivity for commercial purposes (16.52%) <br>Taken from wild (11.3%) <br></td>\n",
              "      <td><div style=\"display: flex; margin-bottom: 3px;\">                        <img src=\"https://drive.google.com/uc?id=1l95oqKq45VR19JhkwXd2akSVw8mDaX6N\" title=\"FR\">(27.85%)</div><div style=\"display: flex; margin-bottom: 3px;\">                        <img src=\"https://drive.google.com/uc?id=1W3p0AtG83RQne2VH3McAImXoVx81_DAk\" title=\"IT\">(21.44%)</div></td>\n",
              "      <td><div style=\"display: flex; margin-bottom: 3px;\">                        <img src=\"https://drive.google.com/uc?id=1l95oqKq45VR19JhkwXd2akSVw8mDaX6N\" title=\"FR\">(8.9%)</div></td>\n",
              "    </tr>\n",
              "    <tr>\n",
              "      <th>4</th>\n",
              "      <td><img src=\"https://drive.google.com/uc?id=1WMnsWoLzb0Xn4ZZJ_ZcSmy8HqwytZg9H\" alt=\"img\" width=\"100\" height=\"100\"></td>\n",
              "      <td>Panthera pardus<br>(238)</td>\n",
              "      <td>trophies (50.0%) <br></td>\n",
              "      <td>Hunting trophy (64.29%) <br>Personal (10.08%) <br></td>\n",
              "      <td>Taken from wild (74.26%) <br>Bred in captivity (11.39%) <br></td>\n",
              "      <td><div style=\"display: flex; margin-bottom: 3px;\">                        <img src=\"https://drive.google.com/uc?id=1Pk__J_PCYO0fQ_vkBn2SYPzJOu6F6GiE\" title=\"ZW\">(21.54%)</div><div style=\"display: flex; margin-bottom: 3px;\">                        <img src=\"https://drive.google.com/uc?id=1Zu13rBsJmWpWLeQ_MBvCxo2Kvm4_zxRM\" title=\"ZA\">(21.03%)</div></td>\n",
              "      <td><div style=\"display: flex; margin-bottom: 3px;\">                        <img src=\"https://drive.google.com/uc?id=1LBcjlAO0uaDTaJhVLL9Yu2spL9LxT4TP\" title=\"US\">(15.61%)</div></td>\n",
              "    </tr>\n",
              "    <tr>\n",
              "      <th>5</th>\n",
              "      <td><img src=\"https://drive.google.com/uc?id=1P4h6IJtHu-yEBrNWIiTaG63F-wtxysPd\" alt=\"img\" width=\"100\" height=\"100\"></td>\n",
              "      <td>Crocodylus siamensis<br>(206)</td>\n",
              "      <td>leather products (small) (38.35%) <br>skins (33.98%) <br></td>\n",
              "      <td>Commercial (82.52%) <br>Personal (13.59%) <br></td>\n",
              "      <td>Bred in captivity for commercial purposes (91.26%) <br></td>\n",
              "      <td><div style=\"display: flex; margin-bottom: 3px;\">                        <img src=\"https://drive.google.com/uc?id=1W3p0AtG83RQne2VH3McAImXoVx81_DAk\" title=\"IT\">(22.33%)</div><div style=\"display: flex; margin-bottom: 3px;\">                        <img src=\"https://drive.google.com/uc?id=1KfsR0uBe2_bb2mfCHHGMOcS0CC2MHuuH\" title=\"TH\">(20.87%)</div><div style=\"display: flex; margin-bottom: 3px;\">                        <img src=\"https://drive.google.com/uc?id=1l95oqKq45VR19JhkwXd2akSVw8mDaX6N\" title=\"FR\">(13.59%)</div><div style=\"display: flex; margin-bottom: 3px;\">                        <img src=\"https://drive.google.com/uc?id=1qlU1HdFbSiSdFyfWhWSRe3XytOY3CsZK\" title=\"SG\">(11.17%)</div></td>\n",
              "      <td><div style=\"display: flex; margin-bottom: 3px;\">                        <img src=\"https://drive.google.com/uc?id=1m_ew6K0lgDOkp2fYVo-UPhFXOULj6KF9\" title=\"CN\">(10.19%)</div></td>\n",
              "    </tr>\n",
              "    <tr>\n",
              "      <th>6</th>\n",
              "      <td><img src=\"https://drive.google.com/uc?id=1s2SQhG6zP4D7q32MbXzSOKhxNbVLIAGG\" alt=\"img\" width=\"100\" height=\"100\"></td>\n",
              "      <td>Dalbergia nigra<br>(202)</td>\n",
              "      <td>carvings (47.52%) <br>wood product (46.53%) <br></td>\n",
              "      <td>Commercial (77.11%) <br>Circus or travelling exhibition (12.44%) <br></td>\n",
              "      <td>Pre-Convention specimens (96.04%) <br></td>\n",
              "      <td><div style=\"display: flex; margin-bottom: 3px;\">                        <img src=\"https://drive.google.com/uc?id=1LBcjlAO0uaDTaJhVLL9Yu2spL9LxT4TP\" title=\"US\">(29.21%)</div><div style=\"display: flex; margin-bottom: 3px;\">                        <img src=\"https://drive.google.com/uc?id=1R9SqvTAQq1yZdX-TaIOe4vcghfKjmTbO\" title=\"DK\">(14.85%)</div><div style=\"display: flex; margin-bottom: 3px;\">                        <img src=\"https://drive.google.com/uc?id=1Mi86QDBS_amDH4Hf8OYay0yCx3DhLpv2\" title=\"GB\">(11.88%)</div><div style=\"display: flex; margin-bottom: 3px;\">                        <img src=\"https://drive.google.com/uc?id=149OEzCXv8hJb1y2jm6ji5WVyXuFTsXmY\" title=\"DE\">(11.88%)</div></td>\n",
              "      <td><div style=\"display: flex; margin-bottom: 3px;\">                        <img src=\"https://drive.google.com/uc?id=1LBcjlAO0uaDTaJhVLL9Yu2spL9LxT4TP\" title=\"US\">(27.72%)</div><div style=\"display: flex; margin-bottom: 3px;\">                        <img src=\"https://drive.google.com/uc?id=1Aa2aGJptnPxX6uC6Dw8QEH7F7UK4dS_6\" title=\"JP\">(11.39%)</div></td>\n",
              "    </tr>\n",
              "    <tr>\n",
              "      <th>7</th>\n",
              "      <td><img src=\"https://drive.google.com/uc?id=1v3f5TDQpS4_RPfFRIDBxlorv7SayPNe5\" alt=\"img\" width=\"100\" height=\"100\"></td>\n",
              "      <td>Falco hybrid<br>(175)</td>\n",
              "      <td>live (98.31%) <br></td>\n",
              "      <td>Personal (70.45%) <br>Commercial (27.27%) <br></td>\n",
              "      <td>Bred in captivity (77.97%) <br>Bred in captivity for commercial purposes (19.21%) <br></td>\n",
              "      <td><div style=\"display: flex; margin-bottom: 3px;\">                        <img src=\"https://drive.google.com/uc?id=1ORAEQjzBwdIhUkwKlstsGNDJk30lu1Nr\" title=\"AE\">(37.85%)</div><div style=\"display: flex; margin-bottom: 3px;\">                        <img src=\"https://drive.google.com/uc?id=1uFG-B-xE11s3SWO_WLNRAynhCi0slyy4\" title=\"KW\">(11.86%)</div></td>\n",
              "      <td><div style=\"display: flex; margin-bottom: 3px;\">                        <img src=\"https://drive.google.com/uc?id=1ORAEQjzBwdIhUkwKlstsGNDJk30lu1Nr\" title=\"AE\">(31.07%)</div><div style=\"display: flex; margin-bottom: 3px;\">                        <img src=\"https://drive.google.com/uc?id=1uFG-B-xE11s3SWO_WLNRAynhCi0slyy4\" title=\"KW\">(11.3%)</div></td>\n",
              "    </tr>\n",
              "    <tr>\n",
              "      <th>8</th>\n",
              "      <td><img src=\"https://drive.google.com/uc?id=1pBuMj7FLJiD0hqkPh3s-hKen3U0bXy21\" alt=\"img\" width=\"100\" height=\"100\"></td>\n",
              "      <td>Falco peregrinus<br>(174)</td>\n",
              "      <td>live (97.13%) <br></td>\n",
              "      <td>Personal (49.43%) <br>Commercial (47.7%) <br></td>\n",
              "      <td>Bred in captivity (79.89%) <br>Bred in captivity for commercial purposes (16.09%) <br></td>\n",
              "      <td><div style=\"display: flex; margin-bottom: 3px;\">                        <img src=\"https://drive.google.com/uc?id=1ORAEQjzBwdIhUkwKlstsGNDJk30lu1Nr\" title=\"AE\">(19.54%)</div><div style=\"display: flex; margin-bottom: 3px;\">                        <img src=\"https://drive.google.com/uc?id=149OEzCXv8hJb1y2jm6ji5WVyXuFTsXmY\" title=\"DE\">(11.49%)</div></td>\n",
              "      <td><div style=\"display: flex; margin-bottom: 3px;\">                        <img src=\"https://drive.google.com/uc?id=1ORAEQjzBwdIhUkwKlstsGNDJk30lu1Nr\" title=\"AE\">(36.78%)</div><div style=\"display: flex; margin-bottom: 3px;\">                        <img src=\"https://drive.google.com/uc?id=1IfoYjTD2d-yVv34hGf0kLtdIa1X7PfeD\" title=\"QA\">(25.86%)</div></td>\n",
              "    </tr>\n",
              "    <tr>\n",
              "      <th>9</th>\n",
              "      <td><img src=\"https://drive.google.com/uc?id=18ggnXUYnq8VsChqhwdfCVKeeNuk5rkdV\" alt=\"img\" width=\"100\" height=\"100\"></td>\n",
              "      <td>Elephas maximus<br>(118)</td>\n",
              "      <td>ivory carvings (68.64%) <br></td>\n",
              "      <td>Circus or travelling exhibition (38.98%) <br>Commercial (33.05%) <br>Personal (22.03%) <br></td>\n",
              "      <td>Pre-Convention specimens (80.51%) <br>Confiscated or seized specimens (10.17%) <br></td>\n",
              "      <td><div style=\"display: flex; margin-bottom: 3px;\">                        <img src=\"https://drive.google.com/uc?id=1Mi86QDBS_amDH4Hf8OYay0yCx3DhLpv2\" title=\"GB\">(21.19%)</div></td>\n",
              "      <td><div style=\"display: flex; margin-bottom: 3px;\">                        <img src=\"https://drive.google.com/uc?id=1LBcjlAO0uaDTaJhVLL9Yu2spL9LxT4TP\" title=\"US\">(21.19%)</div></td>\n",
              "    </tr>\n",
              "  </tbody>\n",
              "</table>"
            ]
          },
          "metadata": {}
        }
      ]
    },
    {
      "cell_type": "markdown",
      "source": [
        "**Overview**\n",
        "\n",
        "the most species of term 'live' are of class Aves and Anthozoa\n",
        "the main purposes for the class Aves is Personal and Commercial\n",
        "the main source for the class Aves is 'Bred if captivity'\n",
        "the main exporter of species of class Aves is the UAE\n",
        "the main importers of species of class Aves are the USA, the UK, the UAE, Kuwait and Qatar\n",
        "the main purpose for the class Anthozoa is Commercial\n",
        "the main sources for the class Anthozoa are 'Taken from wild' and 'Bred if captivity'\n",
        "the main exporters of species of class Anthozoa are Indonesia and Australia\n",
        "the main importers of species of class Anthozoa are France and the USA"
      ],
      "metadata": {
        "id": "tegDQOZRRZ9i"
      }
    },
    {
      "cell_type": "markdown",
      "source": [],
      "metadata": {
        "id": "_HRW5E5TRbrB"
      }
    }
  ]
}